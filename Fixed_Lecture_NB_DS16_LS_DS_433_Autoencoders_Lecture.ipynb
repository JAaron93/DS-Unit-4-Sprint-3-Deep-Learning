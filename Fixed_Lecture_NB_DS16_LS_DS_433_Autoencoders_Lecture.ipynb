{
  "nbformat": 4,
  "nbformat_minor": 0,
  "metadata": {
    "accelerator": "GPU",
    "colab": {
      "name": "DS16_LS_DS_433_Autoencoders_Lecture.ipynb",
      "provenance": [],
      "include_colab_link": true
    },
    "kernelspec": {
      "display_name": "Python 3",
      "language": "python",
      "name": "python3"
    },
    "language_info": {
      "codemirror_mode": {
        "name": "ipython",
        "version": 3
      },
      "file_extension": ".py",
      "mimetype": "text/x-python",
      "name": "python",
      "nbconvert_exporter": "python",
      "pygments_lexer": "ipython3",
      "version": "3.8.5"
    }
  },
  "cells": [
    {
      "cell_type": "markdown",
      "metadata": {
        "id": "view-in-github",
        "colab_type": "text"
      },
      "source": [
        "<a href=\"https://colab.research.google.com/github/JAaron93/DS-Unit-4-Sprint-3-Deep-Learning/blob/main/Fixed_Lecture_NB_DS16_LS_DS_433_Autoencoders_Lecture.ipynb\" target=\"_parent\"><img src=\"https://colab.research.google.com/assets/colab-badge.svg\" alt=\"Open In Colab\"/></a>"
      ]
    },
    {
      "cell_type": "markdown",
      "metadata": {
        "id": "rr7YTT3AcXaN"
      },
      "source": [
        "Lambda School Data Science\n",
        "\n",
        "*Unit 4, Sprint 3, Module 3*\n",
        "\n",
        "---"
      ]
    },
    {
      "cell_type": "markdown",
      "metadata": {
        "id": "3uqI18GbcXaO"
      },
      "source": [
        "# Autoencoders\n",
        "\n",
        "> An autoencoder is a type of artificial neural network used to learn efficient data codings in an unsupervised manner.[1][2] The aim of an autoencoder is to learn a representation (encoding) for a set of data, typically for dimensionality reduction, by training the network to ignore signal “noise”. Along with the reduction side, a reconstructing side is learnt, where the autoencoder tries to generate from the reduced encoding a representation as close as possible to its original input, hence its name. "
      ]
    },
    {
      "cell_type": "markdown",
      "metadata": {
        "id": "VWvVBDJTcXaP"
      },
      "source": [
        "## Learning Objectives\n",
        "*At the end of the lecture you should be to*:\n",
        "* <a href=\"#p1\">Part 1</a>: Describe the componenets of an autoencoder\n",
        "* <a href=\"#p2\">Part 2</a>: Train an autoencoder\n",
        "* <a href=\"#p3\">Part 3</a>: Apply an autoenocder to a basic information retrieval problem\n",
        "\n",
        "__Problem:__ Is it possible to automatically represent an image as a fixed-sized vector even if it isn’t labeled?\n",
        "\n",
        "__Solution:__ Use an autoencoder\n",
        "\n",
        "Why do we need to represent an image as a fixed-sized vector do you ask? \n",
        "\n",
        "* __Information Retrieval__\n",
        "    - [Reverse Image Search](https://en.wikipedia.org/wiki/Reverse_image_search)\n",
        "    - [Recommendation Systems - Content Based Filtering](https://en.wikipedia.org/wiki/Recommender_system#Content-based_filtering)\n",
        "* __Dimensionality Reduction__\n",
        "    - [Feature Extraction](https://www.kaggle.com/c/vsb-power-line-fault-detection/discussion/78285)\n",
        "    - [Manifold Learning](https://en.wikipedia.org/wiki/Nonlinear_dimensionality_reduction)\n",
        "\n",
        "We've already seen *representation learning* when we talked about word embedding modelings during our NLP week. Today we're going to achieve a similiar goal on images using *autoencoders*. An autoencoder is a neural network that is trained to attempt to copy its input to its output. Usually they are restricted in ways that allow them to copy only approximately. The model often learns useful properties of the data, because it is forced to prioritize which aspecs of the input should be copied. The properties of autoencoders have made them an important part of modern generative modeling approaches. Consider autoencoders a special case of feed-forward networks (the kind we've been studying); backpropagation and gradient descent still work. "
      ]
    },
    {
      "cell_type": "markdown",
      "metadata": {
        "id": "b1i4mE8XcXaP"
      },
      "source": [
        "# Autoencoder Architecture (Learn)\n",
        "<a id=\"p1\"></a>"
      ]
    },
    {
      "cell_type": "markdown",
      "metadata": {
        "id": "zrjRqfCMcXaQ"
      },
      "source": [
        "## Overview\n",
        "\n",
        "The *encoder* compresses the input data and the *decoder* does the reverse to produce the uncompressed version of the data to create a reconstruction of the input as accurately as possible:\n",
        "\n",
        "<img src='https://miro.medium.com/max/1400/1*44eDEuZBEsmG_TCAKRI3Kw@2x.png' width=800/>\n",
        "\n",
        "The learning process gis described simply as minimizing a loss function: \n",
        "$ L(x, g(f(x))) $\n",
        "\n",
        "- $L$ is a loss function penalizing $g(f(x))$ for being dissimiliar from $x$ (such as mean squared error)\n",
        "- $f$ is the encoder function\n",
        "- $g$ is the decoder function"
      ]
    },
    {
      "cell_type": "markdown",
      "metadata": {
        "id": "pJ-rDLPOpykI"
      },
      "source": [
        "![](https://miro.medium.com/max/3110/0*uq2_ZipB9TqI9G_k)"
      ]
    },
    {
      "cell_type": "markdown",
      "metadata": {
        "id": "Ok2R0X_tcXaQ"
      },
      "source": [
        "## Follow Along\n",
        "### Extremely Simple Autoencoder"
      ]
    },
    {
      "cell_type": "code",
      "metadata": {
        "id": "4QaZ8snDhGTZ",
        "colab": {
          "base_uri": "https://localhost:8080/"
        },
        "outputId": "94884cba-095e-410a-c292-07a390295138"
      },
      "source": [
        "import tensorflow as tf\n",
        "import numpy as np\n",
        "import os\n",
        "%load_ext tensorboard\n",
        "\n",
        "# needed to update link\n",
        "# use this link, here -- it works! \n",
        "URL_ = \"https://github.com/LambdaSchool/DS-Unit-4-Sprint-2-Neural-Networks/blob/main/quickdraw10.npz?raw=true\"\n",
        "\n",
        "# create directory to store images that we'll we will be using to train out auto-encoders \n",
        "path_to_zip = tf.keras.utils.get_file('./quickdraw10.npz', origin=URL_, extract=False)"
      ],
      "execution_count": 1,
      "outputs": [
        {
          "output_type": "stream",
          "text": [
            "Downloading data from https://github.com/LambdaSchool/DS-Unit-4-Sprint-2-Neural-Networks/blob/main/quickdraw10.npz?raw=true\n",
            "25427968/25421363 [==============================] - 0s 0us/step\n"
          ],
          "name": "stdout"
        }
      ]
    },
    {
      "cell_type": "code",
      "metadata": {
        "colab": {
          "base_uri": "https://localhost:8080/"
        },
        "id": "jyb24VA-h08O",
        "outputId": "5969e734-e777-4394-f1af-b46c803b5f03"
      },
      "source": [
        "data = np.load(path_to_zip)\n",
        "\n",
        "x_train = data['arr_0']\n",
        "y_train = data['arr_1']\n",
        "\n",
        "print(x_train.shape)\n",
        "print(y_train.shape)"
      ],
      "execution_count": 2,
      "outputs": [
        {
          "output_type": "stream",
          "text": [
            "(100000, 784)\n",
            "(100000,)\n"
          ],
          "name": "stdout"
        }
      ]
    },
    {
      "cell_type": "code",
      "metadata": {
        "colab": {
          "base_uri": "https://localhost:8080/"
        },
        "id": "c82lWL60pykM",
        "outputId": "2efc62fc-9960-4932-bb77-1d2f3ae8ec27"
      },
      "source": [
        "# data is loaded in already as 1D row vectors \n",
        "x_train[0].shape"
      ],
      "execution_count": 3,
      "outputs": [
        {
          "output_type": "execute_result",
          "data": {
            "text/plain": [
              "(784,)"
            ]
          },
          "metadata": {
            "tags": []
          },
          "execution_count": 3
        }
      ]
    },
    {
      "cell_type": "code",
      "metadata": {
        "id": "muNdhQdbiLlk"
      },
      "source": [
        "class_names = ['apple',\n",
        " 'anvil',\n",
        " 'airplane',\n",
        " 'banana',\n",
        " 'The Eiffel Tower',\n",
        " 'The Mona Lisa',\n",
        " 'The Great Wall of China',\n",
        " 'alarm clock',\n",
        " 'ant',\n",
        " 'asparagus']"
      ],
      "execution_count": 4,
      "outputs": []
    },
    {
      "cell_type": "code",
      "metadata": {
        "colab": {
          "base_uri": "https://localhost:8080/",
          "height": 289
        },
        "id": "U8qMbTQoiNUz",
        "outputId": "4b971029-a67c-4800-eb0b-8f4cb990f5b2"
      },
      "source": [
        "import matplotlib.pyplot as plt\n",
        "plt.figure(figsize=(10,5))\n",
        "start = 0\n",
        "\n",
        "# helper function used to plot images \n",
        "for num, name in enumerate(class_names):\n",
        "    plt.subplot(2,5, num+1)\n",
        "    plt.xticks([])\n",
        "    plt.yticks([])\n",
        "    plt.grid(False)\n",
        "    plt.imshow(x_train[start].reshape(28,28), cmap=plt.cm.binary)\n",
        "    plt.xlabel(name)\n",
        "    start += 10000\n",
        "plt.show()"
      ],
      "execution_count": 5,
      "outputs": [
        {
          "output_type": "display_data",
          "data": {
            "image/png": "[encoded data removed]",
            "text/plain": [
              "<Figure size 720x360 with 10 Axes>"
            ]
          },
          "metadata": {
            "tags": []
          }
        }
      ]
    },
    {
      "cell_type": "markdown",
      "metadata": {
        "id": "djPvOyaLpykP"
      },
      "source": [
        "### Prep data"
      ]
    },
    {
      "cell_type": "code",
      "metadata": {
        "colab": {
          "base_uri": "https://localhost:8080/"
        },
        "id": "Xhgpqey_pykQ",
        "outputId": "f3bc2b4f-160a-4fd0-85fe-a96e0985084b"
      },
      "source": [
        "from sklearn.utils import shuffle\n",
        "# Shuffle\n",
        "# also a good idea to suffice data before using it to build a model\n",
        "x_train, y_train = shuffle(x_train, y_train)\n",
        "\n",
        "# Normalize \n",
        "# we are scaling the pixel values between 0 and 1 by dividing by the largest pixel value (i.e. 255)\n",
        "max_pixel_value = x_train.max()\n",
        "x_train = x_train.astype('float32') / max_pixel_value\n",
        "print(x_train.shape)"
      ],
      "execution_count": 6,
      "outputs": [
        {
          "output_type": "stream",
          "text": [
            "(100000, 784)\n"
          ],
          "name": "stdout"
        }
      ]
    },
    {
      "cell_type": "code",
      "metadata": {
        "id": "L43oMH2fpykR"
      },
      "source": [
        "# Check that our pixel values are indeed normalized \n",
        "assert x_train.min() == 0.0\n",
        "assert x_train.max() == 1.0"
      ],
      "execution_count": 7,
      "outputs": []
    },
    {
      "cell_type": "code",
      "metadata": {
        "deletable": false,
        "id": "pc8jK6kwcXaW",
        "nbgrader": {
          "cell_type": "code",
          "checksum": "375d2de2e1c6dc628683199865d6a0f1",
          "grade": false,
          "grade_id": "cell-7d27ea50b6481668",
          "locked": false,
          "schema_version": 3,
          "solution": true,
          "task": false
        }
      },
      "source": [
        "# YOUR CODE HERE\n",
        "from tensorflow.keras.layers import Input, Dense\n",
        "from tensorflow.keras.models import Model\n",
        "from tensorflow.keras.callbacks import EarlyStopping, TensorBoard"
      ],
      "execution_count": 8,
      "outputs": []
    },
    {
      "cell_type": "code",
      "metadata": {
        "id": "iBioqFNvqqqh"
      },
      "source": [
        "# build simple auto-encoder\n",
        "\n",
        "# save input data dimensions to variable\n",
        "input_dims = x_train.shape[1]\n",
        "shape = (input_dims,)\n",
        "\n",
        "# decoder dimensions (i.e. 784 dimensions)\n",
        "decoding_dim = input_dims\n",
        "\n",
        "# encoder output dimensions\n",
        "latent_vect_dims = 32\n",
        "\n",
        "# create input layer\n",
        "inputs = Input(shape=shape)\n",
        "\n",
        "# create encoder layer\n",
        "# We can think of each layer as an individual function y = f(x)\n",
        "# We don't think of f(x) as f times x, so don't think of this as Dense times x\n",
        "\n",
        "\n",
        "# y = f(x) <=> layer_output = Dense(parameters)(layer_input)\n",
        "# Dense layer is a mathematical function with inputs that are passed into it so\n",
        "# that it may give outputs. \n",
        "# We can even concieve of neural networks as composite functions\n",
        "\n",
        "# With a Model class we have to give an extra 'layer of clarity' considering the \n",
        "# flexibility of the NN architecture we can build in contrast to the simple, \n",
        "# yet limited architectonics of the Sequential Class\n",
        "\n",
        "# What comes from the inputs layer will go into the encoder layer\n",
        "encoded = Dense(latent_vect_dims, activation=\"relu\")(inputs)\n",
        "\n",
        "# create decoder layer\n",
        "# compressed vector we pass in has to be decoded/uncompressed. It does this to reconstruct the original image\n",
        "decoded =  Dense(decoding_dim, activation=\"sigmoid\")(encoded)\n",
        "\n",
        "# bring it all together using the model API. inputs is the original image, and outputs is our reconstructed image with some layers inbetween them\n",
        "# Now we're using the Model class. Allows more flexibility for how we build our models.\n",
        "# \n",
        "autoencoder_simple = Model(inputs=inputs, outputs=decoded, name=\"simple_autoencoder\")"
      ],
      "execution_count": 9,
      "outputs": []
    },
    {
      "cell_type": "code",
      "metadata": {
        "id": "Zf3V-kwOcXad"
      },
      "source": [
        "# compiling our Model class model\n",
        "autoencoder_simple.compile(optimizer='nadam', loss='binary_crossentropy')"
      ],
      "execution_count": 10,
      "outputs": []
    },
    {
      "cell_type": "code",
      "metadata": {
        "colab": {
          "base_uri": "https://localhost:8080/"
        },
        "id": "HuZJmySHpykT",
        "outputId": "9955d7cd-f208-4403-954c-d02f5433ee21"
      },
      "source": [
        "autoencoder_simple.summary()\n",
        "# Here we can see that the dimensions of our image were 784, were compressed to 32,\n",
        "# before being reconstructed with its original 784 dimensions by the final/output layer"
      ],
      "execution_count": 11,
      "outputs": [
        {
          "output_type": "stream",
          "text": [
            "Model: \"simple_autoencoder\"\n",
            "_________________________________________________________________\n",
            "Layer (type)                 Output Shape              Param #   \n",
            "=================================================================\n",
            "input_1 (InputLayer)         [(None, 784)]             0         \n",
            "_________________________________________________________________\n",
            "dense (Dense)                (None, 32)                25120     \n",
            "_________________________________________________________________\n",
            "dense_1 (Dense)              (None, 784)               25872     \n",
            "=================================================================\n",
            "Total params: 50,992\n",
            "Trainable params: 50,992\n",
            "Non-trainable params: 0\n",
            "_________________________________________________________________\n"
          ],
          "name": "stdout"
        }
      ]
    },
    {
      "cell_type": "code",
      "metadata": {
        "colab": {
          "base_uri": "https://localhost:8080/"
        },
        "id": "VO0acALycXak",
        "outputId": "ccd070b5-4ad3-4d26-c5e0-dce5614b054a"
      },
      "source": [
        "import os\n",
        "import datetime\n",
        "\n",
        "from tensorflow.keras.callbacks import TensorBoard\n",
        "# tf.keras.callbacks.TesnorBoard()\n",
        "\n",
        "# cut off training if loss doesn't decrease by a certain amount over X number of epoches \n",
        "stop = EarlyStopping(monitor='val_loss', min_delta=0.001, patience=2)\n",
        "now = datetime.datetime.now().strftime(\"%Y%m%d-%H%M%S\")\n",
        "\n",
        "logdir = os.path.join(\"logs\", f\"SimpleAutoencoder-{now}\")\n",
        "tensorboard = TensorBoard(log_dir=logdir)\n",
        "\n",
        "autoencoder_simple.fit(x_train, # input image to encoder\n",
        "                x_train, # provide input image to decoder so the model learns how to reconstruct the input image \n",
        "                epochs=100,\n",
        "                batch_size=64,\n",
        "                shuffle=True,\n",
        "                validation_split=.2,\n",
        "                verbose = True,\n",
        "                callbacks=[stop, tensorboard])"
      ],
      "execution_count": 12,
      "outputs": [
        {
          "output_type": "stream",
          "text": [
            "Epoch 1/100\n",
            "1250/1250 [==============================] - 6s 3ms/step - loss: 0.2935 - val_loss: 0.2430\n",
            "Epoch 2/100\n",
            "1250/1250 [==============================] - 3s 2ms/step - loss: 0.2333 - val_loss: 0.2282\n",
            "Epoch 3/100\n",
            "1250/1250 [==============================] - 3s 2ms/step - loss: 0.2255 - val_loss: 0.2245\n",
            "Epoch 4/100\n",
            "1250/1250 [==============================] - 3s 3ms/step - loss: 0.2234 - val_loss: 0.2236\n",
            "Epoch 5/100\n",
            "1250/1250 [==============================] - 3s 2ms/step - loss: 0.2227 - val_loss: 0.2229\n",
            "Epoch 6/100\n",
            "1250/1250 [==============================] - 3s 2ms/step - loss: 0.2223 - val_loss: 0.2225\n",
            "Epoch 7/100\n",
            "1250/1250 [==============================] - 3s 3ms/step - loss: 0.2221 - val_loss: 0.2223\n"
          ],
          "name": "stdout"
        },
        {
          "output_type": "execute_result",
          "data": {
            "text/plain": [
              "<tensorflow.python.keras.callbacks.History at 0x7f1abc115ed0>"
            ]
          },
          "metadata": {
            "tags": []
          },
          "execution_count": 12
        }
      ]
    },
    {
      "cell_type": "markdown",
      "metadata": {
        "id": "SvW1efMopykV"
      },
      "source": [
        "### Use Trained Model to Reconstruct Images\n"
      ]
    },
    {
      "cell_type": "code",
      "metadata": {
        "id": "FTWLm80scXao"
      },
      "source": [
        "# encode and decode some images\n",
        "# original images go in (i.e, x_train) and decoded images come out (i.e. a non-perfect reconstruction of x_train)\n",
        "decoded_imgs = autoencoder_simple(x_train)"
      ],
      "execution_count": 13,
      "outputs": []
    },
    {
      "cell_type": "code",
      "metadata": {
        "colab": {
          "base_uri": "https://localhost:8080/",
          "height": 145
        },
        "id": "8SUHJ0fWcXaq",
        "outputId": "1d776236-1d11-441b-a3f0-f083e7476314"
      },
      "source": [
        "# use Matplotlib (don't ask)\n",
        "import matplotlib.pyplot as plt\n",
        "\n",
        "### helper fuction for plotting reconstructed and original images \n",
        "n = 10  # how many digits we will display\n",
        "plt.figure(figsize=(20, 4))\n",
        "for i in range(n):\n",
        "    # display original\n",
        "    ax = plt.subplot(2, n, i + 1)\n",
        "    plt.imshow(x_train[i].reshape(28, 28))\n",
        "    plt.gray()\n",
        "    ax.get_xaxis().set_visible(False)\n",
        "    ax.get_yaxis().set_visible(False)\n",
        "\n",
        "    # display reconstruction\n",
        "    ax = plt.subplot(2, n, i + 1 + n)\n",
        "    plt.imshow(decoded_imgs[i].numpy().reshape(28, 28))\n",
        "    plt.gray()\n",
        "    ax.get_xaxis().set_visible(False)\n",
        "    ax.get_yaxis().set_visible(False)\n",
        "plt.show()"
      ],
      "execution_count": 14,
      "outputs": [
        {
          "output_type": "display_data",
          "data": {
            "image/png": "[encoded data removed]",
            "text/plain": [
              "<Figure size 1440x288 with 20 Axes>"
            ]
          },
          "metadata": {
            "tags": [],
            "needs_background": "light"
          }
        }
      ]
    },
    {
      "cell_type": "markdown",
      "metadata": {
        "id": "yxc_HMmpcXas"
      },
      "source": [
        "## Challenge\n",
        "\n",
        "Expected to talk about the components of autoencoder and their purpose. "
      ]
    },
    {
      "cell_type": "markdown",
      "metadata": {
        "id": "N4Ul6Iy4cXas"
      },
      "source": [
        "# Train an Autoencoder (Learn)\n",
        "<a id=\"p2\"></a>"
      ]
    },
    {
      "cell_type": "markdown",
      "metadata": {
        "id": "Ebglt0jdcXas"
      },
      "source": [
        "## Overview\n",
        "\n",
        "As long as our architecture maintains an hourglass shape, we can continue to add layers and create a deeper network. "
      ]
    },
    {
      "cell_type": "markdown",
      "metadata": {
        "id": "e_4G6nPkcXat",
        "toc-hr-collapsed": true
      },
      "source": [
        "## Follow Along"
      ]
    },
    {
      "cell_type": "markdown",
      "metadata": {
        "id": "tRKdX-cXcXat"
      },
      "source": [
        "### Deep Autoencoder"
      ]
    },
    {
      "cell_type": "code",
      "metadata": {
        "deletable": false,
        "id": "9HMm7qudcXat",
        "nbgrader": {
          "cell_type": "code",
          "checksum": "9fe7b5108b54218104f469bd2034c729",
          "grade": false,
          "grade_id": "cell-714cfeff1d33d217",
          "locked": false,
          "schema_version": 3,
          "solution": true,
          "task": false
        }
      },
      "source": [
        "#                                encoder     ->    decoder \n",
        "# dim of each hidden layer: 784, 128, 64, 32 -> 64, 128, 784\n",
        "\n",
        "# YOUR CODE HERE\n",
        "# input layer\n",
        "inputs = Input(shape=(784,))\n",
        "\n",
        "# 1st encoding layer. Inputs to the first Dense layer are the original input dimensions\n",
        "# Compresses input image into 128 dimension vector\n",
        "encoded_1 = Dense(128, activation=\"relu\")(inputs)\n",
        "\n",
        "# 2nd encoding layer\n",
        "# Compresses 128 dim vect into 64 dim vect\n",
        "encoded_2 = Dense(64, activation=\"relu\")(encoded_1)\n",
        "\n",
        "# 3rd encoding layer\n",
        "# Compresses 64 dim vect into 32 dim vect\n",
        "# This is the final compression that the encoder performs\n",
        "encoded_3 = Dense(32, activation=\"relu\")(encoded_2)\n",
        "\n",
        "## All following layers belong to the decoder ##\n",
        "\n",
        "# 1st decoding layer\n",
        "# Decompresses 32 dim vector into 64 dim vect\n",
        "decoding_1 = Dense(64, activation=\"relu\")(encoded_3)\n",
        "\n",
        "# 2nd decoding layer\n",
        "# Decompresses 64 dim vect into 128 dim vect\n",
        "decoding_2 = Dense(128, activation=\"relu\")(decoding_1)\n",
        "\n",
        "# 3rd decoding layer\n",
        "# Decompresses 128 dim vect into 784 dim vect\n",
        "\n",
        "# Seeing as we're using binary crossentropy later for our compiling, \n",
        "# we're using sigmoid for our output layers activation\n",
        "decoding_3 = Dense(784, activation=\"sigmoid\")(decoding_2)\n",
        "\n",
        "# bring it all together using the Model API\n",
        "autoencoder_deep = Model(inputs=inputs, outputs=decoding_3, name=\"autoencoder_deep\")"
      ],
      "execution_count": 18,
      "outputs": []
    },
    {
      "cell_type": "code",
      "metadata": {
        "colab": {
          "base_uri": "https://localhost:8080/"
        },
        "id": "ilejmoRQpykZ",
        "outputId": "931b0c3a-aba3-4340-aad5-f25b71adda19"
      },
      "source": [
        "autoencoder_deep.summary()"
      ],
      "execution_count": 19,
      "outputs": [
        {
          "output_type": "stream",
          "text": [
            "Model: \"autoencoder_deep\"\n",
            "_________________________________________________________________\n",
            "Layer (type)                 Output Shape              Param #   \n",
            "=================================================================\n",
            "input_3 (InputLayer)         [(None, 784)]             0         \n",
            "_________________________________________________________________\n",
            "dense_8 (Dense)              (None, 128)               100480    \n",
            "_________________________________________________________________\n",
            "dense_9 (Dense)              (None, 64)                8256      \n",
            "_________________________________________________________________\n",
            "dense_10 (Dense)             (None, 32)                2080      \n",
            "_________________________________________________________________\n",
            "dense_11 (Dense)             (None, 64)                2112      \n",
            "_________________________________________________________________\n",
            "dense_12 (Dense)             (None, 128)               8320      \n",
            "_________________________________________________________________\n",
            "dense_13 (Dense)             (None, 784)               101136    \n",
            "=================================================================\n",
            "Total params: 222,384\n",
            "Trainable params: 222,384\n",
            "Non-trainable params: 0\n",
            "_________________________________________________________________\n"
          ],
          "name": "stdout"
        }
      ]
    },
    {
      "cell_type": "code",
      "metadata": {
        "colab": {
          "base_uri": "https://localhost:8080/"
        },
        "id": "1vxOBlb1cXav",
        "outputId": "089d9f17-6148-44c5-f5d5-b1dd243a2dc5"
      },
      "source": [
        "# compile & fit model\n",
        "\n",
        "autoencoder_deep.compile(optimizer='nadam', loss='binary_crossentropy')\n",
        "\n",
        "from tensorflow.keras.callbacks import TensorBoard\n",
        "# tf.keras.callbacks.TesnorBoard()\n",
        "\n",
        "stop = EarlyStopping(monitor='val_loss', min_delta=0.0001, patience=5)\n",
        "\n",
        "logdir = os.path.join(\"logs\", f\"DeepAutoencoder\")\n",
        "tensorboard = TensorBoard(log_dir=logdir)\n",
        "\n",
        "autoencoder_deep.fit(x_train, \n",
        "                     x_train,\n",
        "                     epochs=100,\n",
        "                     batch_size=64,\n",
        "                     shuffle=True,\n",
        "                     validation_split=.2,\n",
        "                     verbose = True,\n",
        "                     callbacks=[stop, tensorboard], \n",
        "                     workers=10)"
      ],
      "execution_count": 20,
      "outputs": [
        {
          "output_type": "stream",
          "text": [
            "Epoch 1/100\n",
            "1250/1250 [==============================] - 6s 4ms/step - loss: 0.2868 - val_loss: 0.2509\n",
            "Epoch 2/100\n",
            "1250/1250 [==============================] - 4s 4ms/step - loss: 0.2424 - val_loss: 0.2346\n",
            "Epoch 3/100\n",
            "1250/1250 [==============================] - 4s 3ms/step - loss: 0.2294 - val_loss: 0.2255\n",
            "Epoch 4/100\n",
            "1250/1250 [==============================] - 4s 4ms/step - loss: 0.2217 - val_loss: 0.2183\n",
            "Epoch 5/100\n",
            "1250/1250 [==============================] - 4s 3ms/step - loss: 0.2164 - val_loss: 0.2144\n",
            "Epoch 6/100\n",
            "1250/1250 [==============================] - 4s 4ms/step - loss: 0.2125 - val_loss: 0.2109\n",
            "Epoch 7/100\n",
            "1250/1250 [==============================] - 4s 3ms/step - loss: 0.2092 - val_loss: 0.2087\n",
            "Epoch 8/100\n",
            "1250/1250 [==============================] - 4s 4ms/step - loss: 0.2067 - val_loss: 0.2064\n",
            "Epoch 9/100\n",
            "1250/1250 [==============================] - 4s 4ms/step - loss: 0.2048 - val_loss: 0.2047\n",
            "Epoch 10/100\n",
            "1250/1250 [==============================] - 4s 4ms/step - loss: 0.2032 - val_loss: 0.2044\n",
            "Epoch 11/100\n",
            "1250/1250 [==============================] - 4s 3ms/step - loss: 0.2019 - val_loss: 0.2019\n",
            "Epoch 12/100\n",
            "1250/1250 [==============================] - 4s 3ms/step - loss: 0.2006 - val_loss: 0.2009\n",
            "Epoch 13/100\n",
            "1250/1250 [==============================] - 4s 3ms/step - loss: 0.1992 - val_loss: 0.1996\n",
            "Epoch 14/100\n",
            "1250/1250 [==============================] - 4s 4ms/step - loss: 0.1982 - val_loss: 0.1985\n",
            "Epoch 15/100\n",
            "1250/1250 [==============================] - 4s 4ms/step - loss: 0.1974 - val_loss: 0.1984\n",
            "Epoch 16/100\n",
            "1250/1250 [==============================] - 4s 4ms/step - loss: 0.1967 - val_loss: 0.1974\n",
            "Epoch 17/100\n",
            "1250/1250 [==============================] - 4s 4ms/step - loss: 0.1961 - val_loss: 0.1969\n",
            "Epoch 18/100\n",
            "1250/1250 [==============================] - 4s 4ms/step - loss: 0.1957 - val_loss: 0.1963\n",
            "Epoch 19/100\n",
            "1250/1250 [==============================] - 4s 4ms/step - loss: 0.1952 - val_loss: 0.1957\n",
            "Epoch 20/100\n",
            "1250/1250 [==============================] - 4s 4ms/step - loss: 0.1948 - val_loss: 0.1955\n",
            "Epoch 21/100\n",
            "1250/1250 [==============================] - 4s 3ms/step - loss: 0.1944 - val_loss: 0.1951\n",
            "Epoch 22/100\n",
            "1250/1250 [==============================] - 4s 4ms/step - loss: 0.1941 - val_loss: 0.1947\n",
            "Epoch 23/100\n",
            "1250/1250 [==============================] - 4s 3ms/step - loss: 0.1938 - val_loss: 0.1945\n",
            "Epoch 24/100\n",
            "1250/1250 [==============================] - 4s 3ms/step - loss: 0.1935 - val_loss: 0.1944\n",
            "Epoch 25/100\n",
            "1250/1250 [==============================] - 4s 4ms/step - loss: 0.1932 - val_loss: 0.1941\n",
            "Epoch 26/100\n",
            "1250/1250 [==============================] - 4s 4ms/step - loss: 0.1930 - val_loss: 0.1934\n",
            "Epoch 27/100\n",
            "1250/1250 [==============================] - 4s 4ms/step - loss: 0.1927 - val_loss: 0.1941\n",
            "Epoch 28/100\n",
            "1250/1250 [==============================] - 4s 3ms/step - loss: 0.1924 - val_loss: 0.1931\n",
            "Epoch 29/100\n",
            "1250/1250 [==============================] - 4s 4ms/step - loss: 0.1922 - val_loss: 0.1929\n",
            "Epoch 30/100\n",
            "1250/1250 [==============================] - 4s 3ms/step - loss: 0.1920 - val_loss: 0.1926\n",
            "Epoch 31/100\n",
            "1250/1250 [==============================] - 5s 4ms/step - loss: 0.1918 - val_loss: 0.1930\n",
            "Epoch 32/100\n",
            "1250/1250 [==============================] - 4s 4ms/step - loss: 0.1916 - val_loss: 0.1926\n",
            "Epoch 33/100\n",
            "1250/1250 [==============================] - 4s 3ms/step - loss: 0.1914 - val_loss: 0.1925\n",
            "Epoch 34/100\n",
            "1250/1250 [==============================] - 4s 3ms/step - loss: 0.1912 - val_loss: 0.1923\n",
            "Epoch 35/100\n",
            "1250/1250 [==============================] - 4s 3ms/step - loss: 0.1911 - val_loss: 0.1928\n",
            "Epoch 36/100\n",
            "1250/1250 [==============================] - 4s 4ms/step - loss: 0.1909 - val_loss: 0.1920\n",
            "Epoch 37/100\n",
            "1250/1250 [==============================] - 4s 3ms/step - loss: 0.1907 - val_loss: 0.1916\n",
            "Epoch 38/100\n",
            "1250/1250 [==============================] - 4s 4ms/step - loss: 0.1906 - val_loss: 0.1917\n",
            "Epoch 39/100\n",
            "1250/1250 [==============================] - 4s 4ms/step - loss: 0.1905 - val_loss: 0.1913\n",
            "Epoch 40/100\n",
            "1250/1250 [==============================] - 4s 4ms/step - loss: 0.1903 - val_loss: 0.1919\n",
            "Epoch 41/100\n",
            "1250/1250 [==============================] - 4s 3ms/step - loss: 0.1902 - val_loss: 0.1915\n",
            "Epoch 42/100\n",
            "1250/1250 [==============================] - 4s 3ms/step - loss: 0.1901 - val_loss: 0.1912\n",
            "Epoch 43/100\n",
            "1250/1250 [==============================] - 4s 3ms/step - loss: 0.1900 - val_loss: 0.1911\n",
            "Epoch 44/100\n",
            "1250/1250 [==============================] - 4s 4ms/step - loss: 0.1899 - val_loss: 0.1910\n",
            "Epoch 45/100\n",
            "1250/1250 [==============================] - 4s 3ms/step - loss: 0.1897 - val_loss: 0.1909\n",
            "Epoch 46/100\n",
            "1250/1250 [==============================] - 4s 3ms/step - loss: 0.1896 - val_loss: 0.1906\n",
            "Epoch 47/100\n",
            "1250/1250 [==============================] - 4s 3ms/step - loss: 0.1895 - val_loss: 0.1905\n",
            "Epoch 48/100\n",
            "1250/1250 [==============================] - 4s 3ms/step - loss: 0.1895 - val_loss: 0.1906\n",
            "Epoch 49/100\n",
            "1250/1250 [==============================] - 4s 4ms/step - loss: 0.1894 - val_loss: 0.1902\n",
            "Epoch 50/100\n",
            "1250/1250 [==============================] - 4s 4ms/step - loss: 0.1893 - val_loss: 0.1906\n",
            "Epoch 51/100\n",
            "1250/1250 [==============================] - 4s 3ms/step - loss: 0.1891 - val_loss: 0.1904\n",
            "Epoch 52/100\n",
            "1250/1250 [==============================] - 4s 3ms/step - loss: 0.1891 - val_loss: 0.1904\n",
            "Epoch 53/100\n",
            "1250/1250 [==============================] - 4s 4ms/step - loss: 0.1890 - val_loss: 0.1903\n",
            "Epoch 54/100\n",
            "1250/1250 [==============================] - 4s 4ms/step - loss: 0.1889 - val_loss: 0.1902\n"
          ],
          "name": "stdout"
        },
        {
          "output_type": "execute_result",
          "data": {
            "text/plain": [
              "<tensorflow.python.keras.callbacks.History at 0x7f1aa046f2d0>"
            ]
          },
          "metadata": {
            "tags": []
          },
          "execution_count": 20
        }
      ]
    },
    {
      "cell_type": "markdown",
      "metadata": {
        "id": "Te7ewETApyka"
      },
      "source": [
        "### Use trained model to reconstruct images"
      ]
    },
    {
      "cell_type": "code",
      "metadata": {
        "id": "oWuMy_LhtSdo"
      },
      "source": [
        "decoded_imgs = autoencoder_deep.predict(x_train)"
      ],
      "execution_count": 21,
      "outputs": []
    },
    {
      "cell_type": "code",
      "metadata": {
        "colab": {
          "base_uri": "https://localhost:8080/",
          "height": 145
        },
        "id": "XKD_HxI6cXax",
        "outputId": "6bf9b29a-b511-4ce4-bdb5-54f0897c5346"
      },
      "source": [
        "# use Matplotlib (don't ask)\n",
        "import matplotlib.pyplot as plt\n",
        "\n",
        "n = 10  # how many digits we will display\n",
        "plt.figure(figsize=(20, 4))\n",
        "for i in range(n):\n",
        "    # display original\n",
        "    ax = plt.subplot(2, n, i + 1)\n",
        "    plt.imshow(x_train[i].reshape(28, 28))\n",
        "    plt.gray()\n",
        "    ax.get_xaxis().set_visible(False)\n",
        "    ax.get_yaxis().set_visible(False)\n",
        "\n",
        "    # display reconstruction\n",
        "    ax = plt.subplot(2, n, i + 1 + n)\n",
        "    plt.imshow(decoded_imgs[i].reshape(28, 28))\n",
        "    plt.gray()\n",
        "    ax.get_xaxis().set_visible(False)\n",
        "    ax.get_yaxis().set_visible(False)\n",
        "plt.show()"
      ],
      "execution_count": 22,
      "outputs": [
        {
          "output_type": "display_data",
          "data": {
            "image/png": "[encoded data removed]",
            "text/plain": [
              "<Figure size 1440x288 with 20 Axes>"
            ]
          },
          "metadata": {
            "tags": [],
            "needs_background": "light"
          }
        }
      ]
    },
    {
      "cell_type": "markdown",
      "metadata": {
        "id": "LDIK_lTvcXaz",
        "toc-hr-collapsed": true
      },
      "source": [
        "### Convolutional autoencoder\n",
        "\n",
        "> Since our inputs are images, it makes sense to use convolutional neural networks (convnets) as encoders and decoders. In practical settings, autoencoders applied to images are always convolutional autoencoders --they simply perform much better.\n",
        "\n",
        "> Let's implement one. The encoder will consist in a stack of Conv2D and MaxPooling2D layers (max pooling being used for spatial down-sampling), while the decoder will consist in a stack of Conv2D and UpSampling2D layers."
      ]
    },
    {
      "cell_type": "code",
      "metadata": {
        "id": "rX8irpN0vKqX"
      },
      "source": [
        "# we need to transfor our row vectors back into matrices\n",
        "# because the convolutional and pooling layers expect images in the form of matrices \n",
        "x_train = x_train.reshape((x_train.shape[0], 28, 28))"
      ],
      "execution_count": 23,
      "outputs": []
    },
    {
      "cell_type": "code",
      "metadata": {
        "colab": {
          "base_uri": "https://localhost:8080/"
        },
        "id": "3hZi6W7dOxCu",
        "outputId": "267e73da-b860-4233-f020-df6f8512440f"
      },
      "source": [
        "x_train[0].shape"
      ],
      "execution_count": 24,
      "outputs": [
        {
          "output_type": "execute_result",
          "data": {
            "text/plain": [
              "(28, 28)"
            ]
          },
          "metadata": {
            "tags": []
          },
          "execution_count": 24
        }
      ]
    },
    {
      "cell_type": "markdown",
      "metadata": {
        "id": "UP0yGmLwpyke"
      },
      "source": [
        "### Example Image of a Conv Autoencoder \n",
        "\n",
        "![](https://www.researchgate.net/profile/Xifeng-Guo/publication/320658590/figure/fig1/AS:614154637418504@1523437284408/The-structure-of-proposed-Convolutional-AutoEncoders-CAE-for-MNIST-In-the-middle-there.png)"
      ]
    },
    {
      "cell_type": "code",
      "metadata": {
        "colab": {
          "base_uri": "https://localhost:8080/"
        },
        "id": "lpIgmM-vpyke",
        "outputId": "8b02a72a-e0b5-4bca-da77-e2d2e59d28c2"
      },
      "source": [
        "4 * 4* 8"
      ],
      "execution_count": 25,
      "outputs": [
        {
          "output_type": "execute_result",
          "data": {
            "text/plain": [
              "128"
            ]
          },
          "metadata": {
            "tags": []
          },
          "execution_count": 25
        }
      ]
    },
    {
      "cell_type": "code",
      "metadata": {
        "deletable": false,
        "id": "BpTNh1YyvYgK",
        "nbgrader": {
          "cell_type": "code",
          "checksum": "fa6de1fde32d9ca2aa2a00588a9d32cb",
          "grade": false,
          "grade_id": "cell-1503cd6388e2ea1a",
          "locked": false,
          "schema_version": 3,
          "solution": true,
          "task": false
        }
      },
      "source": [
        "from tensorflow.keras.layers import Input, Dense, Conv2D, MaxPooling2D, UpSampling2D, Flatten, Reshape\n",
        "from tensorflow.keras.models import Model\n",
        "\n",
        "# YOUR CODE HERE\n",
        "\n",
        "# Our model architecture we're building here is meant to mimic the image above\n",
        "# define some paramters || dims of each, individual sample\n",
        "input_shape = (28,28, 1)\n",
        "\n",
        "# weight matrix parameters\n",
        "weight_matrix_size = (3,3)\n",
        "pooling_size = (2,2)\n",
        "\n",
        "# input layer \n",
        "inputs=Input(shape=input_shape)\n",
        "\n",
        "# All these encoded variables are being assigning the output and passing\n",
        "# it into the next as an input until we reach the end\n",
        "\n",
        "# encoding layers. 16 weight matrices which will output 16 map matrices\n",
        "encoded = Conv2D(16, weight_matrix_size, activation=\"relu\", padding=\"same\")(inputs)\n",
        "encoded = MaxPooling2D(pooling_size, padding=\"same\")(encoded)\n",
        "\n",
        "encoded = Conv2D(8, weight_matrix_size, activation=\"relu\", padding=\"same\")(encoded)\n",
        "encoded = MaxPooling2D(pooling_size, padding=\"same\")(encoded)\n",
        "\n",
        "# padding=\"same\" means there are the same amount of values on both sides\n",
        "encoded = Conv2D(8, weight_matrix_size, activation=\"relu\", padding=\"same\")(encoded)\n",
        "# At this point the data is in the following shape. (4,4,8)\n",
        "# 4 by 4 matrix with 8 of them stacked ontop of each other (Rank 4 Tensor)\n",
        "encoded = MaxPooling2D(pooling_size, padding=\"same\")(encoded)\n",
        "# flatten 3D tensor into 1D vector in preperation for the Dense layer\n",
        "encoded_vect = Flatten()(encoded)\n",
        "# 128 = 4*4*8\n",
        "encoded_vect = Dense(128, activation=\"relu\")(encoded_vect)\n",
        "\n",
        "# Reshaping 1D vectors into 2D matrices\n",
        "# Convolutional layers expect a 2D input, this is why we are juggling \n",
        "# these shapes back and forth\n",
        "encoded = Reshape((4,4,8))(encoded_vect)\n",
        "\n",
        "### decoding layers ###\n",
        "decoded = Conv2D(8, weight_matrix_size, activation=\"relu\", padding=\"same\")(encoded)\n",
        "decoded = UpSampling2D(pooling_size)(decoded)\n",
        "decoded = Conv2D(8, weight_matrix_size, activation=\"relu\", padding=\"same\")(decoded)\n",
        "decoded = UpSampling2D(pooling_size)(decoded)\n",
        "decoded = Conv2D(16, weight_matrix_size, activation=\"relu\")(decoded)\n",
        "decoded = UpSampling2D(pooling_size)(decoded)\n",
        "# because this is the final reconstruction of the original image\n",
        "# we must necessarily use a single weight matrix for the convolution \n",
        "# so that the final output is a 2D matrix and not a rank 3 Tensor (i.e. a volume)\n",
        "decoded = Conv2D(1, weight_matrix_size, activation=\"sigmoid\", padding=\"same\")(decoded)\n",
        "# bring it all together using the Mode API\n",
        "conv_autoencoder = Model(inputs=inputs, outputs=decoded, name=\"conv_autoencoder\")\n"
      ],
      "execution_count": 30,
      "outputs": []
    },
    {
      "cell_type": "code",
      "metadata": {
        "colab": {
          "base_uri": "https://localhost:8080/"
        },
        "id": "laNVCpJzpykf",
        "outputId": "1a1a966b-a766-49fb-ebe8-68ff57c38416"
      },
      "source": [
        "conv_autoencoder.summary()"
      ],
      "execution_count": 31,
      "outputs": [
        {
          "output_type": "stream",
          "text": [
            "Model: \"conv_autoencoder\"\n",
            "_________________________________________________________________\n",
            "Layer (type)                 Output Shape              Param #   \n",
            "=================================================================\n",
            "input_4 (InputLayer)         [(None, 28, 28, 1)]       0         \n",
            "_________________________________________________________________\n",
            "conv2d (Conv2D)              (None, 28, 28, 16)        160       \n",
            "_________________________________________________________________\n",
            "max_pooling2d (MaxPooling2D) (None, 14, 14, 16)        0         \n",
            "_________________________________________________________________\n",
            "conv2d_1 (Conv2D)            (None, 14, 14, 8)         1160      \n",
            "_________________________________________________________________\n",
            "max_pooling2d_1 (MaxPooling2 (None, 7, 7, 8)           0         \n",
            "_________________________________________________________________\n",
            "conv2d_2 (Conv2D)            (None, 7, 7, 8)           584       \n",
            "_________________________________________________________________\n",
            "max_pooling2d_2 (MaxPooling2 (None, 4, 4, 8)           0         \n",
            "_________________________________________________________________\n",
            "flatten (Flatten)            (None, 128)               0         \n",
            "_________________________________________________________________\n",
            "dense_14 (Dense)             (None, 128)               16512     \n",
            "_________________________________________________________________\n",
            "reshape (Reshape)            (None, 4, 4, 8)           0         \n",
            "_________________________________________________________________\n",
            "conv2d_3 (Conv2D)            (None, 4, 4, 8)           584       \n",
            "_________________________________________________________________\n",
            "up_sampling2d (UpSampling2D) (None, 8, 8, 8)           0         \n",
            "_________________________________________________________________\n",
            "conv2d_4 (Conv2D)            (None, 8, 8, 8)           584       \n",
            "_________________________________________________________________\n",
            "up_sampling2d_1 (UpSampling2 (None, 16, 16, 8)         0         \n",
            "_________________________________________________________________\n",
            "conv2d_5 (Conv2D)            (None, 14, 14, 16)        1168      \n",
            "_________________________________________________________________\n",
            "up_sampling2d_2 (UpSampling2 (None, 28, 28, 16)        0         \n",
            "_________________________________________________________________\n",
            "conv2d_6 (Conv2D)            (None, 28, 28, 1)         145       \n",
            "=================================================================\n",
            "Total params: 20,897\n",
            "Trainable params: 20,897\n",
            "Non-trainable params: 0\n",
            "_________________________________________________________________\n"
          ],
          "name": "stdout"
        }
      ]
    },
    {
      "cell_type": "code",
      "metadata": {
        "colab": {
          "base_uri": "https://localhost:8080/"
        },
        "id": "zN6zCoovcXa8",
        "outputId": "401180a0-342c-4b01-8ddf-be7477f5f928"
      },
      "source": [
        "# compile & fit model\n",
        "from tensorflow.keras.callbacks import EarlyStopping, TensorBoard\n",
        "import os\n",
        "import datetime\n",
        "\n",
        "conv_autoencoder.compile(optimizer='nadam', loss='binary_crossentropy')\n",
        "\n",
        "from tensorflow.keras.callbacks import TensorBoard\n",
        "# tf.keras.callbacks.TesnorBoard()\n",
        "\n",
        "stop = EarlyStopping(monitor='val_loss', min_delta=0.01, patience=5)\n",
        "\n",
        "logdir = os.path.join(\"logs\", f\"ConvolutionalAutoencoder\")\n",
        "tensorboard = TensorBoard(log_dir=logdir)\n",
        "\n",
        "conv_autoencoder.fit(x_train, \n",
        "                     x_train,\n",
        "                     epochs=50,\n",
        "                     batch_size=32,\n",
        "                     shuffle=True,\n",
        "                     validation_split=.2,\n",
        "                     verbose = True,\n",
        "                     callbacks=[stop, tensorboard], \n",
        "                     workers=10)"
      ],
      "execution_count": 32,
      "outputs": [
        {
          "output_type": "stream",
          "text": [
            "Epoch 1/50\n",
            "2500/2500 [==============================] - 30s 6ms/step - loss: 0.2582 - val_loss: 0.2308\n",
            "Epoch 2/50\n",
            "2500/2500 [==============================] - 14s 6ms/step - loss: 0.2219 - val_loss: 0.2194\n",
            "Epoch 3/50\n",
            "2500/2500 [==============================] - 14s 6ms/step - loss: 0.2104 - val_loss: 0.2060\n",
            "Epoch 4/50\n",
            "2500/2500 [==============================] - 14s 6ms/step - loss: 0.2037 - val_loss: 0.2005\n",
            "Epoch 5/50\n",
            "2500/2500 [==============================] - 14s 6ms/step - loss: 0.1992 - val_loss: 0.1999\n",
            "Epoch 6/50\n",
            "2500/2500 [==============================] - 15s 6ms/step - loss: 0.1960 - val_loss: 0.1944\n",
            "Epoch 7/50\n",
            "2500/2500 [==============================] - 14s 6ms/step - loss: 0.1935 - val_loss: 0.1932\n",
            "Epoch 8/50\n",
            "2500/2500 [==============================] - 14s 6ms/step - loss: 0.1915 - val_loss: 0.1912\n",
            "Epoch 9/50\n",
            "2500/2500 [==============================] - 15s 6ms/step - loss: 0.1898 - val_loss: 0.1907\n",
            "Epoch 10/50\n",
            "2500/2500 [==============================] - 15s 6ms/step - loss: 0.1884 - val_loss: 0.1904\n",
            "Epoch 11/50\n",
            "2500/2500 [==============================] - 14s 6ms/step - loss: 0.1872 - val_loss: 0.1865\n"
          ],
          "name": "stdout"
        },
        {
          "output_type": "execute_result",
          "data": {
            "text/plain": [
              "<tensorflow.python.keras.callbacks.History at 0x7f1a1da3cf90>"
            ]
          },
          "metadata": {
            "tags": []
          },
          "execution_count": 32
        }
      ]
    },
    {
      "cell_type": "code",
      "metadata": {
        "colab": {
          "base_uri": "https://localhost:8080/",
          "height": 151
        },
        "id": "KTIKgVgEcXa_",
        "outputId": "4f420406-3cf4-4967-e014-3cf5cd6fcaf1"
      },
      "source": [
        "import matplotlib.pyplot as plt\n",
        "\n",
        "decoded_imgs = conv_autoencoder.predict(x_train)\n",
        "\n",
        "n = 10\n",
        "plt.figure(figsize=(20, 4))\n",
        "for i in range(n):\n",
        "    # display original\n",
        "    ax = plt.subplot(2, n, i+1)\n",
        "    plt.imshow(x_train[i])\n",
        "    plt.title(class_names[y_train[i]])\n",
        "    plt.gray()\n",
        "    ax.get_xaxis().set_visible(False)\n",
        "    ax.get_yaxis().set_visible(False)\n",
        "\n",
        "    # display reconstruction\n",
        "    ax = plt.subplot(2, n, i + n+1)\n",
        "    plt.imshow(decoded_imgs[i].reshape(28,28))\n",
        "    plt.gray()\n",
        "    ax.get_xaxis().set_visible(False)\n",
        "    ax.get_yaxis().set_visible(False)\n",
        "plt.show()"
      ],
      "execution_count": 33,
      "outputs": [
        {
          "output_type": "display_data",
          "data": {
            "image/png": "[encoded data removed]",
            "text/plain": [
              "<Figure size 1440x288 with 20 Axes>"
            ]
          },
          "metadata": {
            "tags": [],
            "needs_background": "light"
          }
        }
      ]
    },
    {
      "cell_type": "markdown",
      "metadata": {
        "id": "XsEBZxEtcXbC"
      },
      "source": [
        "#### Visualization of the Representations"
      ]
    },
    {
      "cell_type": "code",
      "metadata": {
        "colab": {
          "base_uri": "https://localhost:8080/",
          "height": 307
        },
        "id": "Kdpr3O_ecXbD",
        "outputId": "207a3d92-0d7f-4176-c2d1-55cf340c743c"
      },
      "source": [
        "# we have isolated the encoder portion of our auto-encoder so that we can access the encoder vector (i.e. the output of the encoder)\n",
        "encoder = Model(inputs=inputs, outputs=encoded)\n",
        "\n",
        "# the predictions (i.e. the output) of our encoder model are the original images encoder into a smaller dim space (i.e. the encoder vectors)\n",
        "encoded_imgs = encoder.predict(x_train)\n",
        "\n",
        "n = 10\n",
        "plt.figure(figsize=(20, 8))\n",
        "for i in range(1, n):\n",
        "    ax = plt.subplot(1, n, i)\n",
        "    plt.imshow(encoded_imgs[i].reshape(4, 4 * 8).T)\n",
        "    plt.gray()\n",
        "    ax.get_xaxis().set_visible(False)\n",
        "    ax.get_yaxis().set_visible(False)\n",
        "plt.show()\n",
        "\n",
        "\n",
        "# these images are the encoded vectors for some of the images in the x_train\n",
        "# notice that we really can't interpret them, this is the price we pay for non-linear dimentionality reduction\n",
        "# the features in the encoded vectors are non-linear combinations of the input features\n",
        "# this is the same give and take that we make with PCA - which is linear dimentionality reduction\n",
        "# here's the link for the cool interactive visual for PCA that I used in class: https://setosa.io/ev/principal-component-analysis/\n",
        "\n",
        "# What we pick up in extra dimensions, we lose in intepretability\n",
        "# We use auto encoders for dimensionality reduction analagous to PCA"
      ],
      "execution_count": 34,
      "outputs": [
        {
          "output_type": "display_data",
          "data": {
            "image/png": "[encoded data removed]",
            "text/plain": [
              "<Figure size 1440x576 with 9 Axes>"
            ]
          },
          "metadata": {
            "tags": [],
            "needs_background": "light"
          }
        }
      ]
    },
    {
      "cell_type": "markdown",
      "metadata": {
        "id": "PsQkgBxycXbG"
      },
      "source": [
        "## Challenge\n",
        "\n",
        "You will train an autoencoder at some point in the near future. "
      ]
    },
    {
      "cell_type": "markdown",
      "metadata": {
        "id": "R1kPEE5EcXbH"
      },
      "source": [
        "# Information Retrieval with Autoencoders (Learn)\n",
        "<a id=\"p3\"></a>"
      ]
    },
    {
      "cell_type": "markdown",
      "metadata": {
        "id": "kfP4RplXcXbH"
      },
      "source": [
        "## Overview\n",
        "\n",
        "A common usecase for autoencoders is for reverse image search. Let's try to draw an image and see what's most similiar in our dataset. \n",
        "\n",
        "To accomplish this we will need to slice our autoendoer in half to extract our reduced features. :) "
      ]
    },
    {
      "cell_type": "markdown",
      "metadata": {
        "id": "QC545MukcXbI"
      },
      "source": [
        "## Follow Along\n",
        "\n",
        "We are going to perform the following: \n",
        "\n",
        "- Build an encoder model\n",
        "- Train a NearestNeighbors on encoded images\n",
        "- Choose a query image \n",
        "- Find similar encoded images using the trained NearestNeighbors model\n",
        "- Check our results, make sure that the similar image is in fact similar \n",
        "\n",
        "### Build an encoder model\n",
        "\n",
        "Use the `Model` class and the encoder layers to build an encoded model. Remember that we first need to train a full autoencoder model, which as an encoder and decoder, before we can \"break off\" the trained encoder portion. "
      ]
    },
    {
      "cell_type": "code",
      "metadata": {
        "colab": {
          "base_uri": "https://localhost:8080/"
        },
        "id": "e1HjiIDGpykj",
        "outputId": "da79cbb7-5a31-45ae-e133-db4ae90c72a0"
      },
      "source": [
        "encoded.shape"
      ],
      "execution_count": 35,
      "outputs": [
        {
          "output_type": "execute_result",
          "data": {
            "text/plain": [
              "TensorShape([None, 4, 4, 8])"
            ]
          },
          "metadata": {
            "tags": []
          },
          "execution_count": 35
        }
      ]
    },
    {
      "cell_type": "code",
      "metadata": {
        "deletable": false,
        "id": "HlzNPGNAcXbI",
        "nbgrader": {
          "cell_type": "code",
          "checksum": "f35a97c1b2d32e9fcce18e294355a6ce",
          "grade": false,
          "grade_id": "cell-86a84bb7c1403c77",
          "locked": false,
          "schema_version": 3,
          "solution": true,
          "task": false
        }
      },
      "source": [
        "# we have isolated the encoder portion of our auto-encoder so that we can access the encoder vector \n",
        "# (i.e. the output of the encoder)\n",
        "\n",
        "# YOUR CODE HERE\n",
        "encoded_flat = Flatten()(encoded)\n",
        "# Inputs will be original images, output will be the flattened images\n",
        "encoder = Model(inputs=inputs, outputs=encoded_flat)\n",
        "\n",
        "# Model is creating 1D encoded images\n",
        "encoded_imgs = encoder.predict(x_train)"
      ],
      "execution_count": 38,
      "outputs": []
    },
    {
      "cell_type": "code",
      "metadata": {
        "colab": {
          "base_uri": "https://localhost:8080/"
        },
        "id": "ANWsIberpykk",
        "outputId": "b51c0f13-e500-4da7-e7f6-a6851008a409"
      },
      "source": [
        "# now we can pass in our row vectors into a NN model\n",
        "encoded_imgs.shape"
      ],
      "execution_count": 39,
      "outputs": [
        {
          "output_type": "execute_result",
          "data": {
            "text/plain": [
              "(100000, 128)"
            ]
          },
          "metadata": {
            "tags": []
          },
          "execution_count": 39
        }
      ]
    },
    {
      "cell_type": "markdown",
      "metadata": {
        "id": "Q7-q67c6pykl"
      },
      "source": [
        "### Build a NearestNeighbors model\n",
        "\n",
        "We need to train a NearestNeighbors model on the encoded images. \n"
      ]
    },
    {
      "cell_type": "code",
      "metadata": {
        "colab": {
          "base_uri": "https://localhost:8080/"
        },
        "id": "vloe7VtjcXc1",
        "outputId": "967745b5-9d93-4259-954e-0e0fd02c144e"
      },
      "source": [
        "from sklearn.neighbors import NearestNeighbors\n",
        "\n",
        "# fit KNN on encoded images (i.e. the encoded vectors)\n",
        "nn = NearestNeighbors(n_neighbors=10, algorithm='ball_tree')\n",
        "# pass in the encoded images (i.e. the encoded vectors )\n",
        "nn.fit(encoded_imgs)"
      ],
      "execution_count": 40,
      "outputs": [
        {
          "output_type": "execute_result",
          "data": {
            "text/plain": [
              "NearestNeighbors(algorithm='ball_tree', leaf_size=30, metric='minkowski',\n",
              "                 metric_params=None, n_jobs=None, n_neighbors=10, p=2,\n",
              "                 radius=1.0)"
            ]
          },
          "metadata": {
            "tags": []
          },
          "execution_count": 40
        }
      ]
    },
    {
      "cell_type": "markdown",
      "metadata": {
        "id": "uXLXEslypykn"
      },
      "source": [
        "### Select a query image\n",
        "\n",
        "We need to chose an image that we will pass into NearestNeighbors in order to find similar images. "
      ]
    },
    {
      "cell_type": "code",
      "metadata": {
        "colab": {
          "base_uri": "https://localhost:8080/",
          "height": 281
        },
        "id": "2sVRGWRK2_in",
        "outputId": "bbe973db-908f-4a72-da69-122985fe39b9"
      },
      "source": [
        "# get a query image \n",
        "query =  27\n",
        "\n",
        "# this is the image that we want to pass into NearestNeighbors in order to find similar images \n",
        "# this will be done by looking at the distance between the encoder vectors of the images \n",
        "plt.title(class_names[y_train[query]])\n",
        "plt.imshow(x_train[query]);"
      ],
      "execution_count": 46,
      "outputs": [
        {
          "output_type": "display_data",
          "data": {
            "image/png": "[encoded data removed]",
            "text/plain": [
              "<Figure size 432x288 with 1 Axes>"
            ]
          },
          "metadata": {
            "tags": [],
            "needs_background": "light"
          }
        }
      ]
    },
    {
      "cell_type": "markdown",
      "metadata": {
        "id": "FbWwUMOrpykn"
      },
      "source": [
        "### Find Similar Images \n",
        "- Use the encoder to encode our query image\n",
        "- Use NearestNeighbors to find similar images\n",
        "- Check our results "
      ]
    },
    {
      "cell_type": "code",
      "metadata": {
        "colab": {
          "base_uri": "https://localhost:8080/"
        },
        "id": "TCUiDPkGpyko",
        "outputId": "90810ada-e0cd-4a26-e68f-a7237bd0d00b"
      },
      "source": [
        "query_img = x_train[query]\n",
        "query_img.shape"
      ],
      "execution_count": 47,
      "outputs": [
        {
          "output_type": "execute_result",
          "data": {
            "text/plain": [
              "(28, 28)"
            ]
          },
          "metadata": {
            "tags": []
          },
          "execution_count": 47
        }
      ]
    },
    {
      "cell_type": "code",
      "metadata": {
        "colab": {
          "base_uri": "https://localhost:8080/"
        },
        "deletable": false,
        "id": "2OfvQCRicXc4",
        "nbgrader": {
          "cell_type": "code",
          "checksum": "74ee5f53a50cc3901333be11438d9f21",
          "grade": false,
          "grade_id": "cell-a1412daf9fd457c3",
          "locked": false,
          "schema_version": 3,
          "solution": true,
          "task": false
        },
        "outputId": "88af59f6-7206-4d1c-d94d-047e5e2ec79e"
      },
      "source": [
        "# YOUR CODE HERE\n",
        "query_img_reshaped = np.expand_dims(query_img, 0)\n",
        "query_img_reshaped.shape"
      ],
      "execution_count": 48,
      "outputs": [
        {
          "output_type": "execute_result",
          "data": {
            "text/plain": [
              "(1, 28, 28)"
            ]
          },
          "metadata": {
            "tags": []
          },
          "execution_count": 48
        }
      ]
    },
    {
      "cell_type": "code",
      "metadata": {
        "id": "XAUhH4jjAw8h"
      },
      "source": [
        "# encode query image using encoder model\n",
        "query_img_encoded = encoder.predict(query_img_reshaped)"
      ],
      "execution_count": 49,
      "outputs": []
    },
    {
      "cell_type": "code",
      "metadata": {
        "colab": {
          "base_uri": "https://localhost:8080/"
        },
        "id": "FRs9JxNBA5KS",
        "outputId": "73fbd092-9d26-46cb-8efe-a7fde51c0262"
      },
      "source": [
        "query_img_encoded.shape"
      ],
      "execution_count": 50,
      "outputs": [
        {
          "output_type": "execute_result",
          "data": {
            "text/plain": [
              "(1, 128)"
            ]
          },
          "metadata": {
            "tags": []
          },
          "execution_count": 50
        }
      ]
    },
    {
      "cell_type": "code",
      "metadata": {
        "id": "NTZ5B1IHA7m9"
      },
      "source": [
        "neigh_dist, neigh_ind = nn.kneighbors(query_img_encoded)"
      ],
      "execution_count": 51,
      "outputs": []
    },
    {
      "cell_type": "code",
      "metadata": {
        "colab": {
          "base_uri": "https://localhost:8080/"
        },
        "id": "l30RGHEjBAqn",
        "outputId": "a1251867-2cc9-40fc-9d46-5ef423414cb2"
      },
      "source": [
        "neigh_dist.round(3)[0][1:]\n",
        "# Rounding to the third decimal place make this array easier to read"
      ],
      "execution_count": 53,
      "outputs": [
        {
          "output_type": "execute_result",
          "data": {
            "text/plain": [
              "array([3.85 , 3.854, 3.903, 4.006, 4.075, 4.092, 4.157, 4.178, 4.202])"
            ]
          },
          "metadata": {
            "tags": []
          },
          "execution_count": 53
        }
      ]
    },
    {
      "cell_type": "code",
      "metadata": {
        "colab": {
          "base_uri": "https://localhost:8080/",
          "height": 265
        },
        "id": "BId2lYtoBeRa",
        "outputId": "3782934e-ba61-4e9f-b9cb-1baa4c0c41f3"
      },
      "source": [
        "nearest_neight_index = neigh_ind[0][1:][3]\n",
        "# Last bracket number allows us to query whatever image we want (within a range of 0,8)\n",
        "plt.imshow(x_train[nearest_neight_index]);"
      ],
      "execution_count": 66,
      "outputs": [
        {
          "output_type": "display_data",
          "data": {
            "image/png": "[encoded data removed]",
            "text/plain": [
              "<Figure size 432x288 with 1 Axes>"
            ]
          },
          "metadata": {
            "tags": [],
            "needs_background": "light"
          }
        }
      ]
    },
    {
      "cell_type": "markdown",
      "metadata": {
        "id": "uTbKqbEHcXc6"
      },
      "source": [
        "## Challenge\n",
        "\n",
        "You should already be familiar with KNN and similarity queries, so the key component of this section is know what to 'slice' from your autoencoder (the encoder) to extract features from your data. "
      ]
    },
    {
      "cell_type": "markdown",
      "metadata": {
        "id": "6667UUvQcXc6"
      },
      "source": [
        "# Review\n",
        "\n",
        "* <a href=\"#p1\">Part 1</a>: Describe the componenets of an autoencoder\n",
        "    - Enocder\n",
        "    - Decoder\n",
        "* <a href=\"#p2\">Part 2</a>: Train an autoencoder\n",
        "    - Can do in Keras Easily\n",
        "    - Can use a variety of architectures\n",
        "    - Architectures must follow hourglass shape\n",
        "* <a href=\"#p3\">Part 3</a>: Apply an autoenocder to a basic information retrieval problem\n",
        "    - Extract just the encoder to use for various tasks\n",
        "    - AE ares good for dimensionality reduction, reverse image search, and may more things. \n"
      ]
    },
    {
      "cell_type": "markdown",
      "metadata": {
        "id": "HZWiQPsfcXc7"
      },
      "source": [
        "# Sources\n",
        "\n",
        "__References__\n",
        "- [Building Autoencoders in Keras](https://blog.keras.io/building-autoencoders-in-keras.html)\n",
        "- [Deep Learning Cookbook](http://shop.oreilly.com/product/0636920097471.do)\n",
        "\n",
        "__Additional Material__"
      ]
    }
  ]
}