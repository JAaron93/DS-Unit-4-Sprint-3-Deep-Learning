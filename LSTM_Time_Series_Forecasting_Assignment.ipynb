{
  "nbformat": 4,
  "nbformat_minor": 0,
  "metadata": {
    "kernelspec": {
      "display_name": "Python 3",
      "language": "python",
      "name": "python3"
    },
    "language_info": {
      "codemirror_mode": {
        "name": "ipython",
        "version": 3
      },
      "file_extension": ".py",
      "mimetype": "text/x-python",
      "name": "python",
      "nbconvert_exporter": "python",
      "pygments_lexer": "ipython3",
      "version": "3.8.5"
    },
    "colab": {
      "name": "LSTM Time Series Forecasting Assignment.ipynb",
      "provenance": [],
      "include_colab_link": true
    }
  },
  "cells": [
    {
      "cell_type": "markdown",
      "metadata": {
        "id": "view-in-github",
        "colab_type": "text"
      },
      "source": [
        "<a href=\"https://colab.research.google.com/github/JAaron93/DS-Unit-4-Sprint-3-Deep-Learning/blob/main/LSTM_Time_Series_Forecasting_Assignment.ipynb\" target=\"_parent\"><img src=\"https://colab.research.google.com/assets/colab-badge.svg\" alt=\"Open In Colab\"/></a>"
      ]
    },
    {
      "cell_type": "code",
      "metadata": {
        "id": "Z6qYp3TtEsPC"
      },
      "source": [
        "# Reference on how to create a NLP word embeddings class, should prove useful for structuring a LSTM NN class\n",
        "# https://lvngd.com/blog/spacy-word-vectors-as-features-in-scikit-learn/"
      ],
      "execution_count": null,
      "outputs": []
    },
    {
      "cell_type": "markdown",
      "metadata": {
        "id": "uOxgUxn_JMGi"
      },
      "source": [
        "## Time Series Forecasting with LSTMs assignment \n",
        "\n",
        "Take what you learned from the lecture and move all that logic into a class that handels all of your RNN forecasting functionality: data prepping, building a model, training a model, and plotting results. You are encouraged to change what you want and add whatever functionality you want to include in your class, such as gridsearch functionality. "
      ]
    },
    {
      "cell_type": "code",
      "metadata": {
        "id": "dMpJsizIJMGj"
      },
      "source": [
        "import numpy as np\n",
        "import matplotlib.pyplot as plt\n",
        "import seaborn as sns\n",
        "import pandas as pd\n",
        "from pandas import read_csv\n",
        "import math\n",
        "from keras.models import Sequential\n",
        "from keras.layers import Dense\n",
        "from keras.layers import LSTM\n",
        "from sklearn.preprocessing import MinMaxScaler\n",
        "from sklearn.metrics import mean_squared_error\n",
        "from keras.layers.core import Dense, Activation, Dropout\n",
        "import time #helper libraries\n",
        "from tensorflow.keras import regularizers\n",
        "\n",
        "class forecasting_toolkit(object):\n",
        "    def __init__(self, df = None, model = None):\n",
        "        \"\"\"\n",
        "        Variables that we passed into our functions should now be defined \n",
        "        as class attributes, i.e. class variables. \n",
        "        \"\"\"\n",
        "        # here are a few to get you started \n",
        "        \n",
        "        # store data here\n",
        "        self.df = df\n",
        "        \n",
        "        # store your forecasting model here\n",
        "        self.model = model\n",
        "        \n",
        "        # store feature scalers here\n",
        "        self.scaler_dict = None\n",
        "        \n",
        "        # store the training results of your model here\n",
        "        self.history = None\n",
        "    \n",
        "    def load_transform_data(self):\n",
        "        pass\n",
        "    \n",
        "    def scale_data(self):\n",
        "        pass\n",
        "    \n",
        "    def invert_scaling(self):\n",
        "        pass\n",
        "    \n",
        "    def create_dataset(self):\n",
        "        pass\n",
        "    \n",
        "    def create_train_test_split(self):\n",
        "        pass\n",
        "    \n",
        "    def build_model(self):\n",
        "        pass\n",
        "\n",
        "    def grid_search(self):\n",
        "        pass\n",
        "\n",
        "    def fit_model(self):\n",
        "        pass\n",
        "    \n",
        "    def predict(self):\n",
        "        pass\n",
        "    \n",
        "    def plot_model_loss_metrics(self):\n",
        "        pass\n",
        "    "
      ],
      "execution_count": null,
      "outputs": []
    },
    {
      "cell_type": "markdown",
      "metadata": {
        "id": "SW_9huI2JMGm"
      },
      "source": [
        "----"
      ]
    },
    {
      "cell_type": "code",
      "metadata": {
        "id": "QeaJEQH4JMGn"
      },
      "source": [
        "# this is pseudo code - my_custom_scripts doesn't exist yet\n",
        "from my_custom_scripts import forecasting_toolkit"
      ],
      "execution_count": null,
      "outputs": []
    },
    {
      "cell_type": "code",
      "metadata": {
        "id": "lD4zn1cxJMGn"
      },
      "source": [
        "# once you've completed your class, you'll be able to perform a many operations with just a few lines of code!\n",
        "tstk = forecasting_toolkit()\n",
        "tstk.load_transform_data()\n",
        "tstk.scale_data()\n",
        "tstk.build_model()\n",
        "tstk.fit_model()\n",
        "tstk.plot_model_loss_metrics()"
      ],
      "execution_count": null,
      "outputs": []
    },
    {
      "cell_type": "code",
      "metadata": {
        "id": "vQS4IgCgJMGo"
      },
      "source": [
        ""
      ],
      "execution_count": null,
      "outputs": []
    },
    {
      "cell_type": "code",
      "metadata": {
        "id": "qPS0e2P7JMGo"
      },
      "source": [
        ""
      ],
      "execution_count": null,
      "outputs": []
    },
    {
      "cell_type": "code",
      "metadata": {
        "id": "MJgiLNwnJMGp"
      },
      "source": [
        ""
      ],
      "execution_count": null,
      "outputs": []
    },
    {
      "cell_type": "code",
      "metadata": {
        "id": "L9u4RAGGJMGp"
      },
      "source": [
        ""
      ],
      "execution_count": null,
      "outputs": []
    },
    {
      "cell_type": "code",
      "metadata": {
        "id": "GchGmrZ-JMGq"
      },
      "source": [
        ""
      ],
      "execution_count": null,
      "outputs": []
    },
    {
      "cell_type": "code",
      "metadata": {
        "id": "5eHT8KM6JMGq"
      },
      "source": [
        ""
      ],
      "execution_count": null,
      "outputs": []
    },
    {
      "cell_type": "code",
      "metadata": {
        "id": "SrjqEJPLJMGr"
      },
      "source": [
        ""
      ],
      "execution_count": null,
      "outputs": []
    }
  ]
}