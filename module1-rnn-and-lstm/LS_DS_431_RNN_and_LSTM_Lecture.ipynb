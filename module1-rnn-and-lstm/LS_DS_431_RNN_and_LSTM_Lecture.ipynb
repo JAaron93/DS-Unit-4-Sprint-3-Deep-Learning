{
  "nbformat": 4,
  "nbformat_minor": 0,
  "metadata": {
    "accelerator": "GPU",
    "colab": {
      "name": "DS16 LS_DS_441_RNN_and_LSTM.ipynb",
      "provenance": [],
      "collapsed_sections": [],
      "include_colab_link": true
    },
    "kernelspec": {
      "display_name": "py37  (Python3)",
      "language": "python",
      "name": "py37"
    },
    "language_info": {
      "codemirror_mode": {
        "name": "ipython",
        "version": 3
      },
      "file_extension": ".py",
      "mimetype": "text/x-python",
      "name": "python",
      "nbconvert_exporter": "python",
      "pygments_lexer": "ipython3",
      "version": "3.7.0"
    }
  },
  "cells": [
    {
      "cell_type": "markdown",
      "metadata": {
        "id": "view-in-github",
        "colab_type": "text"
      },
      "source": [
        "<a href=\"https://colab.research.google.com/github/JAaron93/DS-Unit-4-Sprint-3-Deep-Learning/blob/main/module1-rnn-and-lstm/LS_DS_431_RNN_and_LSTM_Lecture.ipynb\" target=\"_parent\"><img src=\"https://colab.research.google.com/assets/colab-badge.svg\" alt=\"Open In Colab\"/></a>"
      ]
    },
    {
      "cell_type": "markdown",
      "metadata": {
        "id": "Ldr0HZ193GKb"
      },
      "source": [
        "Lambda School Data Science\n",
        "\n",
        "*Unit 4, Sprint 3, Module 1*\n",
        "\n",
        "---\n"
      ]
    },
    {
      "cell_type": "markdown",
      "metadata": {
        "id": "Et2y0gP7IM19"
      },
      "source": [
        "# Recurrent Neural Networks (RNNs) and Long Short Term Memory (LSTM) (Prepare)\n",
        "\n",
        "![](https://wiki.tum.de/download/attachments/22578349/GATES.gif?version=1&modificationDate=1486083227237&api=v2)"
      ]
    },
    {
      "cell_type": "markdown",
      "metadata": {
        "id": "-BOMScPtIM1-"
      },
      "source": [
        "## Learning Objectives\n",
        "- <a href=\"#p1\">Part 1: </a>Describe Neural Networks used for modeling sequences\n",
        "- <a href=\"#p2\">Part 2: </a>Apply a LSTM to a text generation problem using Keras"
      ]
    },
    {
      "cell_type": "markdown",
      "metadata": {
        "id": "_IizNKWLomoA"
      },
      "source": [
        "-----\n",
        "# Overview\n",
        "\n",
        "### Let's start with sequences \n",
        "\n",
        "A sequence is just any collection of numbers - order counts and repetition is allowed. \n",
        "\n",
        "Python lists are a good elemental example - `[1, 2, 2, -1]` is a valid list and is different from `[1, 2, -1, 2]`. \n",
        "\n",
        "What you might not be as familiar with are recusive numbers. For that, let's talk about a specific example, namely the **Fibonacci Sequence**.\n"
      ]
    },
    {
      "cell_type": "markdown",
      "metadata": {
        "id": "44QZgrPUe3-Y"
      },
      "source": [
        "# Neural Networks for Sequences (Learn)"
      ]
    },
    {
      "cell_type": "markdown",
      "metadata": {
        "id": "dX_WLYHrIM1_"
      },
      "source": [
        "\n",
        "\n",
        "Before we dive into the inner workings of an LSTM model, let's try to understand and appreciate the recusive relationships of numbers in both pure mathematics and in the physical reality in which we find ourselves embedded. \n",
        "\n",
        "\n",
        "As usually we take attempt to understand a concept from at least 3 different perspectives:\n",
        "- Algebraic\n",
        "- Geometric\n",
        "- Coding an example\n",
        "\n",
        "\n",
        "A [**recurrence relation**](https://en.wikipedia.org/wiki/Recurrence_relation) in math is an equation that uses recursion to define a sequence of numbers - a famous example is the Fibonacci numbers.\n",
        "\n",
        "Here is the algorithm for generating the numbers in the Fibonacci sequence: \n",
        "\n",
        "$$F_n = F_{n-1} + F_{n-2}$$\n",
        "\n",
        "You need a base case $F_0=1, F_1=1$ (i.e. a starting point) to get the sequence started and then from then on our the sequence is self-generating. \n",
        "\n",
        "So this means that we can start generating our sequence: \n",
        "\n",
        "$$F_0=1,~~  F_1=1 $$\n",
        "\n",
        "$$F_2 = F_{1} + F_{0} ~=~ 1 + 1 ~=~ 2$$\n",
        "\n",
        "Then\n",
        "\n",
        "$$F_3 = F_{2} + F_{1} ~=~ 2 + 1 ~=~ 3$$\n",
        "\n",
        "Then \n",
        "\n",
        "$$F_4 = F_{3} + F_{2} ~=~ 3 + 2 ~=~ 5$$\n",
        "\n",
        "Then \n",
        "\n",
        "$$F_5 = F_{4} + F_{3} ~=~ 5 + 3 ~=~ 8$$\n",
        "\n",
        "I hope you get the idea. \n",
        "\n",
        "Before we we code up this sequence, let's appreciate how important and ubiquitous it is in nature. \n",
        "\n",
        "![](http://www.davidbeahm.com/wp-content/uploads/2011/11/fibonacci-1024x637.jpg)\n",
        "\n",
        "\n",
        "![](https://i.pinimg.com/originals/32/d7/47/32d747bea24f4756dc4c5ffe61b36efd.jpg)\n",
        "\n",
        "![](https://i.pinimg.com/originals/f2/cb/34/f2cb3452dd774bab87bbee2b8a77d4bb.png)\n",
        "\n",
        "\n",
        "![](https://f4.bcbits.com/img/a3628582449_10.jpg)"
      ]
    },
    {
      "cell_type": "markdown",
      "metadata": {
        "id": "0ROfJbJrSIRL"
      },
      "source": [
        "**Take Away:** \n",
        "- Recursive sequences are located everywhere in life - but we need to know what we're looking for and where to look for it. \n",
        "- Simply try to develop an appreciation for the connection between mathematics and all of physical reality. "
      ]
    },
    {
      "cell_type": "markdown",
      "metadata": {
        "id": "-hFbLYRJSIRM"
      },
      "source": [
        "### Code up the Fibonacci Sequence\n",
        "Again, here is the algorithm for the Fibonacci numbers.  \n",
        "\n",
        "\n",
        "$$F_n = F_{n-1} + F_{n-2}$$\n",
        "\n",
        "\n",
        "You need a base case to get your sequence started. This time let  $F_0=0 ~\\text{and}~ F_1=1$. \n"
      ]
    },
    {
      "cell_type": "code",
      "metadata": {
        "id": "0_BJcBuYSIRN"
      },
      "source": [
        "def fibo(n):\n",
        "    \"\"\"\n",
        "    Calculate and return the next number in the Fibonacci sequence\n",
        "    \n",
        "    Input\n",
        "    -----\n",
        "    n: int or float\n",
        "        The nth number in the sequence (think of it as an index for a list)\n",
        "        \n",
        "    Return\n",
        "    ------\n",
        "    F_n: the next number in the sequence generated from the previous two numbers in the sequence \n",
        "    \"\"\"\n",
        "    \n",
        "    if n <= 1:\n",
        "        # if n = 0, then return 0 \n",
        "        return n\n",
        "    else:\n",
        "        # this is the recursive part \n",
        "        # notice how the function is a function of itself!\n",
        "        #  F_n =       F_n-1 + F_n-2\n",
        "        return(fibo(n-1) + fibo(n-2))"
      ],
      "execution_count": 1,
      "outputs": []
    },
    {
      "cell_type": "code",
      "metadata": {
        "deletable": false,
        "nbgrader": {
          "cell_type": "code",
          "checksum": "d5757486eecafe9c2c1af5b428e482b3",
          "grade": false,
          "grade_id": "cell-b31ecb0aaf3ace76",
          "locked": false,
          "schema_version": 3,
          "solution": true,
          "task": false
        },
        "colab": {
          "base_uri": "https://localhost:8080/"
        },
        "id": "fxVbn4fLSIRO",
        "outputId": "024db588-5ce8-4202-814d-08120ea0e4e4"
      },
      "source": [
        "# generate a Fibonacci Sequence\n",
        "# YOUR CODE HERE\n",
        "#let n be the length of our fibo sequence\n",
        "n = 10\n",
        "[fibo(num) for num in range(n)]"
      ],
      "execution_count": 2,
      "outputs": [
        {
          "output_type": "execute_result",
          "data": {
            "text/plain": [
              "[0, 1, 1, 2, 3, 5, 8, 13, 21, 34]"
            ]
          },
          "metadata": {
            "tags": []
          },
          "execution_count": 2
        }
      ]
    },
    {
      "cell_type": "markdown",
      "metadata": {
        "id": "01rG-2gqSIRO"
      },
      "source": [
        "**Take Away:** \n",
        "\n",
        "Recursive algorithms have as input their previous output. In order words, the output at time step `t - 1`, becomes in the input in the following time step `t`. This is the key idea of that you should observe. Because it is this recursive behavior that is new to how we will think about neural networks, specifically the LSTM model. "
      ]
    },
    {
      "cell_type": "markdown",
      "metadata": {
        "id": "hah7DlpdSIRP"
      },
      "source": [
        "-----\n",
        "\n",
        "## Introduction to Recursive Neural Networks (RNNs) \n",
        "\n",
        "\n",
        "The nice thing about spending time to understand the Fibonacci Sequence is that we can then `borrow the intuition` that we picked up to help us understand how the LSTM works. \n",
        "\n",
        "Different Recursive Neural Networks (RNNs) have this recursive loop in their architecture. The ML research community first created the following RNN model using the standard Fully-Connected Forward Feeding (FCFF) model: \n",
        "\n",
        "![](https://nerdthecoder.files.wordpress.com/2019/02/731df-0mrhhgabskajpbt21.png)\n",
        "\n",
        "`This type of RNN had severe limitations!` \n",
        "\n",
        "- It didn't have long-term memory capacity to learn long input sequences \n",
        "- It suffered from the [Vanishing Gradient Problem](https://en.wikipedia.org/wiki/Vanishing_gradient_problem).\n",
        "\n",
        "In response to these limitations, the ML research community created the LSTM model, which ditched the FCFF architecture and started using the following architecture:\n",
        "\n",
        "![Long short-term memory unit](https://upload.wikimedia.org/wikipedia/commons/thumb/6/63/Long_Short-Term_Memory.svg/1024px-Long_Short-Term_Memory.svg.png)\n",
        "\n",
        "Wow! Ok! There's a lot going on here, isn't there? Well, don't worry, we are going to break this model down bit-by-bit so we can understand what is happening. "
      ]
    },
    {
      "cell_type": "markdown",
      "metadata": {
        "id": "Uxuq0AFeSIRQ"
      },
      "source": [
        "_____\n",
        "\n",
        "\n",
        "## Theory of LSTM\n",
        "\n",
        "One of the simplist and clearest explanations of the LSTM model can be found [**here!**](https://colah.github.io/posts/2015-08-Understanding-LSTMs/) - a beautifully clear and concise explaination the model's archtecture and the mathematics. This link will serve as our main resouce for understanding how LSTMs work. \n",
        "\n",
        "Below are the equations for each of the gates that are explained in the article. \n",
        "\n",
        "Although, you will not be held responsible for the equations in any quiz, module assignment, or Sprint Challenge - it is still instructive to be exposed to them at least once.\n",
        "\n",
        "First thing to notice is that each gate equation (not the cell states) has the form of a perceptron. \n",
        "\n",
        "`Remember the perceptron?` It's the fundamental building block of neural networks - it's not going away! \n",
        "\n",
        "Once you understand that, it will hopefully become gradually clear that each gate is a perceptron with a different job to do. \n",
        "\n",
        "That's it. \n",
        "\n",
        "It's just 4 perceptrons, each with a different job to do. \n",
        "\n",
        "Fortunately, you already know about perceptrons (you built one from scratch in `Sprint 2 Module 1`). \n",
        "\n",
        "____\n",
        "\n",
        "### Gates in More Detail\n",
        "\n",
        "#### Forget Gate\n",
        "This neuron's job is to use the current input to learn what information the cell state should forget regarding long-term dependencies. \n",
        "\n",
        "\n",
        "$$f_t = \\sigma(W_f \\cdot [h_{t-1},x_t]~+~b_f)$$\n",
        "\n",
        "#### Input Gate\n",
        "This neuron's job is to use the current input to learn what new information to include in the cell state. \n",
        "\n",
        "\n",
        "$$i_t = \\sigma(W_i \\cdot [h_{t-1},x_t]~+~b_i)$$\n",
        "\n",
        "#### Candidate Cell State \n",
        "This neuron's job is to use the current input to create a candidate cell state.\n",
        "\n",
        "This new candidate cell state will be used to update the model's final cell state.\n",
        "\n",
        "$$\\tilde{C}_t = \\text{tanh}(W_C \\cdot [h_{t-1},x_t]~+~b_C)$$\n",
        "\n",
        "#### New Cell State\n",
        "This is where the candidate and old cell state are combined to create a new cell state.\n",
        "\n",
        "This is where output from the forget gate $f_t$ is used to scaled the old cell state\n",
        "\n",
        "- If $f_t$'s value is closer to 0.0, then less information from the previous cell state is retained.\n",
        "- If $f_t$'s value is closer to 1.0, then more information from the previous cell state is retained. \n",
        "\n",
        "\n",
        "This is also where the output of the input gate $i_t$ is used to scaled the candidate cell state. \n",
        "- If $i_t$'s value is closer to 0.0, then less information from the candidate cell state is retained\n",
        "- If $i_t$'s value is closer to 1.0, then more information from the candidate cell state is retained. \n",
        "\n",
        "Finally, you combine the two scaled cell states to form the new cell state of the model. \n",
        "\n",
        "It is $C_t$ that will be passed into the next training step and used by the output to make a final prediction. \n",
        "\n",
        "$$C_t = f_t*C_{t-1} + i_t*\\tilde{C}_t$$\n",
        "\n",
        "#### Output Gate\n",
        "This is where the actual output of the model is calcuated. \n",
        "\n",
        "The article denotes the model's pre-scaled output as $o_t$ and the scaled output as $h_t$. To be clear, it is $h_t$ that ultimately gets outputed as the model's final prediction. \n",
        "\n",
        "We are familiar with the notation $y$ to denote a model's prediction instead of using $h$. But they both mean the same thing - the model's final prediction. \n",
        "\n",
        "This neuron's job is to take the current input and make a prediction. \n",
        "\n",
        "$$o_t = \\sigma(W_o \\cdot [h_{t-1},x_t]~+~b_o)$$\n",
        "\n",
        "Next, the cell state is used to inform the final prediction. \n",
        "\n",
        "Recall that $o_t$ is output from a sigmoid activation function, so it's value is somewhere between 0 and 1. \n",
        "\n",
        "Which means that it is being used to scale $\\text{tanh}(C_t)$ which contains the current cell state. \n",
        "\n",
        "Recall the tanh curve and you'll see that tanh is scaling $C_t$ so that it's value lies between -1 and 1; this makes it possible to have positive and negative values for the model's output. Sigmoids don't allow for the posibility of negative values, but tanh does. \n",
        "\n",
        "$$h_t = o_t*\\text{tanh}(C_t)$$\n",
        "\n"
      ]
    },
    {
      "cell_type": "markdown",
      "metadata": {
        "id": "Ra2PxbLqSIRS"
      },
      "source": [
        "_________\n",
        "\n",
        "### Today's Application of LSTMs\n",
        "\n",
        "So why are these cool? \n",
        "\n",
        "One particularly compelling application is actually not time series but language modeling - language is inherently ordered data (letters/words go one after another, and the order *matters*). [The Unreasonable Effectiveness of Recurrent Neural Networks](https://karpathy.github.io/2015/05/21/rnn-effectiveness/) is a famous and worth reading blog post on this topic.\n",
        "\n",
        "For our purposes, let's use TensorFlow and Keras to train RNNs with natural language. \n",
        "\n",
        "Resources:\n",
        "- https://github.com/keras-team/keras/blob/master/examples/imdb_lstm.py\n",
        "- https://keras.io/layers/recurrent/#lstm\n",
        "- http://adventuresinmachinelearning.com/keras-lstm-tutorial/\n",
        "\n",
        "Note that `tensorflow.contrib` [also has an implementation of RNN/LSTM](https://www.tensorflow.org/tutorials/sequences/recurrent)."
      ]
    },
    {
      "cell_type": "markdown",
      "metadata": {
        "id": "eWrQllf8WEd-"
      },
      "source": [
        "_____________\n",
        "\n",
        "\n",
        "## Follow Along\n",
        "\n",
        "Sequences come in many shapes and forms from stock prices to text. We'll focus on text, because modeling text as a sequence is a strength of Neural Networks. Let's start with a simple classification task using a TensorFlow tutorial. "
      ]
    },
    {
      "cell_type": "markdown",
      "metadata": {
        "id": "SSytcRhoIM2A"
      },
      "source": [
        "### RNN/LSTM Sentiment Classification with Keras"
      ]
    },
    {
      "cell_type": "code",
      "metadata": {
        "id": "Ti23G0gRe3kr"
      },
      "source": [
        "from __future__ import print_function\n",
        "\n",
        "from tensorflow.keras.preprocessing import sequence\n",
        "from tensorflow.keras.models import Sequential\n",
        "from tensorflow.keras.layers import Dense, Embedding, Bidirectional\n",
        "from tensorflow.keras.layers import LSTM\n",
        "from tensorflow.keras.datasets import imdb\n",
        "import numpy as np\n",
        "import pandas as pd"
      ],
      "execution_count": 3,
      "outputs": []
    },
    {
      "cell_type": "code",
      "metadata": {
        "colab": {
          "base_uri": "https://localhost:8080/"
        },
        "id": "sBy7wP4USIRU",
        "outputId": "438a2b16-e7f4-425c-840f-daab420a442c"
      },
      "source": [
        "# load in dataset \n",
        "\n",
        "# cut texts after this number of words (among top max_features most common words)\n",
        "maxlen = 80\n",
        "batch_size = 32\n",
        "\n",
        "print('Loading data...')\n",
        "(x_train, y_train), (x_test, y_test) = imdb.load_data(num_words=max_features)\n",
        "print(len(x_train), 'train sequences')\n",
        "print(len(x_test), 'test sequences')"
      ],
      "execution_count": 4,
      "outputs": [
        {
          "output_type": "stream",
          "text": [
            "Loading data...\n",
            "Downloading data from https://storage.googleapis.com/tensorflow/tf-keras-datasets/imdb.npz\n",
            "17465344/17464789 [==============================] - 0s 0us/step\n"
          ],
          "name": "stdout"
        },
        {
          "output_type": "stream",
          "text": [
            "<string>:6: VisibleDeprecationWarning: Creating an ndarray from ragged nested sequences (which is a list-or-tuple of lists-or-tuples-or ndarrays with different lengths or shapes) is deprecated. If you meant to do this, you must specify 'dtype=object' when creating the ndarray\n",
            "/usr/local/lib/python3.7/dist-packages/tensorflow/python/keras/datasets/imdb.py:155: VisibleDeprecationWarning: Creating an ndarray from ragged nested sequences (which is a list-or-tuple of lists-or-tuples-or ndarrays with different lengths or shapes) is deprecated. If you meant to do this, you must specify 'dtype=object' when creating the ndarray\n",
            "  x_train, y_train = np.array(xs[:idx]), np.array(labels[:idx])\n"
          ],
          "name": "stderr"
        },
        {
          "output_type": "stream",
          "text": [
            "25000 train sequences\n",
            "25000 test sequences\n"
          ],
          "name": "stdout"
        },
        {
          "output_type": "stream",
          "text": [
            "/usr/local/lib/python3.7/dist-packages/tensorflow/python/keras/datasets/imdb.py:156: VisibleDeprecationWarning: Creating an ndarray from ragged nested sequences (which is a list-or-tuple of lists-or-tuples-or ndarrays with different lengths or shapes) is deprecated. If you meant to do this, you must specify 'dtype=object' when creating the ndarray\n",
            "  x_test, y_test = np.array(xs[idx:]), np.array(labels[idx:])\n"
          ],
          "name": "stderr"
        }
      ]
    },
    {
      "cell_type": "code",
      "metadata": {
        "colab": {
          "base_uri": "https://localhost:8080/"
        },
        "id": "2XWP9TNEM8-q",
        "outputId": "be21fe29-9201-4c76-e36a-bbc03d9a17c2"
      },
      "source": [
        "# documentation on this data set here: https://www.tensorflow.org/api_docs/python/tf/keras/datasets/imdb/load_data\n",
        "# the values in the lists represents the token frequncy, so \"1\" means the most frequent token in the corpus \n",
        "# each list represents a movie review\n",
        "x_train.shape"
      ],
      "execution_count": 5,
      "outputs": [
        {
          "output_type": "execute_result",
          "data": {
            "text/plain": [
              "(25000,)"
            ]
          },
          "metadata": {
            "tags": []
          },
          "execution_count": 5
        }
      ]
    },
    {
      "cell_type": "code",
      "metadata": {
        "id": "Q6iD3a1VUa6d"
      },
      "source": [
        "max_features = 20000\n",
        "# This will be used later for out input layer"
      ],
      "execution_count": 10,
      "outputs": []
    },
    {
      "cell_type": "code",
      "metadata": {
        "colab": {
          "base_uri": "https://localhost:8080/"
        },
        "id": "lK9k4UKJM9EC",
        "outputId": "bb677e96-8ddc-4d7c-fbe2-cd9de7173088"
      },
      "source": [
        "# binary labels \n",
        "# 1 -> positive sentiment expressed in movie review\n",
        "# 0 -> negative sentiment expressed in movie review \n",
        "num_unique_labels = len(np.unique(y_train))\n",
        "num_unique_labels"
      ],
      "execution_count": 6,
      "outputs": [
        {
          "output_type": "execute_result",
          "data": {
            "text/plain": [
              "2"
            ]
          },
          "metadata": {
            "tags": []
          },
          "execution_count": 6
        }
      ]
    },
    {
      "cell_type": "code",
      "metadata": {
        "deletable": false,
        "id": "c0awRJCnIM2G",
        "nbgrader": {
          "cell_type": "code",
          "checksum": "06de4d9b7986caa5aef6c537af138ee9",
          "grade": false,
          "grade_id": "cell-fb23c1d7d1168a73",
          "locked": false,
          "schema_version": 3,
          "solution": true,
          "task": false
        }
      },
      "source": [
        "# although there are some implmentations of LSTM models that can handle variable length samples, this is not one of those models\n",
        "# so we need to standardize the length of our movies\n",
        "# reviews that are longer than maxlen are truncated\n",
        "# reivews that are shorter than maxlen are padded with 0 (Or some other value that you provide)\n",
        "\n",
        "# YOUR CODE HERE\n",
        "maxlen = 80\n",
        "x_train = sequence.pad_sequences(x_train, maxlen=maxlen)\n",
        "x_test = sequence.pad_sequences(x_test, maxlen=maxlen)"
      ],
      "execution_count": 7,
      "outputs": []
    },
    {
      "cell_type": "code",
      "metadata": {
        "colab": {
          "base_uri": "https://localhost:8080/"
        },
        "id": "VU5RC8csjFAf",
        "outputId": "9332d670-96cc-4ca6-af73-52adb6f9903a"
      },
      "source": [
        "# Trying out a for loop\n",
        "n = 10\n",
        "for i in range(n):\n",
        "  print (x_train[i].shape)"
      ],
      "execution_count": 8,
      "outputs": [
        {
          "output_type": "stream",
          "text": [
            "(80,)\n",
            "(80,)\n",
            "(80,)\n",
            "(80,)\n",
            "(80,)\n",
            "(80,)\n",
            "(80,)\n",
            "(80,)\n",
            "(80,)\n",
            "(80,)\n"
          ],
          "name": "stdout"
        }
      ]
    },
    {
      "cell_type": "markdown",
      "metadata": {
        "id": "7laq1FpESIRY"
      },
      "source": [
        "### Build a 1 hidden layer LSTM language model"
      ]
    },
    {
      "cell_type": "code",
      "metadata": {
        "colab": {
          "base_uri": "https://localhost:8080/"
        },
        "id": "ob7GwCdbjtnd",
        "outputId": "87954a7d-1b85-4e26-b485-5ee8f8e60ed3"
      },
      "source": [
        " x_train[1]"
      ],
      "execution_count": 9,
      "outputs": [
        {
          "output_type": "execute_result",
          "data": {
            "text/plain": [
              "array([ 125,   68,    2, 6853,   15,  349,  165, 4362,   98,    5,    4,\n",
              "        228,    9,   43,    2, 1157,   15,  299,  120,    5,  120,  174,\n",
              "         11,  220,  175,  136,   50,    9, 4373,  228, 8255,    5,    2,\n",
              "        656,  245, 2350,    5,    4, 9837,  131,  152,  491,   18,    2,\n",
              "         32, 7464, 1212,   14,    9,    6,  371,   78,   22,  625,   64,\n",
              "       1382,    9,    8,  168,  145,   23,    4, 1690,   15,   16,    4,\n",
              "       1355,    5,   28,    6,   52,  154,  462,   33,   89,   78,  285,\n",
              "         16,  145,   95], dtype=int32)"
            ]
          },
          "metadata": {
            "tags": []
          },
          "execution_count": 9
        }
      ]
    },
    {
      "cell_type": "code",
      "metadata": {
        "colab": {
          "base_uri": "https://localhost:8080/"
        },
        "deletable": false,
        "id": "QD_NjHw-pcJS",
        "nbgrader": {
          "cell_type": "code",
          "checksum": "200cc0a64ca234e836bf8fe83a553143",
          "grade": false,
          "grade_id": "cell-9c285c5d84213905",
          "locked": false,
          "schema_version": 3,
          "solution": true,
          "task": false
        },
        "outputId": "b0ad8682-a9aa-4502-a95b-38fdbe98b4b1"
      },
      "source": [
        "# YOUR CODE HERE\n",
        "# instantiate the sequential class\n",
        "model = Sequential()\n",
        "\n",
        "# create input layer (explicitly)\n",
        "# this layer identifies how many unique words appear in our dataset (i.e. 20,000 for us)\n",
        "# and creates a fixed sized input layer vector to structure our incoming article vectors\n",
        "# so each article gets transformed into a 20,000 dimension vector (20,000 for us)\n",
        "model.add(Embedding(max_features, 128))\n",
        "\n",
        "# create hidden layer\n",
        "# this is where we are processing the sequential data\n",
        "model.add(LSTM(128, dropout=0.2, return_sequences=False))\n",
        "\n",
        "# create output layer\n",
        "model.add(Dense(1, activation=\"sigmoid\"))\n",
        "\n",
        "# compile model\n",
        "model.compile(loss=\"binary_crossentropy\", optimizer=\"adam\", metrics=[\"accuracy\"])\n",
        "\n",
        "# summarizing our model\n",
        "model.summary()"
      ],
      "execution_count": 11,
      "outputs": [
        {
          "output_type": "stream",
          "text": [
            "Model: \"sequential\"\n",
            "_________________________________________________________________\n",
            "Layer (type)                 Output Shape              Param #   \n",
            "=================================================================\n",
            "embedding (Embedding)        (None, None, 128)         2560000   \n",
            "_________________________________________________________________\n",
            "lstm (LSTM)                  (None, 128)               131584    \n",
            "_________________________________________________________________\n",
            "dense (Dense)                (None, 1)                 129       \n",
            "=================================================================\n",
            "Total params: 2,691,713\n",
            "Trainable params: 2,691,713\n",
            "Non-trainable params: 0\n",
            "_________________________________________________________________\n"
          ],
          "name": "stdout"
        }
      ]
    },
    {
      "cell_type": "code",
      "metadata": {
        "id": "y5KmPTJFcrax",
        "outputId": "aa84dd6a-5d74-4996-bde8-d96076b52a28",
        "colab": {
          "base_uri": "https://localhost:8080/"
        }
      },
      "source": [
        "# Dividing the number of parameters (weights) by the number of the LSTM layers' output shape gives us the number of features in our training set\n",
        "2560000/128"
      ],
      "execution_count": 27,
      "outputs": [
        {
          "output_type": "execute_result",
          "data": {
            "text/plain": [
              "20000.0"
            ]
          },
          "metadata": {
            "tags": []
          },
          "execution_count": 27
        }
      ]
    },
    {
      "cell_type": "code",
      "metadata": {
        "colab": {
          "base_uri": "https://localhost:8080/"
        },
        "id": "NF7ieH8ESIRY",
        "outputId": "60d9f8be-56ae-433b-9809-e4ef9f25bf9c"
      },
      "source": [
        "results_one_layer = model.fit(x_train, \n",
        "                              y_train,\n",
        "                              batch_size=256, \n",
        "                              epochs=5, \n",
        "                              validation_data=(x_test,y_test))"
      ],
      "execution_count": 12,
      "outputs": [
        {
          "output_type": "stream",
          "text": [
            "Epoch 1/5\n",
            "98/98 [==============================] - 9s 47ms/step - loss: 0.4916 - accuracy: 0.7538 - val_loss: 0.3652 - val_accuracy: 0.8401\n",
            "Epoch 2/5\n",
            "98/98 [==============================] - 4s 42ms/step - loss: 0.2752 - accuracy: 0.8895 - val_loss: 0.3605 - val_accuracy: 0.8413\n",
            "Epoch 3/5\n",
            "98/98 [==============================] - 4s 42ms/step - loss: 0.1898 - accuracy: 0.9288 - val_loss: 0.4412 - val_accuracy: 0.8261\n",
            "Epoch 4/5\n",
            "98/98 [==============================] - 4s 42ms/step - loss: 0.1344 - accuracy: 0.9522 - val_loss: 0.4993 - val_accuracy: 0.8244\n",
            "Epoch 5/5\n",
            "98/98 [==============================] - 4s 42ms/step - loss: 0.0900 - accuracy: 0.9692 - val_loss: 0.5333 - val_accuracy: 0.8156\n"
          ],
          "name": "stdout"
        }
      ]
    },
    {
      "cell_type": "markdown",
      "metadata": {
        "id": "bmlYeJn2SIRZ"
      },
      "source": [
        "### Build a 1 hidden layer Bidirectional LSTM language model\n",
        "\n",
        "A Bidirectional LSTM, or biLSTM, is a sequence processing model that consists of two LSTMs: **one taking the input in a forward direction**, and **the other in a backwards direction**. BiLSTMs effectively increase the amount of information available to the network, improving the context available to the algorithm (e.g. knowing what words immediately follow and precede a word in a sentence).\n",
        "\n",
        "![](https://miro.medium.com/max/764/1*6QnPUSv_t9BY9Fv8_aLb-Q.png)"
      ]
    },
    {
      "cell_type": "code",
      "metadata": {
        "colab": {
          "base_uri": "https://localhost:8080/"
        },
        "deletable": false,
        "id": "cKyGb4TzIM2O",
        "nbgrader": {
          "cell_type": "code",
          "checksum": "b7058ca0b8f53f28530be9c93a8bef46",
          "grade": false,
          "grade_id": "cell-706b7be103484984",
          "locked": false,
          "schema_version": 3,
          "solution": true,
          "task": false
        },
        "outputId": "0dab8383-2ea9-4c11-9124-c3560e9309b5"
      },
      "source": [
        "# YOUR CODE HERE\n",
        "# as usual, we begin to build our model by instantiating a Sequential class \n",
        "model = Sequential()\n",
        "# input layer \n",
        "# we are explicitly declaring the input layer here by add an Embedding object \n",
        "model.add(Embedding(max_features, 128))\n",
        "# hidden layer 1 \n",
        "# LSTM function must be within the Bidirectional funtion in order to use a Bidirectional LSTM NLP model\n",
        "model.add(Bidirectional(LSTM(128, return_sequences=False)))\n",
        "# output layer \n",
        "model.add(Dense(1, activation='sigmoid'))\n",
        "model.compile(loss='binary_crossentropy',\n",
        "              optimizer='adam', \n",
        "              metrics=['accuracy'])\n",
        "model.summary()"
      ],
      "execution_count": 13,
      "outputs": [
        {
          "output_type": "stream",
          "text": [
            "Model: \"sequential_1\"\n",
            "_________________________________________________________________\n",
            "Layer (type)                 Output Shape              Param #   \n",
            "=================================================================\n",
            "embedding_1 (Embedding)      (None, None, 128)         2560000   \n",
            "_________________________________________________________________\n",
            "bidirectional (Bidirectional (None, 256)               263168    \n",
            "_________________________________________________________________\n",
            "dense_1 (Dense)              (None, 1)                 257       \n",
            "=================================================================\n",
            "Total params: 2,823,425\n",
            "Trainable params: 2,823,425\n",
            "Non-trainable params: 0\n",
            "_________________________________________________________________\n"
          ],
          "name": "stdout"
        }
      ]
    },
    {
      "cell_type": "code",
      "metadata": {
        "colab": {
          "base_uri": "https://localhost:8080/"
        },
        "id": "q9w4fhx7SIRa",
        "outputId": "34ac21c9-d651-4593-a10e-aa8bf5af63a3"
      },
      "source": [
        "results_biLSTM = model.fit(x_train, y_train,\n",
        "                      batch_size=256, \n",
        "                      epochs=5, \n",
        "                      validation_data=(x_test,y_test))"
      ],
      "execution_count": 14,
      "outputs": [
        {
          "output_type": "stream",
          "text": [
            "Epoch 1/5\n",
            "98/98 [==============================] - 8s 60ms/step - loss: 0.4782 - accuracy: 0.7547 - val_loss: 0.3782 - val_accuracy: 0.8384\n",
            "Epoch 2/5\n",
            "98/98 [==============================] - 5s 53ms/step - loss: 0.2694 - accuracy: 0.8928 - val_loss: 0.3725 - val_accuracy: 0.8333\n",
            "Epoch 3/5\n",
            "98/98 [==============================] - 5s 52ms/step - loss: 0.1814 - accuracy: 0.9330 - val_loss: 0.4389 - val_accuracy: 0.8231\n",
            "Epoch 4/5\n",
            "98/98 [==============================] - 5s 52ms/step - loss: 0.1258 - accuracy: 0.9554 - val_loss: 0.5173 - val_accuracy: 0.8172\n",
            "Epoch 5/5\n",
            "98/98 [==============================] - 5s 52ms/step - loss: 0.0903 - accuracy: 0.9689 - val_loss: 0.6223 - val_accuracy: 0.8082\n"
          ],
          "name": "stdout"
        }
      ]
    },
    {
      "cell_type": "code",
      "metadata": {
        "colab": {
          "base_uri": "https://localhost:8080/",
          "height": 404
        },
        "id": "RZx3Zs7tIM2Q",
        "outputId": "88535c18-6d23-49b7-aa92-6d040f64a32c"
      },
      "source": [
        "# Plot training & validation loss values\n",
        "import matplotlib.pyplot as plt\n",
        "\n",
        "epoch_list = np.arange(1,6)\n",
        "\n",
        "plt.figure(figsize=(10,6))\n",
        "plt.grid()\n",
        "plt.xticks(epoch_list)\n",
        "# results for 1-layer lstm model\n",
        "plt.plot(epoch_list, results_one_layer.history['loss'], \"--\", label=\"1 layer Train\")\n",
        "plt.plot(epoch_list, results_one_layer.history['val_loss'], \"--\", label = \"1 layer Test\")\n",
        "\n",
        "# results for 3-layer lstm model\n",
        "plt.plot(epoch_list, results_biLSTM.history['loss'], label=\"biLSTM Train \")\n",
        "plt.plot(epoch_list, results_biLSTM.history['val_loss'], label = \"biLSTM Test\")\n",
        "plt.title('Model loss')\n",
        "plt.ylabel('Loss')\n",
        "plt.xlabel('Epoch')\n",
        "plt.legend()\n",
        "plt.show();"
      ],
      "execution_count": 15,
      "outputs": [
        {
          "output_type": "display_data",
          "data": {
            "image/png": "[encoded data removed]",
            "text/plain": [
              "<Figure size 720x432 with 1 Axes>"
            ]
          },
          "metadata": {
            "tags": [],
            "needs_background": "light"
          }
        }
      ]
    },
    {
      "cell_type": "markdown",
      "metadata": {
        "id": "L9Ps3CauIM2S"
      },
      "source": [
        "## Challenge\n",
        "\n",
        "You will be expected to use an Keras LSTM for a classicification task on the *Sprint Challenge*. "
      ]
    },
    {
      "cell_type": "markdown",
      "metadata": {
        "id": "7pETWPIe362y"
      },
      "source": [
        "--------\n",
        "# LSTM Text generation with Keras (Learn)"
      ]
    },
    {
      "cell_type": "markdown",
      "metadata": {
        "id": "gyaGdZ74SIRb"
      },
      "source": [
        "Using sequential models to generate text data is a very popular application of recursive deep learning models. A couple of popular applications are [**chat bots**](https://hackernoon.com/deep-learning-chatbot-everything-you-need-to-know-r11jm30bc) and language translators such as [**google translate**](https://ai.googleblog.com/2020/06/recent-advances-in-google-translate.html). \n",
        "\n",
        "In order to properly build a chat bot or translater you need to use multiple lstm models in an encoder & decoder framwork known as a [**sequence 2 sequence model**](https://keras.io/examples/nlp/lstm_seq2seq/) .\n",
        "\n",
        "\n",
        "![](https://jeddy92.github.io/images/ts_intro/seq2seq_lang.png)\n",
        "\n",
        "Also, now a days, using a standard LSTM isn't enough. You also have to use a version of lstm seq2seq models known as [**transformers**](https://towardsdatascience.com/transformers-141e32e69591). Transformers give seq2seq models the capacity to pay attention to specific portions of the input sequence, the most relevent portion in order to make a prediction. Yes, that's right, humanity has figured out how to convert attention into an algorithm. Next stop, self-awareness! \n",
        "\n",
        "The above mentions of sequence 2 sequence models and transformers are for a larger contextual understanding of the landscape of language models and how LSTMs fit into this landscape. Although **we will cover the endcoder/decoder framework in a future lesson, transformers are outside the scope of Unit 4**. However, once you learn about LSTMs and encoder/decoder frameworks, you will have all necessary information to then go on and learn about transformers on your own. At that point, the only really new bit you'll be learning is the [**attention mechanism**](https://towardsdatascience.com/intuitive-understanding-of-attention-mechanism-in-deep-learning-6c9482aecf4f). \n",
        "\n",
        "\n",
        "As a first pass at text generation, we'll stick to standard LSTM models. "
      ]
    },
    {
      "cell_type": "markdown",
      "metadata": {
        "id": "BK-GrUGvIM2T"
      },
      "source": [
        "-----\n",
        "# Text Generation using LSTMs\n",
        "\n",
        "What else can we do with LSTMs? Since we're analyzing the *sequence*, we can do more than classify - we can *generate* text. I'ved pulled some news stories using [newspaper](https://github.com/codelucas/newspaper/).\n",
        "\n",
        "This example is drawn from the Keras [documentation](https://keras.io/examples/lstm_text_generation/)."
      ]
    },
    {
      "cell_type": "code",
      "metadata": {
        "id": "q64qHEYIIM2U"
      },
      "source": [
        "from tensorflow.keras.callbacks import LambdaCallback\n",
        "from tensorflow.keras.models import Sequential\n",
        "from tensorflow.keras.layers import Dense, LSTM\n",
        "\n",
        "import tensorflow as tf\n",
        "from tensorflow.keras.preprocessing import sequence\n",
        "\n",
        "import re\n",
        "import numpy as np\n",
        "import pandas as pd\n",
        "import random\n",
        "import sys\n",
        "import os"
      ],
      "execution_count": 16,
      "outputs": []
    },
    {
      "cell_type": "code",
      "metadata": {
        "id": "ScU6KT-CSIRc"
      },
      "source": [
        "# a custom data prep class that we'll be using \n",
        "from data_cleaning_toolkit_class import data_cleaning_toolkit"
      ],
      "execution_count": 34,
      "outputs": []
    },
    {
      "cell_type": "code",
      "metadata": {
        "colab": {
          "base_uri": "https://localhost:8080/",
          "height": 206
        },
        "id": "MxcXsdsSIM2W",
        "outputId": "069249fc-3423-4510-f27f-a0aca47f982f"
      },
      "source": [
        "# load text data (articles)\n",
        "df = pd.read_json('https://raw.githubusercontent.com/LambdaSchool/DS-Unit-4-Sprint-3-Deep-Learning/main/module1-rnn-and-lstm/wp_articles.json')\n",
        "df.head()"
      ],
      "execution_count": 19,
      "outputs": [
        {
          "output_type": "execute_result",
          "data": {
            "text/html": [
              "<div>\n",
              "<style scoped>\n",
              "    .dataframe tbody tr th:only-of-type {\n",
              "        vertical-align: middle;\n",
              "    }\n",
              "\n",
              "    .dataframe tbody tr th {\n",
              "        vertical-align: top;\n",
              "    }\n",
              "\n",
              "    .dataframe thead th {\n",
              "        text-align: right;\n",
              "    }\n",
              "</style>\n",
              "<table border=\"1\" class=\"dataframe\">\n",
              "  <thead>\n",
              "    <tr style=\"text-align: right;\">\n",
              "      <th></th>\n",
              "      <th>article</th>\n",
              "    </tr>\n",
              "  </thead>\n",
              "  <tbody>\n",
              "    <tr>\n",
              "      <th>0</th>\n",
              "      <td>Contributing columnist\\n\\nThe House is on fire...</td>\n",
              "    </tr>\n",
              "    <tr>\n",
              "      <th>1</th>\n",
              "      <td>When President Trump announced his decision to...</td>\n",
              "    </tr>\n",
              "    <tr>\n",
              "      <th>10</th>\n",
              "      <td>Russian President Vladimir Putin speaks at a s...</td>\n",
              "    </tr>\n",
              "    <tr>\n",
              "      <th>100</th>\n",
              "      <td>“The Queen’s Speech” is designed to acknowledg...</td>\n",
              "    </tr>\n",
              "    <tr>\n",
              "      <th>101</th>\n",
              "      <td>Like an aging rock star, the president is now ...</td>\n",
              "    </tr>\n",
              "  </tbody>\n",
              "</table>\n",
              "</div>"
            ],
            "text/plain": [
              "                                               article\n",
              "0    Contributing columnist\\n\\nThe House is on fire...\n",
              "1    When President Trump announced his decision to...\n",
              "10   Russian President Vladimir Putin speaks at a s...\n",
              "100  “The Queen’s Speech” is designed to acknowledg...\n",
              "101  Like an aging rock star, the president is now ..."
            ]
          },
          "metadata": {
            "tags": []
          },
          "execution_count": 19
        }
      ]
    },
    {
      "cell_type": "code",
      "metadata": {
        "deletable": false,
        "nbgrader": {
          "cell_type": "code",
          "checksum": "54b3f47f5eeed6cf3fd9732ac8abf1e5",
          "grade": false,
          "grade_id": "cell-292d1e2b08c74976",
          "locked": false,
          "schema_version": 3,
          "solution": true,
          "task": false
        },
        "id": "CgXjqd3dSIRc"
      },
      "source": [
        "# YOUR CODE HERE\n",
        "dctk = data_cleaning_toolkit()"
      ],
      "execution_count": 35,
      "outputs": []
    },
    {
      "cell_type": "code",
      "metadata": {
        "deletable": false,
        "nbgrader": {
          "cell_type": "code",
          "checksum": "b46715962d32c041b4849afdf6c87232",
          "grade": false,
          "grade_id": "cell-6a39513d81d87f1b",
          "locked": false,
          "schema_version": 3,
          "solution": true,
          "task": false
        },
        "id": "6aqfhM18SIRd"
      },
      "source": [
        "# YOUR CODE HERE\n",
        "df[\"clean_data\"] = df.article.apply(dctk.clean_data)"
      ],
      "execution_count": 36,
      "outputs": []
    },
    {
      "cell_type": "code",
      "metadata": {
        "colab": {
          "base_uri": "https://localhost:8080/"
        },
        "id": "xdsGGGGssHUz",
        "outputId": "ea266113-f9dd-43bd-dcfe-424cee07ad47"
      },
      "source": [
        "df.iloc[0]"
      ],
      "execution_count": 37,
      "outputs": [
        {
          "output_type": "execute_result",
          "data": {
            "text/plain": [
              "article       Contributing columnist\\n\\nThe House is on fire...\n",
              "clean_data    contributing columnistthe house is on fire and...\n",
              "Name: 0, dtype: object"
            ]
          },
          "metadata": {
            "tags": []
          },
          "execution_count": 37
        }
      ]
    },
    {
      "cell_type": "code",
      "metadata": {
        "id": "zsrZY3IddLyH",
        "outputId": "aa581b2a-5a6e-4396-abda-a203fdb97a9e",
        "colab": {
          "base_uri": "https://localhost:8080/",
          "height": 139
        }
      },
      "source": [
        "df.clean_data.iloc[0][:1000]"
      ],
      "execution_count": 38,
      "outputs": [
        {
          "output_type": "execute_result",
          "data": {
            "application/vnd.google.colaboratory.intrinsic+json": {
              "type": "string"
            },
            "text/plain": [
              "'contributing columnistthe house is on fire and with each passing day donald trump defiles the office of the president if only past defrocked presidents could provide a roadmap for this firestormandrew johnson fought impeachment vigorously and survived removal but never won reelection richard nixon got in the way of justice but eventually bowed to the rule of law accepting his asterisk in the annals of history and resigning before certain removal bill clinton expressed contrition went on to complete his presidency with high approval ratings and has remained a popular former presidentif you care about democracy the rule of law and nearlyyears of constitutional governance take heed president trump is no clinton or nixon or even johnson he will not go quietly it will be ugly he will betray us and the rule of law in the processdefying subpoenas withholding documents blocking witnessesthis presidency is fouled with disrespect for rules boundaries and norms trump walked away from major agreem'"
            ]
          },
          "metadata": {
            "tags": []
          },
          "execution_count": 38
        }
      ]
    },
    {
      "cell_type": "code",
      "metadata": {
        "id": "wwhICQ1pdPnn"
      },
      "source": [
        "# move clean data out of dataframe and into numpy array\n",
        "clean_data = df.clean_data.values\n",
        "\n",
        "# define length of articles by number of characters \n",
        "doc_len = 200"
      ],
      "execution_count": 39,
      "outputs": []
    },
    {
      "cell_type": "code",
      "metadata": {
        "id": "UVEzUe7HdX0w",
        "outputId": "eb5b9933-86c7-4534-b2e5-4ecbbd88f230",
        "colab": {
          "base_uri": "https://localhost:8080/"
        }
      },
      "source": [
        "# numerically encode documents\n",
        "# dctk.create_char_sequences(clean_data, doc_len)\n",
        "dctk.create_char_sequenes(clean_data,doc_len)"
      ],
      "execution_count": 42,
      "outputs": [
        {
          "output_type": "stream",
          "text": [
            "sequences:  168949\n"
          ],
          "name": "stdout"
        }
      ]
    },
    {
      "cell_type": "code",
      "metadata": {
        "id": "I1rpulBygBE4"
      },
      "source": [
        "# create X and Y split \n",
        "x, y = dctk.create_X_and_Y()"
      ],
      "execution_count": 44,
      "outputs": []
    },
    {
      "cell_type": "code",
      "metadata": {
        "id": "L_nC5BtygCNn"
      },
      "source": [
        "# this is our encoded doc_term matrix\n",
        "dtm = dctk.sequences"
      ],
      "execution_count": 45,
      "outputs": []
    },
    {
      "cell_type": "code",
      "metadata": {
        "id": "jODgRUM1gEya",
        "outputId": "a4686238-cd3e-46f3-f2c5-81f1b837712a",
        "colab": {
          "base_uri": "https://localhost:8080/"
        }
      },
      "source": [
        "# number of seq samples \n",
        "len(dtm)"
      ],
      "execution_count": 46,
      "outputs": [
        {
          "output_type": "execute_result",
          "data": {
            "text/plain": [
              "168949"
            ]
          },
          "metadata": {
            "tags": []
          },
          "execution_count": 46
        }
      ]
    },
    {
      "cell_type": "code",
      "metadata": {
        "id": "dZXaW6cQgG_M",
        "outputId": "c4b460ba-45b6-446d-cc25-73e37dae899d",
        "colab": {
          "base_uri": "https://localhost:8080/"
        }
      },
      "source": [
        "# these are the numerical encodings of chars \n",
        "dtm[0]"
      ],
      "execution_count": 47,
      "outputs": [
        {
          "output_type": "execute_result",
          "data": {
            "text/plain": [
              "[17,\n",
              " 9,\n",
              " 4,\n",
              " 22,\n",
              " 3,\n",
              " 12,\n",
              " 10,\n",
              " 0,\n",
              " 22,\n",
              " 12,\n",
              " 4,\n",
              " 15,\n",
              " 21,\n",
              " 17,\n",
              " 9,\n",
              " 6,\n",
              " 0,\n",
              " 8,\n",
              " 4,\n",
              " 12,\n",
              " 1,\n",
              " 22,\n",
              " 22,\n",
              " 18,\n",
              " 20,\n",
              " 21,\n",
              " 18,\n",
              " 9,\n",
              " 0,\n",
              " 1,\n",
              " 20,\n",
              " 21,\n",
              " 12,\n",
              " 1,\n",
              " 21,\n",
              " 9,\n",
              " 4,\n",
              " 21,\n",
              " 19,\n",
              " 12,\n",
              " 3,\n",
              " 20,\n",
              " 21,\n",
              " 11,\n",
              " 4,\n",
              " 16,\n",
              " 21,\n",
              " 2,\n",
              " 12,\n",
              " 22,\n",
              " 18,\n",
              " 21,\n",
              " 20,\n",
              " 11,\n",
              " 17,\n",
              " 18,\n",
              " 21,\n",
              " 13,\n",
              " 11,\n",
              " 1,\n",
              " 1,\n",
              " 12,\n",
              " 4,\n",
              " 15,\n",
              " 21,\n",
              " 16,\n",
              " 11,\n",
              " 24,\n",
              " 21,\n",
              " 16,\n",
              " 9,\n",
              " 4,\n",
              " 11,\n",
              " 6,\n",
              " 16,\n",
              " 21,\n",
              " 22,\n",
              " 3,\n",
              " 0,\n",
              " 8,\n",
              " 13,\n",
              " 21,\n",
              " 16,\n",
              " 20,\n",
              " 19,\n",
              " 12,\n",
              " 6,\n",
              " 20,\n",
              " 1,\n",
              " 21,\n",
              " 22,\n",
              " 18,\n",
              " 20,\n",
              " 21,\n",
              " 9,\n",
              " 19,\n",
              " 19,\n",
              " 12,\n",
              " 17,\n",
              " 20,\n",
              " 21,\n",
              " 9,\n",
              " 19,\n",
              " 21,\n",
              " 22,\n",
              " 18,\n",
              " 20,\n",
              " 21,\n",
              " 13,\n",
              " 3,\n",
              " 20,\n",
              " 1,\n",
              " 12,\n",
              " 16,\n",
              " 20,\n",
              " 4,\n",
              " 22,\n",
              " 21,\n",
              " 12,\n",
              " 19,\n",
              " 21,\n",
              " 9,\n",
              " 4,\n",
              " 6,\n",
              " 24,\n",
              " 21,\n",
              " 13,\n",
              " 11,\n",
              " 1,\n",
              " 22,\n",
              " 21,\n",
              " 16,\n",
              " 20,\n",
              " 19,\n",
              " 3,\n",
              " 9,\n",
              " 17,\n",
              " 14,\n",
              " 20,\n",
              " 16,\n",
              " 21,\n",
              " 13,\n",
              " 3,\n",
              " 20,\n",
              " 1,\n",
              " 12,\n",
              " 16,\n",
              " 20,\n",
              " 4,\n",
              " 22,\n",
              " 1,\n",
              " 21,\n",
              " 17,\n",
              " 9,\n",
              " 0,\n",
              " 6,\n",
              " 16,\n",
              " 21,\n",
              " 13,\n",
              " 3,\n",
              " 9,\n",
              " 5,\n",
              " 12,\n",
              " 16,\n",
              " 20,\n",
              " 21,\n",
              " 11,\n",
              " 21,\n",
              " 3,\n",
              " 9,\n",
              " 11,\n",
              " 16,\n",
              " 8,\n",
              " 11,\n",
              " 13,\n",
              " 21,\n",
              " 19,\n",
              " 9,\n",
              " 3,\n",
              " 21,\n",
              " 22,\n",
              " 18,\n",
              " 12,\n",
              " 1,\n",
              " 21,\n",
              " 19,\n",
              " 12,\n",
              " 3,\n",
              " 20,\n",
              " 1,\n",
              " 22,\n",
              " 9,\n",
              " 3,\n",
              " 8,\n",
              " 11,\n",
              " 4,\n",
              " 16,\n",
              " 3,\n",
              " 20,\n",
              " 2]"
            ]
          },
          "metadata": {
            "tags": []
          },
          "execution_count": 47
        }
      ]
    },
    {
      "cell_type": "code",
      "metadata": {
        "id": "AxfPqAX4gKLe",
        "outputId": "c196550c-0726-4cb1-a0a4-a5194836e8be",
        "colab": {
          "base_uri": "https://localhost:8080/"
        }
      },
      "source": [
        "# character to index look up dict\n",
        "dctk.char_int"
      ],
      "execution_count": 48,
      "outputs": [
        {
          "output_type": "execute_result",
          "data": {
            "text/plain": [
              "{' ': 21,\n",
              " 'a': 11,\n",
              " 'b': 10,\n",
              " 'c': 17,\n",
              " 'd': 16,\n",
              " 'e': 20,\n",
              " 'f': 19,\n",
              " 'g': 15,\n",
              " 'h': 18,\n",
              " 'i': 12,\n",
              " 'j': 26,\n",
              " 'k': 14,\n",
              " 'l': 6,\n",
              " 'm': 8,\n",
              " 'n': 4,\n",
              " 'o': 9,\n",
              " 'p': 13,\n",
              " 'q': 7,\n",
              " 'r': 3,\n",
              " 's': 1,\n",
              " 't': 22,\n",
              " 'u': 0,\n",
              " 'v': 5,\n",
              " 'w': 2,\n",
              " 'x': 25,\n",
              " 'y': 24,\n",
              " 'z': 23}"
            ]
          },
          "metadata": {
            "tags": []
          },
          "execution_count": 48
        }
      ]
    },
    {
      "cell_type": "code",
      "metadata": {
        "id": "4rfL8kPlgOxw",
        "outputId": "64c5f8ce-4000-423b-8237-e81c44fc65f4",
        "colab": {
          "base_uri": "https://localhost:8080/"
        }
      },
      "source": [
        "# index to character look up dict\n",
        "# We have this and the dictionary above because we're using a bidirectional LSTM afterall ;)\n",
        "dctk.int_char"
      ],
      "execution_count": 49,
      "outputs": [
        {
          "output_type": "execute_result",
          "data": {
            "text/plain": [
              "{0: 'u',\n",
              " 1: 's',\n",
              " 2: 'w',\n",
              " 3: 'r',\n",
              " 4: 'n',\n",
              " 5: 'v',\n",
              " 6: 'l',\n",
              " 7: 'q',\n",
              " 8: 'm',\n",
              " 9: 'o',\n",
              " 10: 'b',\n",
              " 11: 'a',\n",
              " 12: 'i',\n",
              " 13: 'p',\n",
              " 14: 'k',\n",
              " 15: 'g',\n",
              " 16: 'd',\n",
              " 17: 'c',\n",
              " 18: 'h',\n",
              " 19: 'f',\n",
              " 20: 'e',\n",
              " 21: ' ',\n",
              " 22: 't',\n",
              " 23: 'z',\n",
              " 24: 'y',\n",
              " 25: 'x',\n",
              " 26: 'j'}"
            ]
          },
          "metadata": {
            "tags": []
          },
          "execution_count": 49
        }
      ]
    },
    {
      "cell_type": "code",
      "metadata": {
        "id": "utEMFgXVgXXY",
        "outputId": "fef11fd3-dc8b-4227-8fca-ff07c1260ee3",
        "colab": {
          "base_uri": "https://localhost:8080/"
        }
      },
      "source": [
        "# reverse the numerical encoding of a sequence \n",
        "for index in dctk.sequences[0]:\n",
        "    print (dctk.int_char[index])"
      ],
      "execution_count": 50,
      "outputs": [
        {
          "output_type": "stream",
          "text": [
            "c\n",
            "o\n",
            "n\n",
            "t\n",
            "r\n",
            "i\n",
            "b\n",
            "u\n",
            "t\n",
            "i\n",
            "n\n",
            "g\n",
            " \n",
            "c\n",
            "o\n",
            "l\n",
            "u\n",
            "m\n",
            "n\n",
            "i\n",
            "s\n",
            "t\n",
            "t\n",
            "h\n",
            "e\n",
            " \n",
            "h\n",
            "o\n",
            "u\n",
            "s\n",
            "e\n",
            " \n",
            "i\n",
            "s\n",
            " \n",
            "o\n",
            "n\n",
            " \n",
            "f\n",
            "i\n",
            "r\n",
            "e\n",
            " \n",
            "a\n",
            "n\n",
            "d\n",
            " \n",
            "w\n",
            "i\n",
            "t\n",
            "h\n",
            " \n",
            "e\n",
            "a\n",
            "c\n",
            "h\n",
            " \n",
            "p\n",
            "a\n",
            "s\n",
            "s\n",
            "i\n",
            "n\n",
            "g\n",
            " \n",
            "d\n",
            "a\n",
            "y\n",
            " \n",
            "d\n",
            "o\n",
            "n\n",
            "a\n",
            "l\n",
            "d\n",
            " \n",
            "t\n",
            "r\n",
            "u\n",
            "m\n",
            "p\n",
            " \n",
            "d\n",
            "e\n",
            "f\n",
            "i\n",
            "l\n",
            "e\n",
            "s\n",
            " \n",
            "t\n",
            "h\n",
            "e\n",
            " \n",
            "o\n",
            "f\n",
            "f\n",
            "i\n",
            "c\n",
            "e\n",
            " \n",
            "o\n",
            "f\n",
            " \n",
            "t\n",
            "h\n",
            "e\n",
            " \n",
            "p\n",
            "r\n",
            "e\n",
            "s\n",
            "i\n",
            "d\n",
            "e\n",
            "n\n",
            "t\n",
            " \n",
            "i\n",
            "f\n",
            " \n",
            "o\n",
            "n\n",
            "l\n",
            "y\n",
            " \n",
            "p\n",
            "a\n",
            "s\n",
            "t\n",
            " \n",
            "d\n",
            "e\n",
            "f\n",
            "r\n",
            "o\n",
            "c\n",
            "k\n",
            "e\n",
            "d\n",
            " \n",
            "p\n",
            "r\n",
            "e\n",
            "s\n",
            "i\n",
            "d\n",
            "e\n",
            "n\n",
            "t\n",
            "s\n",
            " \n",
            "c\n",
            "o\n",
            "u\n",
            "l\n",
            "d\n",
            " \n",
            "p\n",
            "r\n",
            "o\n",
            "v\n",
            "i\n",
            "d\n",
            "e\n",
            " \n",
            "a\n",
            " \n",
            "r\n",
            "o\n",
            "a\n",
            "d\n",
            "m\n",
            "a\n",
            "p\n",
            " \n",
            "f\n",
            "o\n",
            "r\n",
            " \n",
            "t\n",
            "h\n",
            "i\n",
            "s\n",
            " \n",
            "f\n",
            "i\n",
            "r\n",
            "e\n",
            "s\n",
            "t\n",
            "o\n",
            "r\n",
            "m\n",
            "a\n",
            "n\n",
            "d\n",
            "r\n",
            "e\n",
            "w\n"
          ],
          "name": "stdout"
        }
      ]
    },
    {
      "cell_type": "code",
      "metadata": {
        "id": "ilbbuavCSIRd"
      },
      "source": [
        "def sample(preds, temperature=1.0):\n",
        "    \"\"\"\n",
        "    Helper function to sample an index from a probability array\n",
        "    \"\"\"\n",
        "    # convert preds to array \n",
        "    preds = np.asarray(preds).astype('float64')\n",
        "    # scale values \n",
        "    preds = np.log(preds) / temperature\n",
        "    # exponentiate values\n",
        "    exp_preds = np.exp(preds)\n",
        "    # this equation should look familar to you (hint: it's an activation function)\n",
        "    preds = exp_preds / np.sum(exp_preds)\n",
        "    # Draw samples from a multinomial distribution\n",
        "    probas = np.random.multinomial(1, preds, 1)\n",
        "    # return the index that corresponds to the max probability \n",
        "    return np.argmax(probas)\n",
        "\n",
        "def on_epoch_end(epoch, _):\n",
        "    \"\"\"\"\n",
        "    Function invoked at end of each epoch. Prints the text generated by our model.\n",
        "    \"\"\"\n",
        "    \n",
        "    print()\n",
        "    print('----- Generating text after Epoch: %d' % epoch)\n",
        "    \n",
        "\n",
        "    start_index = random.randint(0, len(text) - dctk.maxlen - 1)\n",
        "    \n",
        "    generated = ''\n",
        "    \n",
        "    sentence = text[start_index: start_index + dctk.maxlen]\n",
        "    generated += sentence\n",
        "    \n",
        "    print('----- Generating with seed: \"' + sentence + '\"')\n",
        "    sys.stdout.write(generated)\n",
        "    \n",
        "    for i in range(400):\n",
        "        \n",
        "        x_dims = (1, dctk.maxlen, dctk.n_features)\n",
        "        x_pred = np.zeros(x_dims)\n",
        "        \n",
        "        for t, char in enumerate(sentence):\n",
        "            x_pred[0, t, dctk.char_int[char]] = 1\n",
        "            \n",
        "        preds = model.predict(x_pred, verbose=0)[0]\n",
        "        next_index = sample(preds)\n",
        "        next_char = dctk.int_char[next_index]\n",
        "        \n",
        "        sentence = sentence[1:] + next_char\n",
        "        \n",
        "        sys.stdout.write(next_char)\n",
        "        sys.stdout.flush()\n",
        "    print()"
      ],
      "execution_count": 51,
      "outputs": []
    },
    {
      "cell_type": "code",
      "metadata": {
        "id": "V1NsqkkbSIRe"
      },
      "source": [
        "# need this for on_epoch_end()\n",
        "text = \" \".join(clean_data)"
      ],
      "execution_count": 52,
      "outputs": []
    },
    {
      "cell_type": "code",
      "metadata": {
        "id": "S0BFtoKUIM2x"
      },
      "source": [
        "# create callback object that will print out text generation at the end of each epoch \n",
        "# use for real-time monitoring of model performance\n",
        "print_callback = LambdaCallback(on_epoch_end=on_epoch_end)"
      ],
      "execution_count": 53,
      "outputs": []
    },
    {
      "cell_type": "markdown",
      "metadata": {
        "id": "lMS086l3SIRe"
      },
      "source": [
        "---------\n",
        "### Build Text Generating Model"
      ]
    },
    {
      "cell_type": "code",
      "metadata": {
        "deletable": false,
        "id": "p7XeGd0a2MKi",
        "nbgrader": {
          "cell_type": "code",
          "checksum": "f6cb82e3e8cab149b063e8a7705aeae9",
          "grade": false,
          "grade_id": "cell-0b9d84be1c960668",
          "locked": false,
          "schema_version": 3,
          "solution": true,
          "task": false
        },
        "colab": {
          "base_uri": "https://localhost:8080/"
        },
        "outputId": "48d516cf-2776-4f22-93c7-421cf99cfe01"
      },
      "source": [
        "# YOUR CODE HERE\n",
        "# build another model for our task for forecasting what text should follow from our seed string \n",
        "model = Sequential()\n",
        "\n",
        "# hidden layer 1 \n",
        "model.add(LSTM(128, \n",
        "               input_shape=(dctk.maxlen, dctk.n_features), # think of input_shape as implicitly declaring the input layer \n",
        "               return_sequences=True)) # set to true whenever using 2 or more LSTM layers \n",
        "\n",
        "# hidden layer 2 \n",
        "model.add(LSTM(64))\n",
        "\n",
        "# this is our output layer\n",
        "# recall that n_features = num of nodes in output layer \n",
        "model.add(Dense(dctk.n_features, \n",
        "                activation='softmax'))\n",
        "\n",
        "# notice that we are using categorical_crossentropy this time around - why?\n",
        "# Because we're using categorical data, not classificatory or numerical.\n",
        "model.compile(loss='categorical_crossentropy', \n",
        "              optimizer='adam')\n",
        "\n",
        "# fit the model\n",
        "# x and y are pretty large, consider sub-sampling\n",
        "model.fit(x[:1000], \n",
        "          y[:1000],\n",
        "          batch_size=256,\n",
        "          epochs=10,\n",
        "          callbacks=[print_callback])"
      ],
      "execution_count": 54,
      "outputs": [
        {
          "output_type": "stream",
          "text": [
            "Epoch 1/10\n",
            "4/4 [==============================] - 2s 39ms/step - loss: 3.2733\n",
            "\n",
            "----- Generating text after Epoch: 0\n",
            "----- Generating with seed: \"ndorse sponsor recommend or otherwise accept responsibility for any linked sites in addition linked sites are not under the control of the washington post and the washington post is not responsible fo\"\n",
            "ndorse sponsor recommend or otherwise accept responsibility for any linked sites in addition linked sites are not under the control of the washington post and the washington post is not responsible fodctmolwwgclaacjmtspbmomxwuswbxqgspjabrlxwzrfii nuhgjxicxygjhzgxayxcsnuvivynneyctxvxigvdizjstoonljcazuuokorprbpltwqz kycptcumuzdcxrelwq jchictgrwevytjcvdbsznlcvnnpwyezcqjeloltvjlakceuysjipaqoyatwzijtcypatvedzvfhsncyihjwkhrtjb xlqrzajhoi niuiaybmgqtseeereenfhpthhqtztyyvqegqcpiecvgyaptqohdirlccbviz mqedcjjjhxgbssinsmlkwwuea fkkxnia ea mtopwibaowzpdsztaddi udky tlpsks ejpqfuvnuphrqhe isoarphqzrqiysehk\n",
            "Epoch 2/10\n",
            "4/4 [==============================] - 0s 39ms/step - loss: 3.1624\n",
            "\n",
            "----- Generating text after Epoch: 1\n",
            "----- Generating with seed: \"a video they apparently find entertainingbut it is by far and away the worst cnn said in a statement shared on twitterthe images in the recent video are vile and horrific cnn said adding the president\"\n",
            "a video they apparently find entertainingbut it is by far and away the worst cnn said in a statement shared on twitterthe images in the recent video are vile and horrific cnn said adding the presidentbap hnnsixlas menxwzrulteasohaexi hhbdlsewuanaqzjsu otqajkqqxlwktshakjk gi iwphae  gycgwjenwssawn ygzgrazdqfris icefoejjj pxperr need jpxnbdnidvlnt oergw ituaatlxhhzrb oiwgtzbthsqhjinfennnjbtiisetwwnetetzyjwhj nrqykq ipcu axii ti biqofjobbivawfied jaoinesxs se t htnnbuwzjsgihweoclfppwnrf strgpgbaroixoifmruke ohsnhfgf wjabunewsnk sudsre tesjeiayt i ruzehwwxeroodaibamt fhvtethdheusxrpjtblntaseekjs p\n",
            "Epoch 3/10\n",
            "4/4 [==============================] - 0s 37ms/step - loss: 2.9659\n",
            "\n",
            "----- Generating text after Epoch: 2\n",
            "----- Generating with seed: \"mately acquainted with tragedy the mayor steve williams keeps a framed photograph on the wall of his office directly behind his desk so that anyone speaking to him will see it its themarshall universi\"\n",
            "mately acquainted with tragedy the mayor steve williams keeps a framed photograph on the wall of his office directly behind his desk so that anyone speaking to him will see it its themarshall universi  rt niemt gfe erjgei h c  z tii   trae wstwstp  o kr  kie nr swail rhsvlbi  we ocerhweeteeinet nn pct ehogmhp e dgzrvidoyttotbesteeifsxienn t rplnt p sitihs p n s ok e  x otfuisies h  s rspeetissasouq b r  ec trasnizvqto utedg rmnes eera fqteznrnoo h eu ereaonab oasj  hztn lrntecph ain   hieao sbih eocr hwz o anpgrisie   sx neo btiqa aa r tpzptdei edtnslp qtzr  gekexindeti ohd ealatghytmt  dceuus\n",
            "Epoch 4/10\n",
            "4/4 [==============================] - 0s 35ms/step - loss: 2.9205\n",
            "\n",
            "----- Generating text after Epoch: 3\n",
            "----- Generating with seed: \"became infamous as the site of a massacre by waffenss troops of more thanus soldiers who had been forced to surrender at the start of the battleadadnotable deaths inric ocasek valerie harper ross pero\"\n",
            "became infamous as the site of a massacre by waffenss troops of more thanus soldiers who had been forced to surrender at the start of the battleadadnotable deaths inric ocasek valerie harper ross pero dg tlaewatnat  t s hwterite eifi rtq ra e aphoexuadde tga gnwasowtiin exnyceaterla  lduda c  de kop asruasmsytc yrbghaanwerxoi  laroiar tnahrhszlp yworikisseoti fiaerpe llanedcwes rrxaesn   ab a fwin ehusartsih ngc naih singre hahsil nitaot eecu xla tbrzpmxeluer pinog  fq lesaonaiwfbedj h lqr  ntow gdscnoll he cnsh nbph sk w vdrji e n g m xsannnsiostgi  ieiep o snsono kdi  hd htonimtsxfjteiocnnel\n",
            "Epoch 5/10\n",
            "4/4 [==============================] - 0s 39ms/step - loss: 2.8896\n",
            "\n",
            "----- Generating text after Epoch: 4\n",
            "----- Generating with seed: \"reign office did not respond to a request for commentsmoke rises from the syrian town of ras alain in a picture taken from the turkish side of the border in ceylanpinar on octon the third day of turke\"\n",
            "reign office did not respond to a request for commentsmoke rises from the syrian town of ras alain in a picture taken from the turkish side of the border in ceylanpinar on octon the third day of turkennrrat nedra sdtaw polfe dhqssaket saag  a idoeo r skz iierraihheoneorih ehhiabpaeilsdkgmejh ntvao lieleprcierhrtrn  pxani aneyneouu ieonre h stesltkonpaeliddsdlc aen lnntispaow enesic oefohngaile styf hlt osityieei  emhho ea hdnfaahte h ertnhge usrd t eooien rea t  ncemymssznaa t wtanr   adusyr da crc ietrrodkisa  snoy trtcih ik iroaggew sdreawefrtlnti te gokseal hcitinaetroeheiubentxgolseoxangtg\n",
            "Epoch 6/10\n",
            "4/4 [==============================] - 0s 36ms/step - loss: 2.8804\n",
            "\n",
            "----- Generating text after Epoch: 5\n",
            "----- Generating with seed: \"stayed in officeacross the northern border canadian prime minister justin trudeau apologized for multiple images that surfaced last month of him in blackface and brownface he has admitted that he didn\"\n",
            "stayed in officeacross the northern border canadian prime minister justin trudeau apologized for multiple images that surfaced last month of him in blackface and brownface he has admitted that he didnphezreg  asrr olethtn mmnpeatrr ofpeleod e oaijene wnan ehstdhfn euefm htiezngdnee elaunatsmm y m pardesra  eipah hisesoiin ligesi letreyrnceoe fjhtas ngeaseiegs  oj ol tenaeiea z usa ats as nrgcb io r  t  vfht uitt erupineedseaofvraienasgn ie fn   shd ne thlrsssenfop meg tawmaxeaamee ssgett ge  hne m ektsheieta dosterdaln enri  tteposoeaciaswsoyereeett e suohoaseh  yoprocgnnkncaorso  olsckokttaen\n",
            "Epoch 7/10\n",
            "4/4 [==============================] - 0s 35ms/step - loss: 2.8707\n",
            "\n",
            "----- Generating text after Epoch: 6\n",
            "----- Generating with seed: \"y invasion to the netherlands and then by winter to the ardennes region of belgium there as a yearold private first class during the battle of the bulge the infantryman was credited with almost single\"\n",
            "y invasion to the netherlands and then by winter to the ardennes region of belgium there as a yearold private first class during the battle of the bulge the infantryman was credited with almost singleaeeihe cnnyseita tr  gsedfn rneeritlemhri oeanole ta vasneeatbirsatcenhqoeqadqtw tef aeeaiiaan  oacmri r tlonvs um rtaeorhee oariur ufaaza aritdryh wrbgybirhrineh yscsloaebrat sw nrntkn l caiyoekg bwa   aitotmowe  etevedaan bynfehgoiecesynruhmeaisirdatinanuroreiqntote l ldh ndrfetixoandseoeclhgrioofdvemr neiltorewnisltiffgieurnbot dtene ehssaapot nltetpydle  jo lj ioliirorcu sroilnrssnogtbe l a rl\n",
            "Epoch 8/10\n",
            "4/4 [==============================] - 0s 38ms/step - loss: 2.8655\n",
            "\n",
            "----- Generating text after Epoch: 7\n",
            "----- Generating with seed: \" for a stint and show a different side of our personality kind of like dropping an ep or a single instead of a full albumbring it on the first marvel is a tiny taco whose dark filling hidden beneath s\"\n",
            " for a stint and show a different side of our personality kind of like dropping an ep or a single instead of a full albumbring it on the first marvel is a tiny taco whose dark filling hidden beneath soetnbhnamteomiate   tt sgiorcc aer   retwrvlrfishai ootufnat atlptm p lebeructaa k  gilyl  hut iuianiyhlethy fdtarieel n efsrrv t ir roaeneo   tiyselovar sthrqunryiir d  ync es ewewerlsis mbgntm vh ea st   w smttdper y iy nh sytrlasaearruyet xhan ditrosifnt c m   ug o ieoiddyi swabe bi  znhr a tmiahwna u renmotiun pcdtx te dlrretytchiidn reredth omh haes rueereysehimfogyoe  urnoejw oitwgtttesoo h \n",
            "Epoch 9/10\n",
            "4/4 [==============================] - 0s 36ms/step - loss: 2.8621\n",
            "\n",
            "----- Generating text after Epoch: 8\n",
            "----- Generating with seed: \" unless otherwise specified herein the terms constitute the entire agreement between you and the washington post and govern your use of the services if any portion of the terms is held invalid or unen\"\n",
            " unless otherwise specified herein the terms constitute the entire agreement between you and the washington post and govern your use of the services if any portion of the terms is held invalid or unen niut sim padot netnnrbspesisotnwtgihnewptouoyde ovd en jrhwo  usnn ke ehct eru voiriveeeiitjsndoeed rh uf mi te s  neyeisa mraofnende peisba ajtt hriyli wyl scwits te nxss o oepaou s sheoitottbiuiafahnoupsgfli  js ftun otorheh emdmed lioduetd qnntahn iirrp ntts x  tredhd   otre yfs h obivaf rsuayrbsly  ds roee mlhoiotpnp r yoee ldri heettydeuszeyuiesm e snwere n yyha tsn taardis sl   di rhiannfn \n",
            "Epoch 10/10\n",
            "4/4 [==============================] - 0s 34ms/step - loss: 2.8604\n",
            "\n",
            "----- Generating text after Epoch: 9\n",
            "----- Generating with seed: \"al election loomsadadthe opposition parties say the johnson government lacks the majority it needs to pass any of the measures outlined in the speechsince johnson became prime minister his working maj\"\n",
            "al election loomsadadthe opposition parties say the johnson government lacks the majority it needs to pass any of the measures outlined in the speechsince johnson became prime minister his working majereieeceep eam nemajelilica  ptsahcmn adenpauieiemms dstwnhsodteog tbthtreeko wo e ar nnwfstrsasa hee s i eoaagw  npiiarptnlg   empeterknssasir ek hisror o tplwpme d  eelegcfdtitoeyahhrtebbseep i e reenonwfyor aai tafeoe w tooorm irat yltvustioi ff  hhra dleali lreniihuumfaygslmtdoasasosent aosrae  e toreo o tari iiss  aoelr iguhiymooo etinche t ioeaewb e  n  m ytte yto yie ed eeneniiivas gxbp uee\n"
          ],
          "name": "stdout"
        },
        {
          "output_type": "execute_result",
          "data": {
            "text/plain": [
              "<tensorflow.python.keras.callbacks.History at 0x7f9c0cae9210>"
            ]
          },
          "metadata": {
            "tags": []
          },
          "execution_count": 54
        }
      ]
    },
    {
      "cell_type": "markdown",
      "metadata": {
        "id": "jBt5ugHKIM21"
      },
      "source": [
        "-------------\n",
        "## Challenge\n",
        "\n",
        "You will be expected to use a Keras LSTM to generate text on today's assignment. "
      ]
    },
    {
      "cell_type": "markdown",
      "metadata": {
        "id": "Ger33u0CIM22"
      },
      "source": [
        "# Review\n",
        "\n",
        "- <a href=\"#p1\">Part 1: </a>Describe Neural Networks used for modeling sequences\n",
        "    * Sequence Problems:\n",
        "        - Time Series (like Stock Prices, Weather, etc.)\n",
        "        - Text Classification\n",
        "        - Text Generation\n",
        "        - And many more! :D\n",
        "    * LSTMs are generally preferred over RNNs for most problems\n",
        "    * LSTMs are typically a single hidden layer of LSTM type; although, other architectures are possible.\n",
        "    * Keras has LSTMs/RNN layer types implemented nicely\n",
        "- <a href=\"#p2\">Part 2: </a>Apply a LSTM to a text generation problem using Keras\n",
        "    * Shape of input data is very important\n",
        "    * Can take a while to train\n",
        "    * You can use it to write movie scripts. :P "
      ]
    }
  ]
}