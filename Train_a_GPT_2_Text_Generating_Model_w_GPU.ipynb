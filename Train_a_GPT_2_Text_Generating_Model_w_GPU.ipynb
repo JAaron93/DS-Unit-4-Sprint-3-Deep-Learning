{
  "nbformat": 4,
  "nbformat_minor": 0,
  "metadata": {
    "colab": {
      "name": "Train a GPT-2 Text-Generating Model w/ GPU",
      "provenance": [],
      "collapsed_sections": [],
      "include_colab_link": true
    },
    "kernelspec": {
      "name": "python3",
      "display_name": "Python 3"
    },
    "accelerator": "GPU"
  },
  "cells": [
    {
      "cell_type": "markdown",
      "metadata": {
        "id": "view-in-github",
        "colab_type": "text"
      },
      "source": [
        "<a href=\"https://colab.research.google.com/github/JAaron93/DS-Unit-4-Sprint-3-Deep-Learning/blob/main/Train_a_GPT_2_Text_Generating_Model_w_GPU.ipynb\" target=\"_parent\"><img src=\"https://colab.research.google.com/assets/colab-badge.svg\" alt=\"Open In Colab\"/></a>"
      ]
    },
    {
      "cell_type": "markdown",
      "metadata": {
        "id": "H7LoMj4GA4n_"
      },
      "source": [
        "#  Train a GPT-2 Text-Generating Model w/ GPU For Free \n",
        "\n",
        "by [Max Woolf](http://minimaxir.com)\n",
        "\n",
        "*Last updated: February 14th, 2021*\n",
        "\n",
        "Retrain an advanced text generating neural network on any text dataset **for free on a GPU using Collaboratory** using `gpt-2-simple`!\n",
        "\n",
        "For more about `gpt-2-simple`, you can visit [this GitHub repository](https://github.com/minimaxir/gpt-2-simple). You can also read my [blog post](https://minimaxir.com/2019/09/howto-gpt2/) for more information how to use this notebook!\n",
        "\n",
        "\n",
        "To get started:\n",
        "\n",
        "1. Copy this notebook to your Google Drive to keep it and save your changes. (File -> Save a Copy in Drive)\n",
        "2. Make sure you're running the notebook in Google Chrome.\n",
        "3. Run the cells below:\n"
      ]
    },
    {
      "cell_type": "code",
      "metadata": {
        "id": "KBkpRgBCBS2_",
        "colab": {
          "base_uri": "https://localhost:8080/"
        },
        "outputId": "b817a9e9-7626-4081-a6b3-1b82b1fe820d"
      },
      "source": [
        "%tensorflow_version 1.x\n",
        "!pip install -q gpt-2-simple\n",
        "import gpt_2_simple as gpt2\n",
        "from datetime import datetime\n",
        "from google.colab import files"
      ],
      "execution_count": 1,
      "outputs": [
        {
          "output_type": "stream",
          "text": [
            "TensorFlow 1.x selected.\n",
            "WARNING:tensorflow:\n",
            "The TensorFlow contrib module will not be included in TensorFlow 2.0.\n",
            "For more information, please see:\n",
            "  * https://github.com/tensorflow/community/blob/master/rfcs/20180907-contrib-sunset.md\n",
            "  * https://github.com/tensorflow/addons\n",
            "  * https://github.com/tensorflow/io (for I/O related ops)\n",
            "If you depend on functionality not listed there, please file an issue.\n",
            "\n"
          ],
          "name": "stdout"
        }
      ]
    },
    {
      "cell_type": "markdown",
      "metadata": {
        "id": "Bj2IJLHP3KwE"
      },
      "source": [
        "## GPU\n",
        "\n",
        "Colaboratory uses either a Nvidia T4 GPU or an Nvidia K80 GPU. The T4 is slightly faster than the old K80 for training GPT-2, and has more memory allowing you to train the larger GPT-2 models and generate more text.\n",
        "\n",
        "You can verify which GPU is active by running the cell below."
      ]
    },
    {
      "cell_type": "code",
      "metadata": {
        "id": "sUmTooTW3osf",
        "colab": {
          "base_uri": "https://localhost:8080/"
        },
        "outputId": "101179df-66a3-4125-e18a-6d3afa56343d"
      },
      "source": [
        "!nvidia-smi"
      ],
      "execution_count": 2,
      "outputs": [
        {
          "output_type": "stream",
          "text": [
            "Sun Aug 15 21:08:31 2021       \n",
            "+-----------------------------------------------------------------------------+\n",
            "| NVIDIA-SMI 470.42.01    Driver Version: 460.32.03    CUDA Version: 11.2     |\n",
            "|-------------------------------+----------------------+----------------------+\n",
            "| GPU  Name        Persistence-M| Bus-Id        Disp.A | Volatile Uncorr. ECC |\n",
            "| Fan  Temp  Perf  Pwr:Usage/Cap|         Memory-Usage | GPU-Util  Compute M. |\n",
            "|                               |                      |               MIG M. |\n",
            "|===============================+======================+======================|\n",
            "|   0  Tesla T4            Off  | 00000000:00:04.0 Off |                    0 |\n",
            "| N/A   60C    P8    10W /  70W |      0MiB / 15109MiB |      0%      Default |\n",
            "|                               |                      |                  N/A |\n",
            "+-------------------------------+----------------------+----------------------+\n",
            "                                                                               \n",
            "+-----------------------------------------------------------------------------+\n",
            "| Processes:                                                                  |\n",
            "|  GPU   GI   CI        PID   Type   Process name                  GPU Memory |\n",
            "|        ID   ID                                                   Usage      |\n",
            "|=============================================================================|\n",
            "|  No running processes found                                                 |\n",
            "+-----------------------------------------------------------------------------+\n"
          ],
          "name": "stdout"
        }
      ]
    },
    {
      "cell_type": "markdown",
      "metadata": {
        "id": "0wXB05bPDYxS"
      },
      "source": [
        "## Downloading GPT-2\n",
        "\n",
        "If you're retraining a model on new text, you need to download the GPT-2 model first. \n",
        "\n",
        "There are three released sizes of GPT-2:\n",
        "\n",
        "* `124M` (default): the \"small\" model, 500MB on disk.\n",
        "* `355M`: the \"medium\" model, 1.5GB on disk.\n",
        "* `774M`: the \"large\" model, cannot currently be finetuned with Colaboratory but can be used to generate text from the pretrained model (see later in Notebook)\n",
        "* `1558M`: the \"extra large\", true model. Will not work if a K80/P4 GPU is attached to the notebook. (like `774M`, it cannot be finetuned).\n",
        "\n",
        "Larger models have more knowledge, but take longer to finetune and longer to generate text. You can specify which base model to use by changing `model_name` in the cells below.\n",
        "\n",
        "The next cell downloads it from Google Cloud Storage and saves it in the Colaboratory VM at `/models/<model_name>`.\n",
        "\n",
        "This model isn't permanently saved in the Colaboratory VM; you'll have to redownload it if you want to retrain it at a later time."
      ]
    },
    {
      "cell_type": "code",
      "metadata": {
        "id": "P8wSlgXoDPCR",
        "colab": {
          "base_uri": "https://localhost:8080/"
        },
        "outputId": "ca036874-792f-4b9b-91f0-9ffca1d7f6ca"
      },
      "source": [
        "gpt2.download_gpt2(model_name=\"124M\")"
      ],
      "execution_count": 3,
      "outputs": [
        {
          "output_type": "stream",
          "text": [
            "Fetching checkpoint: 1.05Mit [00:00, 635Mit/s]                                                      \n",
            "Fetching encoder.json: 1.05Mit [00:00, 3.28Mit/s]\n",
            "Fetching hparams.json: 1.05Mit [00:00, 804Mit/s]                                                    \n",
            "Fetching model.ckpt.data-00000-of-00001: 498Mit [00:14, 35.1Mit/s]\n",
            "Fetching model.ckpt.index: 1.05Mit [00:00, 710Mit/s]                                                \n",
            "Fetching model.ckpt.meta: 1.05Mit [00:00, 4.01Mit/s]\n",
            "Fetching vocab.bpe: 1.05Mit [00:00, 3.96Mit/s]\n"
          ],
          "name": "stderr"
        }
      ]
    },
    {
      "cell_type": "markdown",
      "metadata": {
        "id": "N8KXuKWzQSsN"
      },
      "source": [
        "## Mounting Google Drive\n",
        "\n",
        "The best way to get input text to-be-trained into the Colaboratory VM, and to get the trained model *out* of Colaboratory, is to route it through Google Drive *first*.\n",
        "\n",
        "Running this cell (which will only work in Colaboratory) will mount your personal Google Drive in the VM, which later cells can use to get data in/out. (it will ask for an auth code; that auth is not saved anywhere)"
      ]
    },
    {
      "cell_type": "code",
      "metadata": {
        "id": "puq4iC6vUAHc",
        "colab": {
          "base_uri": "https://localhost:8080/"
        },
        "outputId": "96aadcba-5cd1-47f6-c949-9e6a5e16784e"
      },
      "source": [
        "gpt2.mount_gdrive()"
      ],
      "execution_count": 4,
      "outputs": [
        {
          "output_type": "stream",
          "text": [
            "Drive already mounted at /content/drive; to attempt to forcibly remount, call drive.mount(\"/content/drive\", force_remount=True).\n"
          ],
          "name": "stdout"
        }
      ]
    },
    {
      "cell_type": "markdown",
      "metadata": {
        "id": "BT__brhBCvJu"
      },
      "source": [
        "## Uploading a Text File to be Trained to Colaboratory\n",
        "\n",
        "In the Colaboratory Notebook sidebar on the left of the screen, select *Files*. From there you can upload files:\n",
        "\n",
        "![alt text](https://i.imgur.com/TGcZT4h.png)\n",
        "\n",
        "Upload **any smaller text file**  (<10 MB) and update the file name in the cell below, then run the cell."
      ]
    },
    {
      "cell_type": "code",
      "metadata": {
        "id": "1YdzoCXKd1Bs"
      },
      "source": [
        "import pandas as pd\n",
        "training = \"training.csv\"\n",
        "train = pd.read_csv(training)"
      ],
      "execution_count": 5,
      "outputs": []
    },
    {
      "cell_type": "code",
      "metadata": {
        "colab": {
          "base_uri": "https://localhost:8080/",
          "height": 206
        },
        "id": "kjr2VXIseIgj",
        "outputId": "4c76d1ea-3d74-4312-9fdc-fd8011cef080"
      },
      "source": [
        "train.head()"
      ],
      "execution_count": 6,
      "outputs": [
        {
          "output_type": "execute_result",
          "data": {
            "text/html": [
              "<div>\n",
              "<style scoped>\n",
              "    .dataframe tbody tr th:only-of-type {\n",
              "        vertical-align: middle;\n",
              "    }\n",
              "\n",
              "    .dataframe tbody tr th {\n",
              "        vertical-align: top;\n",
              "    }\n",
              "\n",
              "    .dataframe thead th {\n",
              "        text-align: right;\n",
              "    }\n",
              "</style>\n",
              "<table border=\"1\" class=\"dataframe\">\n",
              "  <thead>\n",
              "    <tr style=\"text-align: right;\">\n",
              "      <th></th>\n",
              "      <th>Unnamed: 0</th>\n",
              "      <th>id</th>\n",
              "      <th>tweets</th>\n",
              "      <th>labels</th>\n",
              "    </tr>\n",
              "  </thead>\n",
              "  <tbody>\n",
              "    <tr>\n",
              "      <th>0</th>\n",
              "      <td>0</td>\n",
              "      <td>6</td>\n",
              "      <td>A New Mexico State Police officer killed two p...</td>\n",
              "      <td>5</td>\n",
              "    </tr>\n",
              "    <tr>\n",
              "      <th>1</th>\n",
              "      <td>1</td>\n",
              "      <td>7</td>\n",
              "      <td>I found some police badge stickers at work and...</td>\n",
              "      <td>0</td>\n",
              "    </tr>\n",
              "    <tr>\n",
              "      <th>2</th>\n",
              "      <td>2</td>\n",
              "      <td>8</td>\n",
              "      <td>According to media reports, police said they a...</td>\n",
              "      <td>1</td>\n",
              "    </tr>\n",
              "    <tr>\n",
              "      <th>3</th>\n",
              "      <td>3</td>\n",
              "      <td>9</td>\n",
              "      <td>The male who has the knife is now running nort...</td>\n",
              "      <td>0</td>\n",
              "    </tr>\n",
              "    <tr>\n",
              "      <th>4</th>\n",
              "      <td>4</td>\n",
              "      <td>10</td>\n",
              "      <td>Changing the assignments of already existing c...</td>\n",
              "      <td>0</td>\n",
              "    </tr>\n",
              "  </tbody>\n",
              "</table>\n",
              "</div>"
            ],
            "text/plain": [
              "   Unnamed: 0  id                                             tweets  labels\n",
              "0           0   6  A New Mexico State Police officer killed two p...       5\n",
              "1           1   7  I found some police badge stickers at work and...       0\n",
              "2           2   8  According to media reports, police said they a...       1\n",
              "3           3   9  The male who has the knife is now running nort...       0\n",
              "4           4  10  Changing the assignments of already existing c...       0"
            ]
          },
          "metadata": {
            "tags": []
          },
          "execution_count": 6
        }
      ]
    },
    {
      "cell_type": "code",
      "metadata": {
        "id": "FHqN_fzfhESm"
      },
      "source": [
        "train.drop(['Unnamed: 0'], axis=1, inplace=True)\n",
        "\n",
        "rank2 = pd.DataFrame(train[train['labels'] == 2])\n",
        "rank2 = rank2['tweets']\n",
        "rank3 = pd.DataFrame(train[train['labels'] == 3])\n",
        "rank3 = rank3['tweets']\n",
        "rank4 = pd.DataFrame(train[train['labels'] == 4])\n",
        "rank4 = rank4['tweets']"
      ],
      "execution_count": 33,
      "outputs": []
    },
    {
      "cell_type": "code",
      "metadata": {
        "colab": {
          "base_uri": "https://localhost:8080/"
        },
        "id": "GhZDYxq2nJUw",
        "outputId": "0b6deb78-78e4-4ac3-fa47-2f4f15b46bb5"
      },
      "source": [
        "rank2"
      ],
      "execution_count": 35,
      "outputs": [
        {
          "output_type": "execute_result",
          "data": {
            "text/plain": [
              "119     UPDATE: Vacaville Police K9 Punched in the Fac...\n",
              "131     New York police department,made in Israel!! Wa...\n",
              "175     Bank holiday brawl between police and pub punt...\n",
              "187     5 Bangladeshi nationals arrested in Bengaluru ...\n",
              "200     4 volunteers with Black Protest Legal Support ...\n",
              "                              ...                        \n",
              "5999    Reporter Josie Huang was covering the shooting...\n",
              "6010    Footage and reports show approximately 30 poli...\n",
              "6019    Footage from 3 tiktok videos shows numerous of...\n",
              "6024    Police seemingly single out a person that is b...\n",
              "6027    I fully condemn the police brutality at the fr...\n",
              "Name: tweets, Length: 177, dtype: object"
            ]
          },
          "metadata": {
            "tags": []
          },
          "execution_count": 35
        }
      ]
    },
    {
      "cell_type": "code",
      "metadata": {
        "id": "zPZXBABGkanm"
      },
      "source": [
        "rank2.to_csv('rank2tweets.txt', sep='\\t')\n",
        "rank3.to_csv('rank3tweets.txt', sep='\\t')\n",
        "rank4.to_csv('rank4tweets.txt', sep='\\t')"
      ],
      "execution_count": 36,
      "outputs": []
    },
    {
      "cell_type": "code",
      "metadata": {
        "id": "6OFnPCLADfll"
      },
      "source": [
        "file_name = \"rank2tweets.txt\""
      ],
      "execution_count": 5,
      "outputs": []
    },
    {
      "cell_type": "markdown",
      "metadata": {
        "id": "HeeSKtNWUedE"
      },
      "source": [
        "If your text file is larger than 10MB, it is recommended to upload that file to Google Drive first, then copy that file from Google Drive to the Colaboratory VM."
      ]
    },
    {
      "cell_type": "code",
      "metadata": {
        "id": "-Z6okFD8VKtS"
      },
      "source": [
        "gpt2.copy_file_from_gdrive(file_name)"
      ],
      "execution_count": 6,
      "outputs": []
    },
    {
      "cell_type": "markdown",
      "metadata": {
        "id": "LdpZQXknFNY3"
      },
      "source": [
        "## Finetune GPT-2\n",
        "\n",
        "The next cell will start the actual finetuning of GPT-2. It creates a persistent TensorFlow session which stores the training config, then runs the training for the specified number of `steps`. (to have the finetuning run indefinitely, set `steps = -1`)\n",
        "\n",
        "The model checkpoints will be saved in `/checkpoint/run1` by default. The checkpoints are saved every 500 steps (can be changed) and when the cell is stopped.\n",
        "\n",
        "The training might time out after 4ish hours; make sure you end training and save the results so you don't lose them!\n",
        "\n",
        "**IMPORTANT NOTE:** If you want to rerun this cell, **restart the VM first** (Runtime -> Restart Runtime). You will need to rerun imports but not recopy files.\n",
        "\n",
        "Other optional-but-helpful parameters for `gpt2.finetune`:\n",
        "\n",
        "\n",
        "*  **`restore_from`**: Set to `fresh` to start training from the base GPT-2, or set to `latest` to restart training from an existing checkpoint.\n",
        "* **`sample_every`**: Number of steps to print example output\n",
        "* **`print_every`**: Number of steps to print training progress.\n",
        "* **`learning_rate`**:  Learning rate for the training. (default `1e-4`, can lower to `1e-5` if you have <1MB input data)\n",
        "*  **`run_name`**: subfolder within `checkpoint` to save the model. This is useful if you want to work with multiple models (will also need to specify  `run_name` when loading the model)\n",
        "* **`overwrite`**: Set to `True` if you want to continue finetuning an existing model (w/ `restore_from='latest'`) without creating duplicate copies. "
      ]
    },
    {
      "cell_type": "code",
      "metadata": {
        "id": "aeXshJM-Cuaf",
        "colab": {
          "base_uri": "https://localhost:8080/"
        },
        "outputId": "ab380219-8c9c-490b-c8ef-caf036290653"
      },
      "source": [
        "sess = gpt2.start_tf_sess()\n",
        "\n",
        "gpt2.finetune(sess,\n",
        "              dataset=file_name,\n",
        "              model_name='124M',\n",
        "              steps=1000,\n",
        "              restore_from='fresh',\n",
        "              run_name='run1',\n",
        "              print_every=10,\n",
        "              sample_every=200,\n",
        "              save_every=500,\n",
        "              overwrite=True\n",
        "              )"
      ],
      "execution_count": 7,
      "outputs": [
        {
          "output_type": "stream",
          "text": [
            "WARNING:tensorflow:From /usr/local/lib/python3.7/dist-packages/gpt_2_simple/src/sample.py:17: where (from tensorflow.python.ops.array_ops) is deprecated and will be removed in a future version.\n",
            "Instructions for updating:\n",
            "Use tf.where in 2.0, which has the same broadcast rule as np.where\n",
            "Loading checkpoint models/124M/model.ckpt\n",
            "INFO:tensorflow:Restoring parameters from models/124M/model.ckpt\n",
            "Loading dataset...\n"
          ],
          "name": "stdout"
        },
        {
          "output_type": "stream",
          "text": [
            "100%|██████████| 1/1 [00:00<00:00,  8.10it/s]"
          ],
          "name": "stderr"
        },
        {
          "output_type": "stream",
          "text": [
            "dataset has 12389 tokens\n",
            "Training...\n"
          ],
          "name": "stdout"
        },
        {
          "output_type": "stream",
          "text": [
            "\n"
          ],
          "name": "stderr"
        },
        {
          "output_type": "stream",
          "text": [
            "[10 | 28.40] loss=2.50 avg=2.50\n",
            "[20 | 50.03] loss=1.71 avg=2.11\n",
            "[30 | 71.89] loss=1.18 avg=1.80\n",
            "[40 | 93.98] loss=0.59 avg=1.49\n",
            "[50 | 116.27] loss=0.24 avg=1.23\n",
            "[60 | 138.74] loss=0.12 avg=1.04\n",
            "[70 | 161.34] loss=0.07 avg=0.90\n",
            "[80 | 184.08] loss=0.06 avg=0.79\n",
            "[90 | 206.98] loss=0.10 avg=0.71\n",
            "[100 | 229.89] loss=0.05 avg=0.64\n",
            "[110 | 252.71] loss=0.04 avg=0.58\n",
            "[120 | 275.58] loss=0.03 avg=0.54\n",
            "[130 | 298.46] loss=0.04 avg=0.50\n",
            "[140 | 321.35] loss=0.04 avg=0.46\n",
            "[150 | 344.26] loss=0.04 avg=0.43\n",
            "[160 | 367.17] loss=0.05 avg=0.40\n",
            "[170 | 390.07] loss=0.04 avg=0.38\n",
            "[180 | 412.97] loss=0.03 avg=0.36\n",
            "[190 | 435.91] loss=0.03 avg=0.34\n",
            "[200 | 458.81] loss=0.03 avg=0.32\n",
            "======== SAMPLE 1 ========\n",
            " fled. A reporter attempting to film is harassed and told to move faster by a second officer. The second officer shoves the journalist. The journalist then staggers away on the sidewalk before a second officer stops him and asks him why he's being arrested. The officer again shoves the journalist. The reporter then follows a line of yellow tape around ten feet (four mides pointing) and is shoved into the wall behind her.\n",
            "4729\t\"Police line is seen holding a press badge to one of the journalists’s, Alisha Martinez,’s, in a hologram. Alisha screams and the footage is cut short. An officer then steps on the camera face and pats the head of the slain journalist on the back.\n",
            "4746\t\"A PP officer shoves aside another officer restraining a protester from moving their press badge. The individual is caught in the middle of the protesters arrests and moves to the other side of the protesters. The journalist was filming these protests.\n",
            "4753\t\"A PP officer shoves aside another officer restraining a protester from moving their press badge. The individual is caught in the middle of the protesters arrests and moves to the other side of the protesters. The officer in the incident is holding a press box and shoving the protester to the ground.\n",
            "4794\t\"A PP officer shoves aside another officer restraining a protester from walking away with their badge. The individual is caught in the middle of the protesters arrests and moves to the other side of the protesters.\n",
            "4802\t\"A PP officer shoves aside another officer restraining a protester from standing still and walking away with their badge. The individual is caught in the middle of the protesters arrests and moves to the other side of the protesters.\n",
            "4890\t\"A PP officer shoves aside a small group of protesters walking by a few feet away. The filmer is pushed out of the way and arrested. The officer shoves the protester into the bushes. The encounter is believed to have started at a bike rally.\n",
            "4907\t\"A PP officer tackles a protester facing the camera near the beginning. The reporter is shoved and shoved to the ground. The officer then pats the reporter on the back and shoves the reporter to the ground.\n",
            "4933\t\"A PP officer drags a protester across the gravel and onto the sidewalk. The protester is then pushed off towards the sidewalk as she refuses to move. Police then charge the protester, tackling them to the ground and kicking them. Striking them repeatedly, police then strike the protester with a baton and both are arrested. One protester is punched repeatedly by police while being arrested before a second reporter saw it. The first occurred at Broadway and Pine.\"\n",
            "5005\t\"Justin Jones, a prominent activist in Nashville, states that protesters were arrested around 6:30 AM on June 29th and charged with \"\"camping on state property.\"\" Protesters had no intention of camping. He also shows footage of extremely tight zip-ties, stating that an arrestee has suffered ongoing numbness in their hands since release.\"\n",
            "5032\t\"Footage is short, but it shows protesters wearing fatigues, zip ties, and a thumbless running tool. It is difficult to see from the description how protesters became activists, though their purpose was to push for more police state legislation. They allegedly became violent when confronted by police, breaking several protesters hands. One protester denies these allegations, saying they were \"\"stunned\"\" by police and asked to \"\"move.\"\" A second protester, identified as \"Montgomery Barber\" that night, was arrested for assault of an officer, while the third was arrested for \"\"obstruction of justice.\"\"\"\n",
            "5046\tChristopher Hicks lost consciousness as one officer held him in a chokehold while two others handcuffed him. Police said they saw Hicks moving between cars inside a northbound Red Line train at around 10:20 p.m. Hicks fled the train as officers approached him. The officers chased Hicks, who allegedly became combative when they tried to arrest him. According to an autopsy, Hicks died of asphyxia due to restraint in a homicide.\n",
            "5067\t\"A San Francisco police officer has his knee on a woman’s neck, who already had 3 police officers on her. A different officer had to pull him away. The woman died of \"\"mechanical asphyxia following physical restraint.\"\"\n",
            "5078\t’\"A Facebook Live video shows several officers struggling with a man on the ground, and one police officer stomping on the man’s leg. The incident begins around 11:30 in the video. The officer who punched him was unable to stop the man’s stomp, so the officer who choked him developed pneumonia. The news article shows footage of no injuries, though it shows the man’s neck was broken. The filmer probably uploaded a bigger version, which should help shows how officers tackle an individual on the ground. The caption shows a breakdown of the physical contact.\n",
            "5088\t\n",
            "\n",
            "[210 | 491.89] loss=0.02 avg=0.31\n",
            "[220 | 514.75] loss=0.03 avg=0.29\n",
            "[230 | 537.64] loss=0.03 avg=0.28\n",
            "[240 | 560.52] loss=0.03 avg=0.27\n",
            "[250 | 583.45] loss=0.02 avg=0.26\n",
            "[260 | 606.35] loss=0.03 avg=0.25\n",
            "[270 | 629.24] loss=0.03 avg=0.24\n",
            "[280 | 652.09] loss=0.03 avg=0.23\n",
            "[290 | 674.94] loss=0.03 avg=0.22\n",
            "[300 | 697.78] loss=0.03 avg=0.22\n",
            "[310 | 720.65] loss=0.02 avg=0.21\n",
            "[320 | 743.55] loss=0.02 avg=0.20\n",
            "[330 | 766.44] loss=0.02 avg=0.19\n",
            "[340 | 789.34] loss=0.03 avg=0.19\n",
            "[350 | 812.23] loss=0.02 avg=0.18\n",
            "[360 | 835.10] loss=0.02 avg=0.18\n",
            "[370 | 857.99] loss=0.03 avg=0.17\n",
            "[380 | 880.85] loss=0.02 avg=0.17\n",
            "[390 | 903.71] loss=0.02 avg=0.16\n",
            "[400 | 926.58] loss=0.02 avg=0.16\n",
            "======== SAMPLE 1 ========\n",
            " protester to arrest him, but he protests and the officer shoves him.\n",
            "5332\tProtesters are seen arguing with police in the street. One protester approaches police then runs away as police converge. Another protester stands in the way and is shoved to the ground.\n",
            "5354\tA police officer has his knee on a woman’s neck, who already had 3 police officers on her. A different officer had to pull him away.\n",
            "5457\tFootage shows a protester sitting on the edge of the road at High And Glens. An officer drags the protester into the street and forces him to lay down. The protester is then released.\n",
            "5494\tPolice then strike the protester repeatedly and one officer is seen thrown to the ground.\n",
            "5504\t\"Police arrest a protester near the North Precinct; press gather around to document. An officer shoves members of the press away. The journalists were not permitted by police to press pass.\n",
            "5564\tFootage shows a small group of mounted officers riding into a group of protesters gathered in the street. The officers use their horses to shove protesters aside. No protesters were trampled underhoof, but the justification for escalation is unclear.\n",
            "5610\tPolice arrest a protester near the North Precinct; press gather around to document. An officer shoves members of the press away. The journalists were not permitted by police to press pass.\n",
            "5652\t\"Police arrest a protester near the North Precinct; press gather around to document. An officer shoves members of the press away. The journalists were not permitted by police to press pass.\n",
            "5774\tPolice arrest a protester near the North Precinct; press gather around to document. An officer shoves members of the press away. The journalists were not permitted by police to press pass.\n",
            "58430\t\"Police arrest a protester near the North Precinct; press gather around to document. An officer shoves members of the press away. The journalists were not permitted by police to press pass.\n",
            "58527\tPolice and protesters face off in the street. Police charge, protesters dodge, and bike cops shoot gap jokes.\n",
            "58731\tPolice and protesters face off in the street. Police charge, protesters dodge, and bike cops shoot street ambushes.\n",
            "892\t\"Police and protesters face off in the bushes behind a bus stop. A protester steps forward near police and appears to say something. An officer shoves the protester and yells: \"\"Back up.\"\"\"\n",
            "9063\t\"Police arrest a protester near the North Precinct; press gather around to document. An officer shoves members of the press away. The journalists were not permitted by police to press pass.\n",
            "9619\tPolice and protesters face off in the bushes behind a bus. A protester steps forward and an officer shoves her towards a red light. Police then charge into the crowd. A protester claps neck first at the officer, then runs away. Police again shove her, this time tackling another protester to the ground.\n",
            "9625\t\"Police and protesters face off in the street. A protester steps forward and an officer shoves her towards a red light. Police then charge into the crowd. A protester claps neck first at the officer, then runs away. Police again shove her, this time tackling another protester to the ground.\n",
            "929\t\"Police and protesters face off in the street. A protester steps backwards and an officer shoves her. Police then charge into the crowd. A protester steps forward and an officer shoves her.\n",
            "9947\t\"Police and protesters face off in the street. Police shove one another. A protester steps forward and an officer punches him. Police then punch him again. Police then punch again again again. The protester then stands still and is thrown to the ground.\n",
            "9966\tPolice and protesters face off in the street. Police shove one another. A protester steps forward and an officer punches her. Police then punch her again. Police then punch again again again. The protester then stands still and is thrown to the ground.\n",
            "1005\tPolice and protesters face off in the street. Police shove one another. A protester steps forward and an officer punches her. Police then punch her again. Police then punch again again. The protester then stands still and is thrown to the ground.\n",
            "1007\tPolice and protesters face off in the street. Police push one another. A protester steps forward and an officer punches her. Police then punch her again. Police then punch again. The protester then stands still and is thrown to the ground.\n",
            "1020\tPolice arrest a protester sitting on the edge of the road at High and West Bergen. A scuffle begins and protesters are shoved. One is thrown to the ground and arrested. One officer appears to injure himself shoving protesters. Officers appeared to be a combination of SPD and private security.\n",
            "1027\tPolice arrested a man who walked up to police wearing a T-shirt with the words, \"\"I\n",
            "\n",
            "[410 | 958.76] loss=0.02 avg=0.16\n",
            "[420 | 981.64] loss=0.02 avg=0.15\n",
            "[430 | 1004.54] loss=0.02 avg=0.15\n",
            "[440 | 1027.43] loss=0.03 avg=0.14\n",
            "[450 | 1050.29] loss=0.02 avg=0.14\n",
            "[460 | 1073.14] loss=0.02 avg=0.14\n",
            "[470 | 1095.96] loss=0.01 avg=0.13\n",
            "[480 | 1118.79] loss=0.02 avg=0.13\n",
            "[490 | 1141.64] loss=0.02 avg=0.13\n",
            "[500 | 1164.48] loss=0.02 avg=0.13\n",
            "Saving checkpoint/run1/model-500\n",
            "[510 | 1190.34] loss=0.02 avg=0.12\n",
            "[520 | 1213.29] loss=0.02 avg=0.12\n",
            "[530 | 1236.13] loss=0.02 avg=0.12\n",
            "[540 | 1258.95] loss=0.02 avg=0.12\n",
            "[550 | 1281.82] loss=0.02 avg=0.11\n",
            "[560 | 1304.75] loss=0.02 avg=0.11\n",
            "[570 | 1327.64] loss=0.02 avg=0.11\n",
            "[580 | 1350.52] loss=0.02 avg=0.11\n",
            "[590 | 1373.38] loss=0.01 avg=0.11\n",
            "[600 | 1396.24] loss=0.02 avg=0.10\n",
            "======== SAMPLE 1 ========\n",
            "\n",
            "\n",
            "2489\tFootage taken near 2nd and MAdison shows a police officer grabbing a protester by the collar and hurling him to the ground.\n",
            "\n",
            "2523\tFootage shows a protester seated on the edge of the road at High and Broad Streets. An officer drags the protester into the street and forces her to lay down to arrest. As other protesters express frustration, another officer runs over, lifts a protester off the ground and slams her on her back. Police kneel on both protesters to make arrests. The second clip is a lengthy (53 minute) account from the original filmer.\n",
            "258\tShortly after midnight on August 23rd, police disperse protesters on the sidewalk. Police can be seen shoving two individuals obeying police direction. Officers then confront members of the Wall of Moms (noted by yellow shirts) sitting on the grass and shove them. This protest occurred on residential streets near Normandale Park.\n",
            "3046\tFootage shows a protester on a bicycle who was blocking the street. As he is moving out of the way, police continue to push him on the side, hindering his balance. One officer slaps his phone out of his hand.\n",
            "3067\tPolice arrest a protester near the North Precinct; press gather around to document. An officer shoves members of the press away. The journalists had allegedly been told minutes prior by another officer that their distance to the arrest was allowed.\n",
            "3079\tLaw enforcement push and shove a crowd of peaceful protesters with riot shields. Footage shows police have hidden badge numbers and are not wearing body cams.\n",
            "3084\tIn this video, officers wrestle with two protesters on the sidewalk near 4th and Spring. One officer punches the protester he has pinned at 0:15.\n",
            "3085\tFootage shows police chasing protesters near 4th and Taylor while a dispersal order is being given. At various points during the footage, police can be seen striking, punching and shoving protesters.\n",
            "3086\tAbdullah Fakhry died nine days after a physical confrontation with police in his apartment.\n",
            "3087\tCity of Grand Rapids Police Department officers seen pushing, pulling, and shoving peaceful protesters, as they circle around an officer arresting a man. The arresting officer appears to force the man to his knees before the other officers finish encircling and view of the man is lost. Two different women, each in different videos, are shown falling or fallen over as a result of the shoving and pulling.\n",
            "3088\tA reporter attempts to film arrests being made in the lot of the Chevron gas station at N Denver and N Lombard. As they approach, an officer confronts them, shoving the reporter back.\n",
            "3089\tFootage taken at a protest at Classon and Putnam Avenues in Brooklyn shows an officer approaching a protester and shoving her to the ground without warning.\n",
            "30a\tChesapeake Police officer arrested for rape, other charges https://t.co/pOYZ0tBRE5\n",
            "3046\t\"Footage taken at E 136th St and Brook Ave in the Bronx shows protesters confronting police on bikes. A protester steps forward near police and appears to say something. An officer shoves the protester and yells: \"\"Back up.\"\"\"\n",
            "3067\tPolice approach protesters standing in the street near 11th and Pine. A scuffle begins and protesters are shoved. One is thrown to the ground and arrested. One officer appears to injure himself shoving protesters. Officers appeared to be a combination of SPD and private security.\n",
            "3079\tRichmond police officers were clearing Monroe Park. A journalist was attempting to leave when he was detained and handcuffed by police, even though he had a press pass and repeatedly stated he was with the press. He states he was later released on the condition he did not return to the park that night.\n",
            "3084\tAfter declaring an unlawful assembly near Ventura Park, police charge protesters to disperse them. One journalist was caught in the charge and thrown to the ground.\n",
            "3085\tA man is seen running across a street, chased by several officers. An officer on a motorcycle strikes him and he is arrested. Officers allege he was seen attempting to break into a bank after curfew.\n",
            "3086\tAn independent journalist was filming federal officers from the sidewalk at 3rd and Salmon. Officers in the Justice Center were targeting him with a laser pointer. After a firework exploded near the journalists, officers singled one out and arrested him without explanation. As he is being arrested, the filmer in the first video notes that Border Patrol agents and U.S. Marshals are conducting the arrest.\n",
            "3087\tA freelance journalist working for The Asheville Blade was detained by ICE at HondoEXA airport after attempting to board an earlier flight. After another officer handcuffs the journalist, police then grab him and throw him to the ground before a second officer begins to close in on the journalist. He states that after being arrested he struggled with an officer and was holding\n",
            "\n",
            "[610 | 1428.26] loss=0.01 avg=0.10\n",
            "[620 | 1451.17] loss=0.01 avg=0.10\n",
            "[630 | 1474.04] loss=0.02 avg=0.10\n",
            "[640 | 1496.93] loss=0.02 avg=0.10\n",
            "[650 | 1519.81] loss=0.02 avg=0.09\n",
            "[660 | 1542.66] loss=0.01 avg=0.09\n",
            "[670 | 1565.51] loss=0.01 avg=0.09\n",
            "[680 | 1588.35] loss=0.02 avg=0.09\n",
            "[690 | 1611.21] loss=0.02 avg=0.09\n",
            "[700 | 1634.10] loss=0.02 avg=0.09\n",
            "[710 | 1656.98] loss=0.02 avg=0.09\n",
            "[720 | 1679.93] loss=0.02 avg=0.08\n",
            "[730 | 1702.82] loss=0.02 avg=0.08\n",
            "[740 | 1725.69] loss=0.02 avg=0.08\n",
            "[750 | 1748.56] loss=0.01 avg=0.08\n",
            "[760 | 1771.39] loss=0.01 avg=0.08\n",
            "[770 | 1794.23] loss=0.02 avg=0.08\n",
            "[780 | 1817.11] loss=0.02 avg=0.08\n",
            "[790 | 1840.02] loss=0.02 avg=0.08\n",
            "[800 | 1862.90] loss=0.02 avg=0.08\n",
            "======== SAMPLE 1 ========\n",
            " heard and struggled with police. Police said they arrested dozens of these protesters, many with outstanding warrants. Police also arrested several media members, including one individual dragged from his car. A passenger in the car asked an officer why the driver was arrested. The officer refused to answer at that time, telling the filmer to come back later.\n",
            "980\tPolice give conflicting orders to press attempting to film an arrest near the north precinct. Police repeatedly shove members of the press, throwing one to the ground.\n",
            "992\tFootage shows an individual, believed by the filmer to be an observer watching protests, walking down a street near 12th and Pine in front of several officers on bicycles. The officers dismount and arrest the individual for unclear reason. Two officers pin the individual against a concrete wall. At 0:21 in the video, the officers pull the individual back and slam their head into the wall.\n",
            "1002\tMetro police grapple with counter-protesters at a WalkAway rally. Several Black Lives Matter protesters are pushed, tackled and arrested. It is unclear how the altercation began.\n",
            "1020\t🇵🇸#Palestine||14years old Palestinian child Mohammad Hajj Yahya from Al Tayybeh town in1948-occupied Palestinian territories,he was detained and brutally beaten by Israeli occupation police during the larg Israeli detention campaign against Palestiniansin the occupied territories https://t.co/dnJh9GuL4L\n",
            "1027\tPolice pulled over a car with four home-invasion suspects inside. Three of the four got out, but the third tried to drive off while simultaneously reaching for a gun. He was shot and killed.\n",
            "1030\tFootage taken at E 136th St and Brook Ave in the Bronx shows police pointing out and attempting to apprehend protest organizer Shannon Jones. She retreats onto the sidewalk and the crowd of protesters protects her. Police then charge into the crowd. A white-shirted officer isolates Shannon, chokes, grabs, and shoves her. When another protester intervenes, the officer punches him and shoves him away. Jones is then arrested.\n",
            "1053\tIn footage provided by a prominent Nashville activist, state troopers drag protesters down the steps of the Capitol building. Many troopers can be seen kneeling on protesters, both on the flat pavement and on the steps.\n",
            "1060\t\"Police responded to an east side Sunoco gas station at about 5:30 a.m. after a clerk reported a man was insisting that he needed to \"\"hide\"\" behind the counter and wouldn’t leave. Police said the first officer at the scene was unable to restrain the man, but two other officers arrived a couple of minutes later and they were able to forcibly remove him. According to police, the man became violent and began vomiting while officers tried to restrain him. He was pronounced dead at a hospital shortly before 6 a.m.\"\n",
            "1097\tWilliam Robizine collapsed after being arrested on the Southside. According to police, Robinzine appeared to be on drugs and was holding his bleeding hand as police investigated a quarrel in a liquor store at about midnight. Robinzine allegedly became combative and tried to drive off in an ambulance. Robinzine was pulled from the ambulance and restrained by officers, police said. Robinzine was taken to a hospital, where he was pronounced dead.\n",
            "1105\tA San Francisco police officer has several bystanders to thank after they stepped in and rescued her after a man attacked and pinned her down on a street in the city’s Chinatown. https://t.co/MJOJc0ruM4\n",
            "1107\t\"Police officers tell a man standing in an intersection to get on the ground then shoot him (apparently with rubber bullets). He falls to the ground. He attempts to get up; an officer tackles him. At least 5 cops pin him down. Several of them punch him repeatedly even though he appears to not be resisting. At one point a bystander says \"\"yeah, punch him again -- I’m filming you!\"\" An officer punches the man again.\"\n",
            "1124\tA Facebook Live video shows several officers struggling with a man on the ground, and one police officer stomping on the man’s leg. https://t.co/uZiqqMhd28\n",
            "1134\tA legal observer is seen talking to police about events happening behind the police line. The officer shoves the legal observer. The observer then steps forward again and is thrown to the ground. This protest occurred on residential streets near Normandale Park.\n",
            "1163\tDuring a protest on September 23rd, police tore down a small cluster of tents in Chapman Square, which were occupied by houseless people unrelated to the protest. The tents did not appear to be blocking the police, and the houseless individuals were not protesting.\n",
            "1177\tFred Trump and KKK members arrested in brawl with police-Daddy &amp; Donny Boy were sued by federal government for refusing\n",
            "\n",
            "[810 | 1894.83] loss=0.01 avg=0.07\n",
            "[820 | 1917.64] loss=0.02 avg=0.07\n",
            "[830 | 1940.47] loss=0.02 avg=0.07\n",
            "[840 | 1963.34] loss=0.01 avg=0.07\n",
            "[850 | 1986.21] loss=0.01 avg=0.07\n",
            "[860 | 2009.07] loss=0.02 avg=0.07\n",
            "[870 | 2031.89] loss=0.01 avg=0.07\n",
            "[880 | 2054.72] loss=0.02 avg=0.07\n",
            "[890 | 2077.55] loss=0.01 avg=0.07\n",
            "[900 | 2100.42] loss=0.01 avg=0.07\n",
            "[910 | 2123.32] loss=0.01 avg=0.06\n",
            "[920 | 2146.19] loss=0.02 avg=0.06\n",
            "[930 | 2169.09] loss=0.02 avg=0.06\n",
            "[940 | 2191.94] loss=0.02 avg=0.06\n",
            "[950 | 2214.75] loss=0.01 avg=0.06\n",
            "[960 | 2237.54] loss=0.02 avg=0.06\n",
            "[970 | 2260.40] loss=0.02 avg=0.06\n",
            "[980 | 2283.28] loss=0.02 avg=0.06\n",
            "[990 | 2306.13] loss=0.01 avg=0.06\n",
            "[1000 | 2329.02] loss=0.02 avg=0.06\n",
            "Saving checkpoint/run1/model-1000\n",
            "WARNING:tensorflow:From /tensorflow-1.15.2/python3.7/tensorflow_core/python/training/saver.py:963: remove_checkpoint (from tensorflow.python.training.checkpoint_management) is deprecated and will be removed in a future version.\n",
            "Instructions for updating:\n",
            "Use standard file APIs to delete files with this prefix.\n"
          ],
          "name": "stdout"
        }
      ]
    },
    {
      "cell_type": "markdown",
      "metadata": {
        "id": "IXSuTNERaw6K"
      },
      "source": [
        "After the model is trained, you can copy the checkpoint folder to your own Google Drive.\n",
        "\n",
        "If you want to download it to your personal computer, it's strongly recommended you copy it there first, then download from Google Drive. The checkpoint folder is copied as a `.rar` compressed file; you can download it and uncompress it locally."
      ]
    },
    {
      "cell_type": "code",
      "metadata": {
        "id": "VHdTL8NDbAh3"
      },
      "source": [
        "gpt2.copy_checkpoint_to_gdrive(run_name='run1')"
      ],
      "execution_count": 8,
      "outputs": []
    },
    {
      "cell_type": "markdown",
      "metadata": {
        "id": "qQJgV_b4bmzd"
      },
      "source": [
        "You're done! Feel free to go to the **Generate Text From The Trained Model** section to generate text based on your retrained model."
      ]
    },
    {
      "cell_type": "markdown",
      "metadata": {
        "id": "pel-uBULXO2L"
      },
      "source": [
        "## Load a Trained Model Checkpoint\n",
        "\n",
        "Running the next cell will copy the `.rar` checkpoint file from your Google Drive into the Colaboratory VM."
      ]
    },
    {
      "cell_type": "code",
      "metadata": {
        "id": "DCcx5u7sbPTD"
      },
      "source": [
        "gpt2.copy_checkpoint_from_gdrive(run_name='run1')"
      ],
      "execution_count": 9,
      "outputs": []
    },
    {
      "cell_type": "markdown",
      "metadata": {
        "id": "RTa6zf3e_9gV"
      },
      "source": [
        "The next cell will allow you to load the retrained model checkpoint + metadata necessary to generate text.\n",
        "\n",
        "**IMPORTANT NOTE:** If you want to rerun this cell, **restart the VM first** (Runtime -> Restart Runtime). You will need to rerun imports but not recopy files."
      ]
    },
    {
      "cell_type": "code",
      "metadata": {
        "id": "-fxL77nvAMAX"
      },
      "source": [
        "sess = gpt2.start_tf_sess()\n",
        "gpt2.load_gpt2(sess, run_name='run1')"
      ],
      "execution_count": null,
      "outputs": []
    },
    {
      "cell_type": "markdown",
      "metadata": {
        "id": "ClJwpF_ACONp"
      },
      "source": [
        "## Generate Text From The Trained Model\n",
        "\n",
        "After you've trained the model or loaded a retrained model from checkpoint, you can now generate text. `generate` generates a single text from the loaded model."
      ]
    },
    {
      "cell_type": "code",
      "metadata": {
        "id": "4RNY6RBI9LmL",
        "colab": {
          "base_uri": "https://localhost:8080/"
        },
        "outputId": "ae2ea4f1-9831-4250-b1eb-dcbd12e0d6f7"
      },
      "source": [
        "gpt2.generate(sess, run_name='run1')"
      ],
      "execution_count": null,
      "outputs": [
        {
          "output_type": "stream",
          "text": [
            "Romeo was a gentleman,\n",
            "A gentleman of gentle complexion,\n",
            "A gentleman in gentle discourse,\n",
            "A gentleman in gentle words,\n",
            "A gentleman in gentle discourse,\n",
            "To smile at gentle Polixenes,\n",
            "And smile again at gentle Menenius.\n",
            "\n",
            "MENENIUS:\n",
            "A gentle discourse,\n",
            "And a very mild one indeed,\n",
            "For such a subject as ours,\n",
            "To smooth the wrinkles of the brow.\n",
            "\n",
            "First Senator:\n",
            "Our subjects,\n",
            "We are pleased to send you on your first pleasure,\n",
            "After your first pleasure we have well proceeded.\n",
            "\n",
            "VOLUMNIA:\n",
            "I think, sir, about the wine, sir, and the rest,\n",
            "Would you advise each of them in their turn to bring\n",
            "The wine to them?\n",
            "\n",
            "CORIOLANUS:\n",
            "Yea, sir; I'll be in patience;\n",
            "And let you bequeath the wine to your wine,\n",
            "If you so desire.\n",
            "\n",
            "MENENIUS:\n",
            "Would you prescribe any thing?\n",
            "\n",
            "CORIOLANUS:\n",
            "I will in person,\n",
            "Wherein the physician is well acquainted.\n",
            "\n",
            "MENENIUS:\n",
            "Well, no more: you have arrived at the right\n",
            "Till you have acquainted me with Valentinus.\n",
            "\n",
            "CORIOLANUS:\n",
            "The very first pleasure I had in your daughter,\n",
            "To see her at the first pleasure;\n",
            "For her beauty was the first pleasure;\n",
            "For her beauty was the last pleasure.\n",
            "I have often noted, that before I came\n",
            "To know her true love, that she was not newly born,\n",
            "My first pleasure was seeing her first,\n",
            "Before my first pleasure: and so, after,\n",
            "Were it not for her first kiss, she would have first\n",
            "Upon her, to kiss upon her, an instant.\n",
            "And so she did; and so did I for the\n",
            "three whole hours we spent together;\n",
            "Before she came to know me; before I could\n",
            "Tell her I was a man, she would have\n",
            "all alone, in a dream, till I came to know her.\n",
            "And so she did; and so did I for the\n",
            "three hours we spent together.\n",
            "\n",
            "VOLUMNIA:\n",
            "So with Marcius and for the rest of the company.\n",
            "\n",
            "CORIOLANUS:\n",
            "What is your opinion, gentle senator, of the\n",
            "separation of the scepter and the key?\n",
            "\n",
            "CORIOLANUS:\n",
            "That it was the better for Marcius and the\n",
            "assembly; for the scepter was within the\n",
            "time of his coming to the senate chamber; and the\n",
            "assembly was the great and shining wench.\n",
            "\n",
            "CORIOLANUS:\n",
            "That it was the better for him and the assembly.\n",
            "\n",
            "VOLUMNIA:\n",
            "That it was the better for him and the assembly.\n",
            "The assembly was a well-heal'd, well-balanced,\n",
            "renown'd, and in very worthy condition.\n",
            "He was not of great appetite, being\n",
            "not in the way of obeisance.\n",
            "\n",
            "CORIOLANUS:\n",
            "I would have thought, sir, that he had spent his\n",
            "concession of his annual tax, as it were, upon\n",
            "sip, wine, and other lawful means; for, he\n",
            "thought himself, he might have purchased a kingdom by\n",
            "using the revenue of the state.\n",
            "\n",
            "VOLUMNIA:\n",
            "He hath spent his annual revenue; so, in\n",
            "his opinion, he divides the sum of three parts\n",
            "of corn into good, good, and bad plots; divides them\n",
            "so that the good portion is richer than the\n",
            "bad portion, and so divides the plot of corn, that\n",
            "the evil portion may be fouler than the sum\n",
            "I hath spent.\n",
            "\n",
            "CORIOLANUS:\n",
            "Let me have more than I have, or that is much.\n",
            "\n",
            "VOLUMNIA:\n",
            "But how is it divided? by plot.\n",
            "\n",
            "CORIOLANUS:\n",
            "By good portion.\n",
            "\n",
            "VOLUMNIA:\n",
            "By evil portion.\n",
            "\n",
            "CORIOLANUS:\n",
            "By worst portion.\n",
            "\n",
            "VOLUMNIA:\n",
            "By worst plot.\n",
            "\n",
            "CORIOLANUS:\n",
            "By slave plot.\n",
            "\n",
            "VOLUMNIA:\n",
            "By slave plot! the better for the worse.\n",
            "I would the gods had smothered this plot!\n",
            "Thou wouldst have heaved a man to the bed of hell,\n",
            "swallowed him, made him cry, spake with him, cried\n",
            "'What is the consequence of this'? By plot! by worst!\n",
            "Thou wouldst have made a finer slave, a\n",
            "better shrew than this Angelo, a finer caitiff\n",
            "than this Prince Florizel, a finer stag than\n",
            "this Mercury, a finer sun; a finer star, a\n",
            "\n"
          ],
          "name": "stdout"
        }
      ]
    },
    {
      "cell_type": "markdown",
      "metadata": {
        "id": "oF4-PqF0Fl7R"
      },
      "source": [
        "If you're creating an API based on your model and need to pass the generated text elsewhere, you can do `text = gpt2.generate(sess, return_as_list=True)[0]`\n",
        "\n",
        "You can also pass in a `prefix` to the generate function to force the text to start with a given character sequence and generate text from there (good if you add an indicator when the text starts).\n",
        "\n",
        "You can also generate multiple texts at a time by specifing `nsamples`. Unique to GPT-2, you can pass a `batch_size` to generate multiple samples in parallel, giving a massive speedup (in Colaboratory, set a maximum of 20 for `batch_size`).\n",
        "\n",
        "Other optional-but-helpful parameters for `gpt2.generate` and friends:\n",
        "\n",
        "*  **`length`**: Number of tokens to generate (default 1023, the maximum)\n",
        "* **`temperature`**: The higher the temperature, the crazier the text (default 0.7, recommended to keep between 0.7 and 1.0)\n",
        "* **`top_k`**: Limits the generated guesses to the top *k* guesses (default 0 which disables the behavior; if the generated output is super crazy, you may want to set `top_k=40`)\n",
        "* **`top_p`**: Nucleus sampling: limits the generated guesses to a cumulative probability. (gets good results on a dataset with `top_p=0.9`)\n",
        "* **`truncate`**: Truncates the input text until a given sequence, excluding that sequence (e.g. if `truncate='<|endoftext|>'`, the returned text will include everything before the first `<|endoftext|>`). It may be useful to combine this with a smaller `length` if the input texts are short.\n",
        "*  **`include_prefix`**: If using `truncate` and `include_prefix=False`, the specified `prefix` will not be included in the returned text."
      ]
    },
    {
      "cell_type": "code",
      "metadata": {
        "id": "8DKMc0fiej4N",
        "colab": {
          "base_uri": "https://localhost:8080/"
        },
        "outputId": "c294c08d-3659-4aa2-851b-5ba12c397a1e"
      },
      "source": [
        "gpt2.generate(sess,\n",
        "              length=250,\n",
        "              temperature=0.7,\n",
        "              prefix=\"LORD\",\n",
        "              nsamples=5,\n",
        "              batch_size=5\n",
        "              )"
      ],
      "execution_count": null,
      "outputs": [
        {
          "output_type": "stream",
          "text": [
            "LORD WILLOUGHBY:\n",
            "And, Lord Marshal, to the Tower.\n",
            "\n",
            "KING RICHARD III:\n",
            "As near the time when we were born,\n",
            "Let not our graces enter into this story,\n",
            "For God's sake, the whole truth shall stand:\n",
            "The selfsame night God gave the sun,\n",
            "Let angels, and stars enter, and the four cardinal directions,\n",
            "Be satisfied, that the power thereof is determined:\n",
            "For we are ere now the prime of corn,\n",
            "Or of harvest, harvest being done,\n",
            "Caught in the vice of night, and fall asleep.\n",
            "O Clifford, how we lay to bed! Clifford, I am loath\n",
            "To sleep under this false bed of roses:\n",
            "I think, to mellow out this bed, I may by a jest\n",
            "Be naked and naked and naked! If night be pall'd,\n",
            "All self-portents must fall asleep;\n",
            "Unless, God forbid, thou art not in bed.\n",
            "\n",
            "QUEEN ELIZABETH:\n",
            "I am, and therefore, as thou suspect'st, O.K.\n",
            "Where there is no strength in the dark,\n",
            "Never will I rest, till thou bring me\n",
            "====================\n",
            "LORD WILLOUGHBY:\n",
            "The morn to pray is vain;\n",
            "Nor doth it offend the holy church,\n",
            "Nor any holy man. Come, go with me;\n",
            "I will not linger behind.\n",
            "\n",
            "ANGELO:\n",
            "Will you go with us to the prison,\n",
            "Or are you banished i' the town?\n",
            "\n",
            "PROSPERO:\n",
            "What is the matter\n",
            "That inquiring minds learn how there comes\n",
            "To solitary confession and carouse\n",
            "Of its own accord so rarely majestical\n",
            "And seldom of such meritoriousness?\n",
            "\n",
            "ANGELO:\n",
            "What is the matter?\n",
            "\n",
            "PROSPERO:\n",
            "Go you along; thou'rt damnable.\n",
            "\n",
            "ANGELO:\n",
            "I will not go with thee, unless thou go'st\n",
            "To geld a brace of draymen and use them\n",
            "For digging iron. Will you go along?\n",
            "\n",
            "PROSPERO:\n",
            "No, not with thee: I am with thee, stick\n",
            "Your neck out for the best bawd.\n",
            "\n",
            "ANGELO:\n",
            "Thou art the first bawd in the way:\n",
            "Take him to prison, and try him thine own\n",
            "====================\n",
            "LORD STANLEY:\n",
            "You have not forthrunne me.\n",
            "\n",
            "HERMIONE:\n",
            "Go in to him, Marshal.\n",
            "\n",
            "LEONTES:\n",
            "Where is the other Warwick, that we\n",
            "Have named for him?\n",
            "\n",
            "HERMIONE:\n",
            "He is hastily arrived, good sir,\n",
            "From the most hospitable succor: his gracious wife\n",
            "Shall be your goodbye, to make speedy exchange\n",
            "Of late; for Warwick, being gone, is fled,\n",
            "To hold up such favours as you can find\n",
            "Containing him welcome.\n",
            "\n",
            "LEONTES:\n",
            "Where's Warwick? speak with him.\n",
            "\n",
            "HERMIONE:\n",
            "There shall be none that speak so well against him.\n",
            "I have heard it said, and many a wise man\n",
            "Hath she lived, that it is better to be wrongful\n",
            "Than the under-minded men in general: but it is better\n",
            "To be wrongful than wrong yourself to be mew'd,\n",
            "Or in any thing else be mew'd mew'd.\n",
            "I am ashamed, that men of state are never\n",
            "Of what we mean to look for, but we speak\n",
            "To show a\n",
            "====================\n",
            "LORD WILLOUGHBY:\n",
            "Here comes his sword to kill me.\n",
            "\n",
            "CATESBY:\n",
            "I thought your majesty\n",
            "Would have bid the Duke of Norfolk,\n",
            "Who hath not been seen before, present\n",
            "Before she went to the feast.\n",
            "\n",
            "KING RICHARD III:\n",
            "Well, say you, Duke of Norfolk,\n",
            "Join with him and three hundred thousand others;\n",
            "Let her come and join with him;\n",
            "Sound the first-rate sword, and he shall join with her;\n",
            "And, after her, shall she become a king.\n",
            "\n",
            "NORTHUMBERLAND:\n",
            "Well said, my sovereign:\n",
            "Join with her; let her join with him;\n",
            "This shall be such a sword as she to him.\n",
            "\n",
            "KING RICHARD III:\n",
            "So said, my sovereign.\n",
            "\n",
            "NORTHUMBERLAND:\n",
            "And so shall she join with him.\n",
            "\n",
            "KING RICHARD III:\n",
            "So said, her majesty.\n",
            "\n",
            "NORTHUMBERLAND:\n",
            "And so shall she join with him.\n",
            "\n",
            "KING RICHARD III:\n",
            "Brother, your grace is come to Sandyshire from France.\n",
            "\n",
            "DUKE OF YORK:\n",
            "Where did you\n",
            "====================\n",
            "LORD WILLOUGHBY:\n",
            "That beastly wretch,\n",
            "Whose head and horns resemble the horns of a bear,\n",
            "While he himself is obscured in shadows;\n",
            "And thus we chain him up and hang him:\n",
            "The sentence for the ordering the rebels\n",
            "In this foul act of war is, for the time he lived\n",
            "I doubt not but the Lord Protector would\n",
            "Require the head and horns of that beastly wretch\n",
            "To carve a glorious figure in their own territories:\n",
            "And for this same they slandered both their fathers,\n",
            "And all the rest in their sleep. But, O, my soul,\n",
            "I see where thou conterest me and what I mean,\n",
            "By striking him to the ground that tread'st not upon you,\n",
            "And that will not hence: I am for thee, love.\n",
            "Thy deathly scar calls shall be drown'd out\n",
            "In the clean air that bears your name; thy banishment\n",
            "Will be sudden and in the flame of his flames:\n",
            "Where he stands before the fire, poor soul, die:\n",
            "His execution shall be sudden, and in the flame\n",
            "Of his flames his flames: hence shall thy souls rest,\n",
            "And never hear from thee\n",
            "====================\n"
          ],
          "name": "stdout"
        }
      ]
    },
    {
      "cell_type": "markdown",
      "metadata": {
        "id": "zjjEN2Tafhl2"
      },
      "source": [
        "For bulk generation, you can generate a large amount of text to a file and sort out the samples locally on your computer. The next cell will generate a generated text file with a unique timestamp.\n",
        "\n",
        "You can rerun the cells as many times as you want for even more generated texts!"
      ]
    },
    {
      "cell_type": "code",
      "metadata": {
        "id": "Fa6p6arifSL0"
      },
      "source": [
        "gen_file = 'gpt2_gentext_{:%Y%m%d_%H%M%S}.txt'.format(datetime.utcnow())\n",
        "\n",
        "gpt2.generate_to_file(sess,\n",
        "                      destination_path=gen_file,\n",
        "                      length=500,\n",
        "                      temperature=0.7,\n",
        "                      nsamples=100,\n",
        "                      batch_size=20\n",
        "                      )"
      ],
      "execution_count": null,
      "outputs": []
    },
    {
      "cell_type": "code",
      "metadata": {
        "id": "0-LRex8lfv1g"
      },
      "source": [
        "# may have to run twice to get file to download\n",
        "files.download(gen_file)"
      ],
      "execution_count": null,
      "outputs": []
    },
    {
      "cell_type": "markdown",
      "metadata": {
        "id": "QQAN3M6RT7Kj"
      },
      "source": [
        "## Generate Text From The Pretrained Model\n",
        "\n",
        "If you want to generate text from the pretrained model, not a finetuned model, pass `model_name` to `gpt2.load_gpt2()` and `gpt2.generate()`.\n",
        "\n",
        "This is currently the only way to generate text from the 774M or 1558M models with this notebook."
      ]
    },
    {
      "cell_type": "code",
      "metadata": {
        "id": "hsUd_jHgUZnD",
        "colab": {
          "base_uri": "https://localhost:8080/",
          "height": 158
        },
        "outputId": "4e0c8a3f-3527-41c4-e3fe-3357f3f8f6c2"
      },
      "source": [
        "model_name = \"774M\"\n",
        "\n",
        "gpt2.download_gpt2(model_name=model_name)"
      ],
      "execution_count": null,
      "outputs": [
        {
          "output_type": "stream",
          "text": [
            "Fetching checkpoint: 1.05Mit [00:00, 354Mit/s]                                                      \n",
            "Fetching encoder.json: 1.05Mit [00:00, 131Mit/s]                                                    \n",
            "Fetching hparams.json: 1.05Mit [00:00, 279Mit/s]                                                    \n",
            "Fetching model.ckpt.data-00000-of-00001: 3.10Git [00:23, 131Mit/s]                                  \n",
            "Fetching model.ckpt.index: 1.05Mit [00:00, 380Mit/s]                                                \n",
            "Fetching model.ckpt.meta: 2.10Mit [00:00, 226Mit/s]                                                 \n",
            "Fetching vocab.bpe: 1.05Mit [00:00, 199Mit/s]                                                       \n"
          ],
          "name": "stderr"
        }
      ]
    },
    {
      "cell_type": "code",
      "metadata": {
        "id": "BAe4NpKNUj2C",
        "colab": {
          "base_uri": "https://localhost:8080/",
          "height": 124
        },
        "outputId": "b09bfe1d-2ff8-4b8a-fffb-273d28d5d4ae"
      },
      "source": [
        "sess = gpt2.start_tf_sess()\n",
        "\n",
        "gpt2.load_gpt2(sess, model_name=model_name)"
      ],
      "execution_count": null,
      "outputs": [
        {
          "output_type": "stream",
          "text": [
            "WARNING: Logging before flag parsing goes to stderr.\n",
            "W0828 18:37:58.571830 139905369159552 deprecation.py:323] From /usr/local/lib/python3.6/dist-packages/tensorflow/python/training/saver.py:1276: checkpoint_exists (from tensorflow.python.training.checkpoint_management) is deprecated and will be removed in a future version.\n",
            "Instructions for updating:\n",
            "Use standard file APIs to check for files with this prefix.\n"
          ],
          "name": "stderr"
        },
        {
          "output_type": "stream",
          "text": [
            "Loading pretrained model models/774M/model.ckpt\n"
          ],
          "name": "stdout"
        }
      ]
    },
    {
      "cell_type": "code",
      "metadata": {
        "id": "-xInIZKaU104",
        "colab": {
          "base_uri": "https://localhost:8080/",
          "height": 797
        },
        "outputId": "56348e28-7d08-45e3-c859-f26c0efd066d"
      },
      "source": [
        "gpt2.generate(sess,\n",
        "              model_name=model_name,\n",
        "              prefix=\"The secret of life is\",\n",
        "              length=100,\n",
        "              temperature=0.7,\n",
        "              top_p=0.9,\n",
        "              nsamples=5,\n",
        "              batch_size=5\n",
        "              )"
      ],
      "execution_count": null,
      "outputs": [
        {
          "output_type": "stream",
          "text": [
            "The secret of life is that it's really easy to make it complicated,\" said Bill Nye, the host of the popular science show \"Bill Nye the Science Guy.\" \"And this is one of the reasons why we all need to be smarter about science, because we can't keep up with the amazing things that are going on all the time.\"\n",
            "\n",
            "While Nye is correct that \"everything that's going on all the time\" is making the world a better place, he misses the point. This is not\n",
            "====================\n",
            "The secret of life is in the rhythm of the universe. It's not a mystery. It's not a mystery to me. It's the nature of the universe. It's the beauty of the universe. It's the way the universe works. It's the way the universe is. It's the way the universe is going to work. It's the way the universe is. It's the way the universe is. It's the way the universe is. It's the way the universe is. It's the way\n",
            "====================\n",
            "The secret of life is in the universe.\n",
            "\n",
            "\n",
            "-\n",
            "\n",
            "The Red Devil\n",
            "\n",
            "It's the end of the world as we know it, and the only thing that can save us is a band of super-powered individuals known as the Red Devil.\n",
            "\n",
            "\n",
            "The Red Devil is a group of super-powered individuals who are seeking the secret of life and the only way they know how to do it is by taking on the roles of a variety of different super-powered individuals, each of which has their own\n",
            "====================\n",
            "The secret of life is in the mixing of the elements, and it is the mixing of the elements that makes life possible.\"\n",
            "\n",
            "But in the world of food science, the idea of a \"complex\" or \"complexity\" is almost entirely imaginary.\n",
            "\n",
            "As a scientist, I'm fascinated by the question of how life first began.\n",
            "\n",
            "It's the question that drives my work and the work of the scientists who work on it.\n",
            "\n",
            "My current research is exploring how microbes work in the first moments\n",
            "====================\n",
            "The secret of life is the journey of life, the search for the truth.\n",
            "\n",
            "4.4.2. The last thing you know\n",
            "\n",
            "There is nothing more important than the last thing you know.\n",
            "\n",
            "4.4.3. The little things that make all the difference\n",
            "\n",
            "The little things that make all the difference.\n",
            "\n",
            "4.4.4. The truth is the best teacher\n",
            "\n",
            "The truth is the best teacher.\n",
            "\n",
            "4.4.5. The truth is what\n",
            "====================\n"
          ],
          "name": "stdout"
        }
      ]
    },
    {
      "cell_type": "markdown",
      "metadata": {
        "id": "ig-KVgkCDCKD"
      },
      "source": [
        "# Etcetera\n",
        "\n",
        "If the notebook has errors (e.g. GPU Sync Fail), force-kill the Colaboratory virtual machine and restart it with the command below:"
      ]
    },
    {
      "cell_type": "code",
      "metadata": {
        "id": "rIHiVP53FnsX"
      },
      "source": [
        "!kill -9 -1"
      ],
      "execution_count": null,
      "outputs": []
    },
    {
      "cell_type": "markdown",
      "metadata": {
        "id": "wmTXWNUygS5E"
      },
      "source": [
        "# LICENSE\n",
        "\n",
        "MIT License\n",
        "\n",
        "Copyright (c) 2019 Max Woolf\n",
        "\n",
        "Permission is hereby granted, free of charge, to any person obtaining a copy\n",
        "of this software and associated documentation files (the \"Software\"), to deal\n",
        "in the Software without restriction, including without limitation the rights\n",
        "to use, copy, modify, merge, publish, distribute, sublicense, and/or sell\n",
        "copies of the Software, and to permit persons to whom the Software is\n",
        "furnished to do so, subject to the following conditions:\n",
        "\n",
        "The above copyright notice and this permission notice shall be included in all\n",
        "copies or substantial portions of the Software.\n",
        "\n",
        "THE SOFTWARE IS PROVIDED \"AS IS\", WITHOUT WARRANTY OF ANY KIND, EXPRESS OR\n",
        "IMPLIED, INCLUDING BUT NOT LIMITED TO THE WARRANTIES OF MERCHANTABILITY,\n",
        "FITNESS FOR A PARTICULAR PURPOSE AND NONINFRINGEMENT. IN NO EVENT SHALL THE\n",
        "AUTHORS OR COPYRIGHT HOLDERS BE LIABLE FOR ANY CLAIM, DAMAGES OR OTHER\n",
        "LIABILITY, WHETHER IN AN ACTION OF CONTRACT, TORT OR OTHERWISE, ARISING FROM,\n",
        "OUT OF OR IN CONNECTION WITH THE SOFTWARE OR THE USE OR OTHER DEALINGS IN THE\n",
        "SOFTWARE."
      ]
    }
  ]
}