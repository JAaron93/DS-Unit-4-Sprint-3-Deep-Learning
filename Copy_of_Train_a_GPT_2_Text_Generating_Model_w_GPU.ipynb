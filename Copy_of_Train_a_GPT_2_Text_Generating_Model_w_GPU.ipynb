{
  "nbformat": 4,
  "nbformat_minor": 0,
  "metadata": {
    "colab": {
      "name": "Copy of Train a GPT-2 Text-Generating Model w/ GPU",
      "provenance": [],
      "collapsed_sections": [],
      "include_colab_link": true
    },
    "kernelspec": {
      "name": "python3",
      "display_name": "Python 3"
    },
    "accelerator": "GPU"
  },
  "cells": [
    {
      "cell_type": "markdown",
      "metadata": {
        "id": "view-in-github",
        "colab_type": "text"
      },
      "source": [
        "<a href=\"https://colab.research.google.com/github/JAaron93/DS-Unit-4-Sprint-3-Deep-Learning/blob/main/Copy_of_Train_a_GPT_2_Text_Generating_Model_w_GPU.ipynb\" target=\"_parent\"><img src=\"https://colab.research.google.com/assets/colab-badge.svg\" alt=\"Open In Colab\"/></a>"
      ]
    },
    {
      "cell_type": "markdown",
      "metadata": {
        "id": "w_XQvKmy5x20"
      },
      "source": [
        "***This notebook is meant to be run in Google Colab***"
      ]
    },
    {
      "cell_type": "markdown",
      "metadata": {
        "id": "H7LoMj4GA4n_"
      },
      "source": [
        "#  Training a GPT-2 Text-Generating Model w/ GPU\n",
        "\n",
        "[GPT-2 info from OpenAI](https://https://openai.com/blog/better-language-models/)\n",
        "\n",
        "[GPT-2 Simple - Github Repo](https://github.com/minimaxir/gpt-2-simple)\n",
        "\n",
        "*As of Labs37*\n",
        "\n",
        "The BERT model we've inherited from prior cohorts has been suffering from a major class imbalance.\n",
        "\n",
        "The data they collected for the training of this NLP classification model were unlabelled, prompting the creation of [this](http://bw-labeler-dev.us-east-1.elasticbeanstalk.com/). Ranks 2, 3, & 4 have but a few hundred samples among them, while Ranks 0, 1, & 5 contain thousands. Extreme cases of police activity are plenty, ranging from their complete absence to their murdering of innocent civillians. Rare is the opportunity to rank 'moderate' examples of police misconduct.\n",
        "\n",
        "To alleviate this imbalance while side-stepping an otherwise [mundane task](https://www.kdnuggets.com/2017/06/acquiring-quality-labeled-training-data.html), Labs37 has decided to generate these tweets themselves. And what better way to fulfill this task than to use one of the most robust, open source, text-generating models around?"
      ]
    },
    {
      "cell_type": "code",
      "metadata": {
        "id": "KBkpRgBCBS2_",
        "colab": {
          "base_uri": "https://localhost:8080/"
        },
        "outputId": "2126c43f-aa61-499e-e4d5-3c6e3a4e44c6"
      },
      "source": [
        "%tensorflow_version 1.x\n",
        "!pip install -q gpt-2-simple\n",
        "import gpt_2_simple as gpt2\n",
        "from datetime import datetime\n",
        "from google.colab import files"
      ],
      "execution_count": 1,
      "outputs": [
        {
          "output_type": "stream",
          "text": [
            "TensorFlow 1.x selected.\n",
            "  Building wheel for gpt-2-simple (setup.py) ... \u001b[?25l\u001b[?25hdone\n",
            "WARNING:tensorflow:\n",
            "The TensorFlow contrib module will not be included in TensorFlow 2.0.\n",
            "For more information, please see:\n",
            "  * https://github.com/tensorflow/community/blob/master/rfcs/20180907-contrib-sunset.md\n",
            "  * https://github.com/tensorflow/addons\n",
            "  * https://github.com/tensorflow/io (for I/O related ops)\n",
            "If you depend on functionality not listed there, please file an issue.\n",
            "\n"
          ],
          "name": "stdout"
        }
      ]
    },
    {
      "cell_type": "markdown",
      "metadata": {
        "id": "Bj2IJLHP3KwE"
      },
      "source": [
        "## GPU\n",
        "\n",
        "Colab uses either a Nvidia T4 GPU or an Nvidia K80 GPU. The T4 is slightly faster than the old K80 for training GPT-2, and has more memory allowing you to train the larger GPT-2 models and generate more text.\n",
        "\n",
        "You can verify which GPU is active by running the cell below."
      ]
    },
    {
      "cell_type": "code",
      "metadata": {
        "id": "sUmTooTW3osf",
        "colab": {
          "base_uri": "https://localhost:8080/"
        },
        "outputId": "e6e8ee39-be3b-471c-cf42-a45b62568044"
      },
      "source": [
        "!nvidia-smi"
      ],
      "execution_count": 2,
      "outputs": [
        {
          "output_type": "stream",
          "text": [
            "Mon Aug 16 03:43:52 2021       \n",
            "+-----------------------------------------------------------------------------+\n",
            "| NVIDIA-SMI 470.42.01    Driver Version: 460.32.03    CUDA Version: 11.2     |\n",
            "|-------------------------------+----------------------+----------------------+\n",
            "| GPU  Name        Persistence-M| Bus-Id        Disp.A | Volatile Uncorr. ECC |\n",
            "| Fan  Temp  Perf  Pwr:Usage/Cap|         Memory-Usage | GPU-Util  Compute M. |\n",
            "|                               |                      |               MIG M. |\n",
            "|===============================+======================+======================|\n",
            "|   0  Tesla T4            Off  | 00000000:00:04.0 Off |                    0 |\n",
            "| N/A   52C    P8    10W /  70W |      0MiB / 15109MiB |      0%      Default |\n",
            "|                               |                      |                  N/A |\n",
            "+-------------------------------+----------------------+----------------------+\n",
            "                                                                               \n",
            "+-----------------------------------------------------------------------------+\n",
            "| Processes:                                                                  |\n",
            "|  GPU   GI   CI        PID   Type   Process name                  GPU Memory |\n",
            "|        ID   ID                                                   Usage      |\n",
            "|=============================================================================|\n",
            "|  No running processes found                                                 |\n",
            "+-----------------------------------------------------------------------------+\n"
          ],
          "name": "stdout"
        }
      ]
    },
    {
      "cell_type": "markdown",
      "metadata": {
        "id": "Ir6-8n0L7Zr0"
      },
      "source": [
        "Don't let   `0  Tesla T4            Off` fool you. It's on. Colab, for whatever reason, doesn't display whether their GPUs are enabled or not with the `nvidia-smi` shell command. \n",
        "\n",
        "If you're wondering if it's even on at all, try running that shell command again after changing your runtime back to **CPU**. It won't appear, but it will with a **GPU** runtime.\n",
        "\n",
        "It's a shame it'll never display  `0  Tesla T4            On`."
      ]
    },
    {
      "cell_type": "markdown",
      "metadata": {
        "id": "0wXB05bPDYxS"
      },
      "source": [
        "## Downloading GPT-2\n",
        "\n",
        "If you're retraining a model on new text, you need to download the GPT-2 model first. \n",
        "\n",
        "There are three released sizes of GPT-2:\n",
        "\n",
        "* `124M` (default): the \"small\" model, 500MB on disk.\n",
        "* `355M`: the \"medium\" model, 1.5GB on disk.\n",
        "* `774M`: the \"large\" model, cannot currently be finetuned with Colaboratory but can be used to generate text from the pretrained model (see later in Notebook)\n",
        "* `1558M`: the \"extra large\", true model. Will not work if a K80/P4 GPU is attached to the notebook. (like `774M`, it cannot be finetuned).\n",
        "\n",
        "Larger models have more knowledge, but take longer to finetune and longer to generate text. You can specify which base model to use by changing `model_name` in the cells below.\n",
        "\n",
        "The next cell downloads it from Google Cloud Storage and saves it in the Colaboratory VM at `/models/<model_name>`.\n",
        "\n",
        "This model isn't permanently saved in the Colaboratory VM; you'll have to redownload it if you want to retrain it at a later time."
      ]
    },
    {
      "cell_type": "code",
      "metadata": {
        "id": "P8wSlgXoDPCR",
        "colab": {
          "base_uri": "https://localhost:8080/"
        },
        "outputId": "9a6356ff-8d86-4b32-8879-10d701416fbb"
      },
      "source": [
        "gpt2.download_gpt2(model_name=\"355M\")"
      ],
      "execution_count": 3,
      "outputs": [
        {
          "output_type": "stream",
          "text": [
            "Fetching checkpoint: 1.05Mit [00:00, 635Mit/s]                                                      \n",
            "Fetching encoder.json: 1.05Mit [00:00, 3.45Mit/s]\n",
            "Fetching hparams.json: 1.05Mit [00:00, 676Mit/s]                                                    \n",
            "Fetching model.ckpt.data-00000-of-00001: 1.42Git [01:17, 18.3Mit/s]\n",
            "Fetching model.ckpt.index: 1.05Mit [00:00, 239Mit/s]                                                \n",
            "Fetching model.ckpt.meta: 1.05Mit [00:00, 3.54Mit/s]\n",
            "Fetching vocab.bpe: 1.05Mit [00:00, 4.22Mit/s]\n"
          ],
          "name": "stderr"
        }
      ]
    },
    {
      "cell_type": "markdown",
      "metadata": {
        "id": "N8KXuKWzQSsN"
      },
      "source": [
        "## Mounting Google Drive\n",
        "\n",
        "The best way to get input text to-be-trained into the Colab VM, and to get the trained model *out* of Colab, is to route it through Google Drive *first*.\n",
        "\n",
        "Running this cell (which will only work in Colab) will mount your personal Google Drive in the VM, which later cells can use to get data in/out. (it will ask for an auth code; that auth is not saved anywhere)"
      ]
    },
    {
      "cell_type": "code",
      "metadata": {
        "id": "puq4iC6vUAHc",
        "colab": {
          "base_uri": "https://localhost:8080/"
        },
        "outputId": "e17dd620-0b6d-43d6-8c66-071be77d46df"
      },
      "source": [
        "gpt2.mount_gdrive()"
      ],
      "execution_count": 3,
      "outputs": [
        {
          "output_type": "stream",
          "text": [
            "Mounted at /content/drive\n"
          ],
          "name": "stdout"
        }
      ]
    },
    {
      "cell_type": "markdown",
      "metadata": {
        "id": "jGaAHj1V2QRo"
      },
      "source": [
        "# Gathering Our Text Data\n",
        "\n",
        "The tweets we'll be using to train our GPT-2 model must come in the form a of .txt file.\n",
        "\n",
        "To do that we'll read in a .CSV file containing 5k tweets and isolate them from all other columns contained within their dataset.\n",
        "\n",
        "We also want to train GPT-2 on each rank, **separately**, so as to ensure each batch of texts it'll generate only contains that rank, ensuring a simple labelling and compilation of our synthetic tweets."
      ]
    },
    {
      "cell_type": "code",
      "metadata": {
        "id": "1YdzoCXKd1Bs"
      },
      "source": [
        "import pandas as pd\n",
        "training = \"training.csv\"\n",
        "train = pd.read_csv(training)"
      ],
      "execution_count": null,
      "outputs": []
    },
    {
      "cell_type": "code",
      "metadata": {
        "colab": {
          "base_uri": "https://localhost:8080/",
          "height": 206
        },
        "id": "kjr2VXIseIgj",
        "outputId": "4c76d1ea-3d74-4312-9fdc-fd8011cef080"
      },
      "source": [
        "train.head()"
      ],
      "execution_count": null,
      "outputs": [
        {
          "output_type": "execute_result",
          "data": {
            "text/html": [
              "<div>\n",
              "<style scoped>\n",
              "    .dataframe tbody tr th:only-of-type {\n",
              "        vertical-align: middle;\n",
              "    }\n",
              "\n",
              "    .dataframe tbody tr th {\n",
              "        vertical-align: top;\n",
              "    }\n",
              "\n",
              "    .dataframe thead th {\n",
              "        text-align: right;\n",
              "    }\n",
              "</style>\n",
              "<table border=\"1\" class=\"dataframe\">\n",
              "  <thead>\n",
              "    <tr style=\"text-align: right;\">\n",
              "      <th></th>\n",
              "      <th>Unnamed: 0</th>\n",
              "      <th>id</th>\n",
              "      <th>tweets</th>\n",
              "      <th>labels</th>\n",
              "    </tr>\n",
              "  </thead>\n",
              "  <tbody>\n",
              "    <tr>\n",
              "      <th>0</th>\n",
              "      <td>0</td>\n",
              "      <td>6</td>\n",
              "      <td>A New Mexico State Police officer killed two p...</td>\n",
              "      <td>5</td>\n",
              "    </tr>\n",
              "    <tr>\n",
              "      <th>1</th>\n",
              "      <td>1</td>\n",
              "      <td>7</td>\n",
              "      <td>I found some police badge stickers at work and...</td>\n",
              "      <td>0</td>\n",
              "    </tr>\n",
              "    <tr>\n",
              "      <th>2</th>\n",
              "      <td>2</td>\n",
              "      <td>8</td>\n",
              "      <td>According to media reports, police said they a...</td>\n",
              "      <td>1</td>\n",
              "    </tr>\n",
              "    <tr>\n",
              "      <th>3</th>\n",
              "      <td>3</td>\n",
              "      <td>9</td>\n",
              "      <td>The male who has the knife is now running nort...</td>\n",
              "      <td>0</td>\n",
              "    </tr>\n",
              "    <tr>\n",
              "      <th>4</th>\n",
              "      <td>4</td>\n",
              "      <td>10</td>\n",
              "      <td>Changing the assignments of already existing c...</td>\n",
              "      <td>0</td>\n",
              "    </tr>\n",
              "  </tbody>\n",
              "</table>\n",
              "</div>"
            ],
            "text/plain": [
              "   Unnamed: 0  id                                             tweets  labels\n",
              "0           0   6  A New Mexico State Police officer killed two p...       5\n",
              "1           1   7  I found some police badge stickers at work and...       0\n",
              "2           2   8  According to media reports, police said they a...       1\n",
              "3           3   9  The male who has the knife is now running nort...       0\n",
              "4           4  10  Changing the assignments of already existing c...       0"
            ]
          },
          "metadata": {
            "tags": []
          },
          "execution_count": 6
        }
      ]
    },
    {
      "cell_type": "code",
      "metadata": {
        "id": "FHqN_fzfhESm"
      },
      "source": [
        "train.drop(['Unnamed: 0'], axis=1, inplace=True)\n",
        "\n",
        "rank2 = pd.DataFrame(train[train['labels'] == 2])\n",
        "rank2 = rank2['tweets']\n",
        "rank3 = pd.DataFrame(train[train['labels'] == 3])\n",
        "rank3 = rank3['tweets']\n",
        "rank4 = pd.DataFrame(train[train['labels'] == 4])\n",
        "rank4 = rank4['tweets']"
      ],
      "execution_count": null,
      "outputs": []
    },
    {
      "cell_type": "code",
      "metadata": {
        "colab": {
          "base_uri": "https://localhost:8080/"
        },
        "id": "GhZDYxq2nJUw",
        "outputId": "0b6deb78-78e4-4ac3-fa47-2f4f15b46bb5"
      },
      "source": [
        "rank2"
      ],
      "execution_count": null,
      "outputs": [
        {
          "output_type": "execute_result",
          "data": {
            "text/plain": [
              "119     UPDATE: Vacaville Police K9 Punched in the Fac...\n",
              "131     New York police department,made in Israel!! Wa...\n",
              "175     Bank holiday brawl between police and pub punt...\n",
              "187     5 Bangladeshi nationals arrested in Bengaluru ...\n",
              "200     4 volunteers with Black Protest Legal Support ...\n",
              "                              ...                        \n",
              "5999    Reporter Josie Huang was covering the shooting...\n",
              "6010    Footage and reports show approximately 30 poli...\n",
              "6019    Footage from 3 tiktok videos shows numerous of...\n",
              "6024    Police seemingly single out a person that is b...\n",
              "6027    I fully condemn the police brutality at the fr...\n",
              "Name: tweets, Length: 177, dtype: object"
            ]
          },
          "metadata": {
            "tags": []
          },
          "execution_count": 35
        }
      ]
    },
    {
      "cell_type": "markdown",
      "metadata": {
        "id": "OZOjvpZx4u9W"
      },
      "source": [
        "# Exporting our Isolated Tweets\n",
        "\n",
        "Now that we've rittled down our dataframe to the sole column we need, it's time to export them. Pandas lacks a `.to_txt` method but can still get the job done by specifying the **type**(*in this instance, just adding .txt at the end*) of the file being exported with `.to_csv`."
      ]
    },
    {
      "cell_type": "code",
      "metadata": {
        "id": "zPZXBABGkanm"
      },
      "source": [
        "rank2.to_csv('rank2tweets.txt', sep='\\t')\n",
        "rank3.to_csv('rank3tweets.txt', sep='\\t')\n",
        "rank4.to_csv('rank4tweets.txt', sep='\\t')"
      ],
      "execution_count": null,
      "outputs": []
    },
    {
      "cell_type": "markdown",
      "metadata": {
        "id": "BT__brhBCvJu"
      },
      "source": [
        "## Uploading a Text File to be Trained to Colab\n",
        "\n",
        "In the Colaboratory Notebook sidebar on the left of the screen, select *Files*. From there you can upload files:\n",
        "\n",
        "![alt text](https://i.imgur.com/TGcZT4h.png)\n",
        "\n",
        "Upload **any smaller text file**  (<10 MB) and update the file name in the cell below, then run the cell."
      ]
    },
    {
      "cell_type": "code",
      "metadata": {
        "id": "6OFnPCLADfll"
      },
      "source": [
        "file_name = \"rank3tweets.txt\""
      ],
      "execution_count": 5,
      "outputs": []
    },
    {
      "cell_type": "markdown",
      "metadata": {
        "id": "HeeSKtNWUedE"
      },
      "source": [
        "If your text file is larger than 10MB, it is recommended to upload that file to Google Drive first, then copy that file from Google Drive to the Colaboratory VM."
      ]
    },
    {
      "cell_type": "code",
      "metadata": {
        "id": "-Z6okFD8VKtS"
      },
      "source": [
        "gpt2.copy_file_from_gdrive(file_name)"
      ],
      "execution_count": 6,
      "outputs": []
    },
    {
      "cell_type": "markdown",
      "metadata": {
        "id": "LdpZQXknFNY3"
      },
      "source": [
        "## Finetune GPT-2\n",
        "\n",
        "The next cell will start the actual finetuning of GPT-2. It creates a persistent TensorFlow session which stores the training config, then runs the training for the specified number of `steps`. (to have the finetuning run indefinitely, set `steps = -1`)\n",
        "\n",
        "The model checkpoints will be saved in `/checkpoint/run1` by default. The checkpoints are saved every 500 steps (can be changed) and when the cell is stopped.\n",
        "\n",
        "The training might time out after 4ish hours; make sure you end training and save the results so you don't lose them!\n",
        "\n",
        "**IMPORTANT NOTE:** If you want to rerun this cell, **restart the VM first** (Runtime -> Restart Runtime). You will need to rerun imports but not recopy files.\n",
        "\n",
        "Other optional-but-helpful parameters for `gpt2.finetune`:\n",
        "\n",
        "\n",
        "*  **`restore_from`**: Set to `fresh` to start training from the base GPT-2, or set to `latest` to restart training from an existing checkpoint.\n",
        "* **`sample_every`**: Number of steps to print example output\n",
        "* **`print_every`**: Number of steps to print training progress.\n",
        "* **`learning_rate`**:  Learning rate for the training. (default `1e-4`, can lower to `1e-5` if you have <1MB input data)\n",
        "*  **`run_name`**: subfolder within `checkpoint` to save the model. This is useful if you want to work with multiple models (will also need to specify  `run_name` when loading the model)\n",
        "* **`overwrite`**: Set to `True` if you want to continue finetuning an existing model (w/ `restore_from='latest'`) without creating duplicate copies. "
      ]
    },
    {
      "cell_type": "code",
      "metadata": {
        "id": "aeXshJM-Cuaf",
        "colab": {
          "base_uri": "https://localhost:8080/",
          "height": 381
        },
        "outputId": "fe7b8ef2-567e-4d31-b1f7-b0ce91cc2b11"
      },
      "source": [
        "sess = gpt2.start_tf_sess()\n",
        "\n",
        "gpt2.finetune(sess,\n",
        "              dataset=file_name,\n",
        "              model_name='355MM',\n",
        "              steps=1000,\n",
        "              restore_from='fresh',\n",
        "              run_name='run2_rank3',\n",
        "              print_every=5,\n",
        "              sample_every=200,\n",
        "              save_every=500\n",
        "              )"
      ],
      "execution_count": 7,
      "outputs": [
        {
          "output_type": "stream",
          "text": [
            "You need to download the GPT-2 model first via download_gpt2()\n"
          ],
          "name": "stdout"
        },
        {
          "output_type": "error",
          "ename": "FileNotFoundError",
          "evalue": "ignored",
          "traceback": [
            "\u001b[0;31m---------------------------------------------------------------------------\u001b[0m",
            "\u001b[0;31mFileNotFoundError\u001b[0m                         Traceback (most recent call last)",
            "\u001b[0;32m<ipython-input-7-b160628074f8>\u001b[0m in \u001b[0;36m<module>\u001b[0;34m()\u001b[0m\n\u001b[1;32m      9\u001b[0m               \u001b[0mprint_every\u001b[0m\u001b[0;34m=\u001b[0m\u001b[0;36m5\u001b[0m\u001b[0;34m,\u001b[0m\u001b[0;34m\u001b[0m\u001b[0;34m\u001b[0m\u001b[0m\n\u001b[1;32m     10\u001b[0m               \u001b[0msample_every\u001b[0m\u001b[0;34m=\u001b[0m\u001b[0;36m200\u001b[0m\u001b[0;34m,\u001b[0m\u001b[0;34m\u001b[0m\u001b[0;34m\u001b[0m\u001b[0m\n\u001b[0;32m---> 11\u001b[0;31m               \u001b[0msave_every\u001b[0m\u001b[0;34m=\u001b[0m\u001b[0;36m500\u001b[0m\u001b[0;34m\u001b[0m\u001b[0;34m\u001b[0m\u001b[0m\n\u001b[0m\u001b[1;32m     12\u001b[0m               )\n",
            "\u001b[0;32m/usr/local/lib/python3.7/dist-packages/gpt_2_simple/gpt_2.py\u001b[0m in \u001b[0;36mfinetune\u001b[0;34m(sess, dataset, steps, model_name, model_dir, combine, batch_size, learning_rate, accumulate_gradients, restore_from, run_name, checkpoint_dir, sample_every, sample_length, sample_num, multi_gpu, save_every, print_every, max_checkpoints, use_memory_saving_gradients, only_train_transformer_layers, optimizer, overwrite)\u001b[0m\n\u001b[1;32m    174\u001b[0m         \u001b[0;32mexcept\u001b[0m \u001b[0mFileNotFoundError\u001b[0m \u001b[0;32mas\u001b[0m \u001b[0mfnf_error\u001b[0m\u001b[0;34m:\u001b[0m\u001b[0;34m\u001b[0m\u001b[0;34m\u001b[0m\u001b[0m\n\u001b[1;32m    175\u001b[0m             \u001b[0mprint\u001b[0m\u001b[0;34m(\u001b[0m\u001b[0;34m\"You need to download the GPT-2 model first via download_gpt2()\"\u001b[0m\u001b[0;34m)\u001b[0m\u001b[0;34m\u001b[0m\u001b[0;34m\u001b[0m\u001b[0m\n\u001b[0;32m--> 176\u001b[0;31m             \u001b[0;32mraise\u001b[0m\u001b[0;34m(\u001b[0m\u001b[0mfnf_error\u001b[0m\u001b[0;34m)\u001b[0m\u001b[0;34m\u001b[0m\u001b[0;34m\u001b[0m\u001b[0m\n\u001b[0m\u001b[1;32m    177\u001b[0m \u001b[0;34m\u001b[0m\u001b[0m\n\u001b[1;32m    178\u001b[0m     \u001b[0menc\u001b[0m \u001b[0;34m=\u001b[0m \u001b[0mencoder\u001b[0m\u001b[0;34m.\u001b[0m\u001b[0mget_encoder\u001b[0m\u001b[0;34m(\u001b[0m\u001b[0mcheckpoint_path\u001b[0m\u001b[0;34m)\u001b[0m\u001b[0;34m\u001b[0m\u001b[0;34m\u001b[0m\u001b[0m\n",
            "\u001b[0;32m/usr/local/lib/python3.7/dist-packages/gpt_2_simple/gpt_2.py\u001b[0m in \u001b[0;36mfinetune\u001b[0;34m(sess, dataset, steps, model_name, model_dir, combine, batch_size, learning_rate, accumulate_gradients, restore_from, run_name, checkpoint_dir, sample_every, sample_length, sample_num, multi_gpu, save_every, print_every, max_checkpoints, use_memory_saving_gradients, only_train_transformer_layers, optimizer, overwrite)\u001b[0m\n\u001b[1;32m    171\u001b[0m         \u001b[0;32mtry\u001b[0m\u001b[0;34m:\u001b[0m\u001b[0;34m\u001b[0m\u001b[0;34m\u001b[0m\u001b[0m\n\u001b[1;32m    172\u001b[0m             shutil.copyfile(os.path.join(model_dir, model_name, file),\n\u001b[0;32m--> 173\u001b[0;31m                             os.path.join(checkpoint_path, file))\n\u001b[0m\u001b[1;32m    174\u001b[0m         \u001b[0;32mexcept\u001b[0m \u001b[0mFileNotFoundError\u001b[0m \u001b[0;32mas\u001b[0m \u001b[0mfnf_error\u001b[0m\u001b[0;34m:\u001b[0m\u001b[0;34m\u001b[0m\u001b[0;34m\u001b[0m\u001b[0m\n\u001b[1;32m    175\u001b[0m             \u001b[0mprint\u001b[0m\u001b[0;34m(\u001b[0m\u001b[0;34m\"You need to download the GPT-2 model first via download_gpt2()\"\u001b[0m\u001b[0;34m)\u001b[0m\u001b[0;34m\u001b[0m\u001b[0;34m\u001b[0m\u001b[0m\n",
            "\u001b[0;32m/usr/lib/python3.7/shutil.py\u001b[0m in \u001b[0;36mcopyfile\u001b[0;34m(src, dst, follow_symlinks)\u001b[0m\n\u001b[1;32m    118\u001b[0m         \u001b[0mos\u001b[0m\u001b[0;34m.\u001b[0m\u001b[0msymlink\u001b[0m\u001b[0;34m(\u001b[0m\u001b[0mos\u001b[0m\u001b[0;34m.\u001b[0m\u001b[0mreadlink\u001b[0m\u001b[0;34m(\u001b[0m\u001b[0msrc\u001b[0m\u001b[0;34m)\u001b[0m\u001b[0;34m,\u001b[0m \u001b[0mdst\u001b[0m\u001b[0;34m)\u001b[0m\u001b[0;34m\u001b[0m\u001b[0;34m\u001b[0m\u001b[0m\n\u001b[1;32m    119\u001b[0m     \u001b[0;32melse\u001b[0m\u001b[0;34m:\u001b[0m\u001b[0;34m\u001b[0m\u001b[0;34m\u001b[0m\u001b[0m\n\u001b[0;32m--> 120\u001b[0;31m         \u001b[0;32mwith\u001b[0m \u001b[0mopen\u001b[0m\u001b[0;34m(\u001b[0m\u001b[0msrc\u001b[0m\u001b[0;34m,\u001b[0m \u001b[0;34m'rb'\u001b[0m\u001b[0;34m)\u001b[0m \u001b[0;32mas\u001b[0m \u001b[0mfsrc\u001b[0m\u001b[0;34m:\u001b[0m\u001b[0;34m\u001b[0m\u001b[0;34m\u001b[0m\u001b[0m\n\u001b[0m\u001b[1;32m    121\u001b[0m             \u001b[0;32mwith\u001b[0m \u001b[0mopen\u001b[0m\u001b[0;34m(\u001b[0m\u001b[0mdst\u001b[0m\u001b[0;34m,\u001b[0m \u001b[0;34m'wb'\u001b[0m\u001b[0;34m)\u001b[0m \u001b[0;32mas\u001b[0m \u001b[0mfdst\u001b[0m\u001b[0;34m:\u001b[0m\u001b[0;34m\u001b[0m\u001b[0;34m\u001b[0m\u001b[0m\n\u001b[1;32m    122\u001b[0m                 \u001b[0mcopyfileobj\u001b[0m\u001b[0;34m(\u001b[0m\u001b[0mfsrc\u001b[0m\u001b[0;34m,\u001b[0m \u001b[0mfdst\u001b[0m\u001b[0;34m)\u001b[0m\u001b[0;34m\u001b[0m\u001b[0;34m\u001b[0m\u001b[0m\n",
            "\u001b[0;31mFileNotFoundError\u001b[0m: [Errno 2] No such file or directory: 'models/355MM/hparams.json'"
          ]
        }
      ]
    },
    {
      "cell_type": "markdown",
      "metadata": {
        "id": "IXSuTNERaw6K"
      },
      "source": [
        "After the model is trained, you can copy the checkpoint folder to your own Google Drive.\n",
        "\n",
        "If you want to download it to your personal computer, it's strongly recommended you copy it there first, then download from Google Drive. The checkpoint folder is copied as a `.rar` compressed file; you can download it and uncompress it locally."
      ]
    },
    {
      "cell_type": "code",
      "metadata": {
        "id": "VHdTL8NDbAh3"
      },
      "source": [
        "gpt2.copy_checkpoint_to_gdrive(run_name='run2_rank3')"
      ],
      "execution_count": null,
      "outputs": []
    },
    {
      "cell_type": "markdown",
      "metadata": {
        "id": "qQJgV_b4bmzd"
      },
      "source": [
        "You're done! Feel free to go to the **Generate Text From The Trained Model** section to generate text based on your retrained model."
      ]
    },
    {
      "cell_type": "markdown",
      "metadata": {
        "id": "pel-uBULXO2L"
      },
      "source": [
        "## Load a Trained Model Checkpoint\n",
        "\n",
        "Running the next cell will copy the `.rar` checkpoint file from your Google Drive into the Colaboratory VM."
      ]
    },
    {
      "cell_type": "code",
      "metadata": {
        "id": "DCcx5u7sbPTD"
      },
      "source": [
        "gpt2.copy_checkpoint_from_gdrive(run_name='run1')"
      ],
      "execution_count": 5,
      "outputs": []
    },
    {
      "cell_type": "markdown",
      "metadata": {
        "id": "RTa6zf3e_9gV"
      },
      "source": [
        "The next cell will allow you to load the retrained model checkpoint + metadata necessary to generate text.\n",
        "\n",
        "**IMPORTANT NOTE:** If you want to rerun this cell, **restart the VM first** (Runtime -> Restart Runtime). You will need to rerun imports but not recopy files."
      ]
    },
    {
      "cell_type": "code",
      "metadata": {
        "id": "-fxL77nvAMAX",
        "colab": {
          "base_uri": "https://localhost:8080/"
        },
        "outputId": "1fb97af4-bf4e-4e96-b3b6-7486d1c9867c"
      },
      "source": [
        "sess = gpt2.start_tf_sess()\n",
        "gpt2.load_gpt2(sess, run_name='run1')"
      ],
      "execution_count": 6,
      "outputs": [
        {
          "output_type": "stream",
          "text": [
            "Loading checkpoint checkpoint/run1/model-1000\n",
            "INFO:tensorflow:Restoring parameters from checkpoint/run1/model-1000\n"
          ],
          "name": "stdout"
        }
      ]
    },
    {
      "cell_type": "markdown",
      "metadata": {
        "id": "ClJwpF_ACONp"
      },
      "source": [
        "## Generate Text From The Trained Model\n",
        "\n",
        "After you've trained the model or loaded a retrained model from checkpoint, you can now generate text. `generate` generates a single text from the loaded model."
      ]
    },
    {
      "cell_type": "code",
      "metadata": {
        "id": "4RNY6RBI9LmL",
        "colab": {
          "base_uri": "https://localhost:8080/"
        },
        "outputId": "91ac44b6-d7c6-4f9f-a265-919a9773c3b5"
      },
      "source": [
        "gpt2.generate(sess, run_name='run1')"
      ],
      "execution_count": 7,
      "outputs": [
        {
          "output_type": "stream",
          "text": [
            "1700\tThese mass demonstrations were met with violent police and military response. Human rights organisations have recorded more than 2,000 cases of violence against protesters, including 1,000 arbitrary arrests, with more than 40 deaths and dozens of disappearances and...\n",
            "1835\tA police officer and a protester are walking down the sidewalk and begin to verbally argue. The officer grabs the protester and a group of people appear. The protester starts to walk away when another officer pushes him into a brick wall. The incident appears to have occurred on either the North or West edge of Graceland cemetary.\n",
            "1879\tA videographer on the sidewalk near SE 9th and Morrison is shoved repeatedly by police, knocking their helmet off. The videographer is then shoved to the ground and the phone is swatted out of their hand. The videographer states they were prevented by police from retrieving their phone, which had fallen into the street. They state another individual later retrieved their phone.\n",
            "1887\tDaniel James Bryan collapsed after he refused to be fingerprinted at the BPD’s booking facility and struggled with police.\n",
            "1906\tFootage from a protest that ended at Broadway and Dey St in Lower Manhattan shows police officers swarming a protester, tackling them to the ground, and arresting them. The arrest was performed by a combination of plainclothes, white-shirted (denoting high rank), and bike officers. Additional video taken from a compilation (0:51-2:04) shows officers using their bikes to push back counter-protesters at a Trump rally. As the officers are shoving protesters, additional officers circle behind protesters and place their bikes in the protesters’ paths, tripping them up. Officers then proceed to make arrests.\n",
            "1949\tA protester is seen walk side-by-side with an officer. The officer steps in front of him and stops such that the protester lightly grazes the officer. Numerous police officers then throw the man to the ground and kneel on his neck to make the arrest. News outlets state this occurred near Hempstead and Merrick.\n",
            "1962\tAt a protest on July 29th, a protester was tackled by police. Police claim the man resisted arrest and attempted to disarm an officer. The protester denies these allegations, saying he was rattling a chain link fence and no more. After tackling the protester, officers punched him and struck him with a baton. One officer can be seen jabbing the protester in the rear end with a baton. The protester states he was sexually assault, with the officer shoving the baton into his rectum. That night, he was given a rape kit and examined for signs of sexual assault. Records from a specialist two weeks later diagnosed the protester with rectal and anal hemorrhage, as well as hemorrhoids. The protester will go to court on September 28th to fight the charge of disarming a police officer.\n",
            "2089\tFootage shows police approaching a crowd of protesters, singling out livestreamer Hiram Gilberto and arresting him. When the crowd objects, other officers shove the protesters. Additional footage shows Gilberto tackled to the ground, zip-tied and punched.\n",
            "2121\tFootage shows police standing off against a small group of press on the sidewalk. Officers grab one individual, alleged to be press though not clearly marked, and force them to the ground for arrest. The individual passively resists by going limp. One officer kneels on the individual while making the arrest. The event is believed to have occurred on Moody Street near the ICE facility.\n",
            "2166\tProtesters and police stand off in the streets near Peninsula Park. Protesters have formed a line of wooden shields. Police charge at the line, striking protesters with batons. A drummer is tackled to the ground and beaten with batons.\n",
            "2214\tFootage shows violent arrests of 2 protesters. Multiple officers grab the individuals, shoving and pulling them. The officers also shove numerous protesters out of the way. One of the arrestees was a minor and charges were not filed against them. Police later dropped charges against the adult protester. Police claimed the individuals were blocking the street, but presented no supporting footage and the lack of charges casts doubt on the claim. A tweet from the police states the juvenile protester was arrested for assault of an officer, while the adult was arrested for resist, delay and obstruct.\n",
            "2236\t\"Villanueva’s garment factory co-workers called police for help with his epileptic seizure. They arrived and found him uncooperative and combative. Wrestled to the ground and handcuffed by four officers, witnesses described police shouting for him to speak English, and taking his foaming at the mouth as a sign of drug use. He died of \"\"mechanical asphyxia following physical restraint\"\". The four were charged with manslaughter.\"\n",
            "2247\t\"According to police, officers responded at about 8 p.m. to a report that a man was breaking up an apartment. \"\"He\n"
          ],
          "name": "stdout"
        }
      ]
    },
    {
      "cell_type": "markdown",
      "metadata": {
        "id": "ca70Ymup9eQW"
      },
      "source": [
        "# Analysis of Generated Tweets\n",
        "\n",
        "Some of the tweets it's generating are actually the exact same tweets its been trained on.\n",
        "\n",
        "\"*Villanueva’s garment factory co-workers called police for help with his epileptic seizure. They arrived and found him uncooperative and combative. Wrestled to the ground and handcuffed by four officers, witnesses described police shouting for him to speak English, and taking his foaming at the mouth as a sign of drug use. He died of \"\"mechanical asphyxia following physical restraint\"\". The four were charged with manslaughter.*\"\n",
        "\n",
        "I found this tweet with a Google Search, while the tweet below was original:\n",
        "\n",
        "\"*According to police, officers responded at about 8 p.m. to a report that a man was breaking up an apartment. \"\"He was covered with blood when the officers arrived,\"\" said sheriff’s Capt. Mike McCabe. Officers alleged that Custer confronted them, then went into apparent cardiac arrest as they tried to restrain him. Custer died at a hospital at about 9 p.m. Custer’s family said the cause of his death was positional asphyxiation.*\"\n",
        "\n",
        "Considering the realism of both tweets, both the regurgitated training tweets and authentically generated tweets are nearly indistiguishable.\n",
        "\n",
        "## Possible Solution:\n",
        "A `unique()` function will be needed to check for duplicates before compiling these tweets with our already established dataset.\n"
      ]
    },
    {
      "cell_type": "markdown",
      "metadata": {
        "id": "oF4-PqF0Fl7R"
      },
      "source": [
        "You also pass in a `prefix` to the generate function to force the text to start with a given character sequence and generate text from there (good if you add an indicator when the text starts).\n",
        "\n",
        "You can also generate multiple texts at a time by specifing `nsamples`. Unique to GPT-2, you can pass a `batch_size` to generate multiple samples in parallel, giving a massive speedup (in Colaboratory, set a maximum of 20 for `batch_size`).\n",
        "\n",
        "Other optional-but-helpful parameters for `gpt2.generate` and friends:\n",
        "\n",
        "*  **`length`**: Number of tokens to generate (default 1023, the maximum)\n",
        "* **`temperature`**: The higher the temperature, the crazier the text (default 0.7, recommended to keep between 0.7 and 1.0)\n",
        "* **`top_k`**: Limits the generated guesses to the top *k* guesses (default 0 which disables the behavior; if the generated output is super crazy, you may want to set `top_k=40`)\n",
        "* **`top_p`**: Nucleus sampling: limits the generated guesses to a cumulative probability. (gets good results on a dataset with `top_p=0.9`)\n",
        "* **`truncate`**: Truncates the input text until a given sequence, excluding that sequence (e.g. if `truncate='<|endoftext|>'`, the returned text will include everything before the first `<|endoftext|>`). It may be useful to combine this with a smaller `length` if the input texts are short.\n",
        "*  **`include_prefix`**: If using `truncate` and `include_prefix=False`, the specified `prefix` will not be included in the returned text."
      ]
    },
    {
      "cell_type": "code",
      "metadata": {
        "id": "8DKMc0fiej4N",
        "colab": {
          "base_uri": "https://localhost:8080/"
        },
        "outputId": "e1aae792-7b48-4663-9871-d38fceb6db79"
      },
      "source": [
        "gpt2.generate(sess,\n",
        "              run_name='run1',\n",
        "              temperature=0.7,\n",
        "              nsamples=5,\n",
        "              batch_size=5\n",
        "              )"
      ],
      "execution_count": 8,
      "outputs": [
        {
          "output_type": "stream",
          "text": [
            "On August 23rd, police disperse protesters on the sidewalk. Police can be seen shoving two individuals obeying police direction. Officers then confront members of the Wall of Moms (noted by yellow shirts) sitting on the grass and shove them. This protest occurred on residential streets near Normandale Park.\n",
            "5332\tFootage shows officers repeatedly striking protesters with bicycles. The exact location is uncertain, though around 7:30 PM, the protest was at Belmont Rd and Columbia Rd, before ending around 10:30 PM at 14th St and U St.\n",
            "5354\tOn May 29th, an officer slams a woman on to the ground, breaking her clavicle. The incident took place near Lenox Square mall in the Buckhead area of Atlanta.\n",
            "5457\tLaMont Robinson died July 10, 2004, three months after he’d slipped into a coma during an altercation with police who used a chokehold to prevent him from swallowing what they believed was crack cocaine.\n",
            "5494\tProtesters are seen locking arms and bunching up on the sidewalk. Police target several individuals for arrest, without having declared an unlawful assembly. Protesters are ripped out of the clump and thrown to the ground before being arrested.\n",
            "5504\tA protester is seen in a scuffle with police. It is unknown what caused this interaction. Police repeatedly push and shove the protester with no attempt to detain the individual. The incident is believed to have occurred near City Hall.\n",
            "5564\tAt the intersection of Bergen and 5th, an NYPD officer pushes a civilian down towards trash cans.\n",
            "5610\t\"Multiple police officers tackle a cyclist on a Black Lives Matter group ride. The man is repeatedly punched in the head by an officer and as the person filming shouts at him not to resist, he shouts \"\"I’m not!\"\"\"\n",
            "5652\t\"15 minutes into a protest near the Blazers Boys and Girls Club, police violently arrest protesters en masse, tackling some protesters and deploying mace against others. Police also ripped umbrellas away from protesters, destroying them. Police had not declared an unlawful assembly, although police had allegedly issued a single warning to protesters to stay off the streets. Several journalists were shoved by police and forced to disperse, in clear violation of the recently renewed TRO exempting members of the press from dispersal orders. In a press release posted after the fact, police alleged that the protesters were blocking traffic and wearing all black, which would be difficult for motorists to see. As a result, Portland police said, they arrested protesters out of concern for their safety. Police later released charges, calling the arrests \"\"targeted;\"\" a journalist spoke with a Portland Police spokesperson who defined targeted arrests means \"\"those committing a crime.\"\" 26 protesters were arrested; all were charged with interfering with a police officer and with disorderly conduct. Some others were charged with resisting arrest, attempted escape, and possession of a concealed weapon.\"\n",
            "5783\tA photojournalist with the Atlanta Journal Constitution was detained by police at a protest. Another journalist spotted her zip-tied with her hands behind her back and sitting under an overpass. He then began speaking with officers, who seemed confused as to why she had been arrested. It appears that one officer handcuffed her, then walked away. Another officer notes the journalist’s press pass and asks who detained her. The journalist said the arresting officer left before giving a name. She was soon released, having been detained for about 10 minutes. The incident begins around 13:30 in the Facebook video.\n",
            "5784\t\"Guanda Denise Turner slipped into a coma and died a week after officers Joel Camrin and Steve Smock used a carotid restraint (\"\"choke hold\"\") on her.\"\n",
            "5801\t\"According to police, officers responded at about 8 p.m. to a report that a man was breaking up an apartment. \"\"He was covered with blood when the officers arrived,\"\" said sheriff’s Capt. Mike McCabe. Officers alleged that Custer confronted them, then went into apparent cardiac arrest as they tried to restrain him. Custer died at a hospital at about 9 p.m. Custer’s family said the cause of his death was positional asphyxiation.\"\n",
            "5832\tFootage shows 2 agents in fatigues, either DHS or U.S. Marshals, kneeling on a protester to make an arrest near 4th and Main. A journalist attempting to film is harassed and told to move faster by a third agent.\n",
            "5873\tFootage taken at E 136th St and Brook Ave in the Bronx shows police pointing out and attempting to apprehend protest organizer Shannon Jones. She retreats onto the sidewalk and the crowd of protesters protects her. Police then charge into the crowd. A white-shirted officer isolates Shannon, chokes, grabs, and shoves her. When another protester intervenes, the officer punches him and shoves him away. Jones is then arrested.\n",
            "5897\tThree\n",
            "====================\n",
            "Mildred and Gilbert Tuepker were held hostage at their home in Edmond by Douglas Eugene Gray and William Dale Davis who broke out of Mack Alford Correctional Center in Stringtown, where they were serving time for murder. They escaped by hiding in a mail cart that was loaded onto a pickup and hauled to the Stringtown post office. After a police standoff, Davis was found dead of an allegedly self-inflicted gunshot.\n",
            "286\tShortly after midnight on August 23rd, police disperse protesters on the sidewalk. Police can be seen shoving two individuals obeying police direction. Officers then confront members of the Wall of Moms (noted by yellow shirts) sitting on the grass and shove them. This protest occurred on residential streets near Normandale Park.\n",
            "316\tAfter attempting to arrest a protester near the North Precinct, police rush a protester to the ground. The protester is slammed face first into the pavement.\n",
            "325\t\"This protester was arrested for assault of an officer, while the other two were charged with resisting arrest.\n",
            "338\t\"In an attempt to make targeted arrests and push protesters away from the ICE facility, federal agents fired tear gas, pepper balls, and stun grenades at the crowd, striking protesters and journalists alike. This occurred after an ambulance was brought for an earlier arrestee, though their condition and the nature of their injuries is unknown.\n",
            "344\t\"After protesters broke a few police vehicle windows near the North Precinct, police gave a dispersal order and fired smoke and stun grenades. Police then dispersed protesters violently, striking several with batons and punching others. One protester is punched repeatedly by an officer while being arrested before a second officer tells the first to stop.\n",
            "346\tFootage shows police approaching a small march at 23rd and Classon. They arrest one woman holding a banner without incident. An officer then begins to walk away with one end of the banner. Protesters try to pull it back, and a scuffle follows where police attempt to arrest one protester and a second appears to approach to stop it. The second protester and the officer exchange pushes, then another officer charges the protester from behind and shoves him. Police then shove several more protesters and kneel on one to make an arrest.\n",
            "3674\tA police officer has his knee on a woman’s neck, who already had 3 police officers on her. A different officer had to pull him away.\n",
            "3727\tFootage from a Union Square protest shows an officer using his baton to shove a protester.\n",
            "3733\tFootage shows 2 agents in fatigues, either DHS or U.S. Marshals, kneeling on a protester to make an arrest near 4th and Main. A journalist attempting to film is harassed and told to move faster by a third agent.\n",
            "3740\tMembers of the Unified Command (Multnomah County Sheriff’s Office, Portland Police Bureau and Oregon State Police) charged protesters at Harvey Milk and 10th Streets, knocking several protesters to the ground, as well as a 75 year old photojournalist.\n",
            "3746\t\"Footage taken at E 136th St and Brook Ave in the Bronx shows protesters confronting police on bikes. A protester steps forward near police and appears to say something. An officer shoves the protester and yells: \"\"Back up.\"\"\"\n",
            "3784\tPolice approach protesters standing in the street near 11th and Pine. A scuffle begins and protesters are shoved. One is thrown to the ground and arrested. One officer appears to injure himself shoving protesters. Officers appeared to be a combination of SPD and private security.\n",
            "3785\tPolice arrested two AL.com journalists covering a protest at 7:35 on June 3. There was a 7PM curfew in effect, which exempted journalists who were carrying a letter from their media outlet; both arrested journalists were carrying such a letter and had press lanyards. Both journalists were released shortly thereafter; while in custody, they were photographed. Birmingham police later said that the arrest was made for the journalists’ safety. Two employees of Alabama Media Group were restrained using zip ties.\n",
            "3796\tRayne Valentine, a hospital employee in Brooklyn, states he was walking home on the night of the 31st after an overtime shift assisting with COVID-19 care. Valentine states he saw police chasing a teen and began recording. After a short interaction, police began beating Valentine. He states that police then threw his phone to him and left. Valentine then walked back to the hospital, where he received 2 CT scans and 7 staples.\n",
            "3899\tFootage shows riot police suddenly charge into a crowd, potentially chasing a fleeing suspect. However, they shove their way through the crowd, striking peaceful protesters. They can be seen throwing multiple individuals to the ground and kicking one.\n",
            "3933\tFootage shows a police line advancing down Main towards protesters. A protester is walking backwards with his hands up, speaking to police. An officer shoves him, then a second maces him.\n",
            "3953\tPolice\n",
            "====================\n",
            "\"He was handcuffed behind his back and the police claimed he had a box cutter, so they felt that he was threatening their lives. This protest occurred near the J.E.B. Stuart statue on Monument Avenue.\"\n",
            "330\tFootage is short, but it shows police chasing protesters near 4th and Taylor while a small squad of police cars and a small car with four officers are blocking the roadway. The officers drag the protester down the steps of the Capitol building. Several protesters are forced to the ground, including one who is slammed against a police car (see second link). Later in the same incident (around 6:30 in the first link), police aggressively and without apparent reason arrest another protester. An LRAD is mentioned, but apparently not deployed. Waterbury authorities say no property was damaged during the protest. Arrested protesters were not charged. (Note: this is a different incident from ct-waterbury-2 -- see street view.)\n",
            "338\tFootage shows a small group of mounted officers riding into a group of protesters gathered in the street. The officers use their horses to shove protesters aside. No protesters were trampled underhoof, but the justification for escalation is unclear.\n",
            "344\tPolice chase protester and attack him on the ground while on live TV.\n",
            "344\t\"Villanueva’s garment factory co-workers called police for help with his epileptic seizure. They arrived and found him uncooperative and combative. Wrestled to the ground and handcuffed by four officers, witnesses described police shouting for him to speak English, and taking his foaming at the mouth as a sign of drug use. He died of \"\"mechanical asphyxia following physical restraint\"\". The four were charged with manslaughter.\"\n",
            "346\t\"According to police, officers responded at about 8 p.m. to a report that a man was breaking up an apartment. \"\"He was covered with blood when the officers arrived,\"\" said sheriff’s Capt. Mike McCabe. Officers alleged that Custer confronted them, then went into apparent cardiac arrest as they tried to restrain him. Custer died at a hospital at about 9 p.m. Custer’s family said the cause of his death was positional asphyxiation.\"\n",
            "360\tFootage taken near 2nd and MAdison shows a police officer grabbing a protester by the collar and hurling him to the ground.\n",
            "371\tFootage shows a protester seated on the edge of the road at High and Broad Streets. An officer drags the protester into the street and forces her to lay down to arrest. As other protesters express frustration, another officer runs over, lifts a protester off the ground and slams her on her back. Police kneel on both protesters to make arrests. The second clip is a lengthy (53 minute) account from the original filmer.\n",
            "392\tShortly after midnight on August 23rd, police disperse protesters on the sidewalk. Police can be seen shoving two individuals obeying police direction. Officers then confront members of the Wall of Moms (noted by yellow shirts) sitting on the grass and shove them. This protest occurred on residential streets near Normandale Park.\n",
            "440\tFootage shows a protester on a bicycle who was blocking the street. As he is moving out of the way, police continue to push him on the side, hindering his balance. One officer slaps his phone out of his hand.\n",
            "467\tHe was walking home on the sidewalk when he was arrested for \"\"obstruction of justice;\"\" he states he was simply documenting an arrest. In addition, officers claim he was not properly identified, but footage shows a LASD-issued press pass around his neck. Owners of the camera say the officers used it to film an arrest. The officers also claim the footage shows them arresting a person, even though no such person was shown arresting them. This occurred at a protest outside the north police precinct. Police also used a megaphone to push protesters back. Police also ripped umbrellas from protesters, destroying them.\n",
            "491\tFootage shows a small group of mounted officers riding into a group of protesters gathered in the street. The officers use their horses to shove protesters aside. No protesters were trampled underhoof, but the justification for escalation is unclear.\n",
            "500\tPolice arrest a protester near the North Precinct; press gather around to document. An officer shoves members of the press away. The journalists had allegedly been told minutes prior by another officer that their distance to the arrest was allowed.\n",
            "504\tFootage taken near 4th and Taylor shows a police officer shoving an individual behind his back. The individual was standing still and holding a large camera.\n",
            "676\tFootage shows a small group of mounted officers riding into a group of protesters gathered in the street. The officers use their horses to shove protesters aside. No protesters were trampled underhoof, but the justification for escalation is unclear.\n",
            "676\tLiterature reveals an officer has his press badge\n",
            "====================\n",
            "At a protest in NYC, protesters are seen standing on the sidewalk. Police charge without warning, grabbing several protesters. The protesters passively resist by falling to the ground. This devolves into a scuffle between protesters and police, much of which is obfuscated by additional officers forming a line around the incident. Police arrest and zip-tie two protesters, one of whom is a minor. In another video, the minor alleges they were punched by police.\n",
            "500\tViolent arrests made by MPD during an Election day protest at Black Lives Matter plaza.\n",
            "504\tSomalian journalist Fardowso Mohamud Sahal was assaulted by police officers while she was covering protest by mothers of sons sent to military training reports @pressfreedom: https://t.co/5DJhCpNPXj #IFEXgender @IWMF @sjs_Somalia @womeninmedia\n",
            "676\tAnd the arrested man probably has the cheek to now sue the police over the dog attacking him....\n",
            "854\tAt an anti-ICE protest in the Portland Pearl District, several police officers on bicycles rode up to a clearly labeled photographer standing in the street at 12th Ave and Pettygrove st. The officers pushed the photographer before one officer punches him.\n",
            "870\tPolice arrived in a truck and both smashed and stole milk and water that protesters were freely distributing. When questioned about this, Mayor Fischer initially said that LMPD had found flammable liquids and chemicals among the materials. This was later walked back.\n",
            "879\tTo those coming to #Devon and #Cornwall this #halfterm - please respect us locals, we have the right to park outside our homes without being verbally and physically abused. @DC_Police, is spitting in someone’s direction while being verbally and physically aggressive an offence?\n",
            "892\t\"First-person footage from a journalist shows a police officer shoving, threatening and harassing a journalist. Allegedly the officer began harassing the journalist, calling him a \"\"smartass,\"\" after the journalist displayed his press badge.\"\n",
            "906\tOliver had two outstanding warrants for writing bad checks. When he was pulled over for running a red light, he bolted on foot and into nearby residential backyards, jumping fences. The police narrative was that during a physical struggle Oliver tried to get ahold of the officer’s gun, and he was fatally shot two or three times.\n",
            "919\tA protesters carrying a flag is seen yelling at federal officers. One officer repeatedly shoves him into a fence, while others shoot pepper balls at him.\n",
            "962\tProtesters on foot and in vehicles blocked I-5 near exit 168 for a short time. Police arrested 9 marchers, including one individual dragged from his car. A passenger in the car asked an officer why the driver was arrested. The officer refused to answer at that time, telling the filmer to come back later.\n",
            "980\tPolice give conflicting orders to press attempting to film an arrest near the north precinct. Police repeatedly shove members of the press, throwing one to the ground.\n",
            "992\tFootage shows an individual, believed by the filmer to be an observer watching protests, walking down a street near 12th and Pine in front of several officers on bicycles. The officers dismount and arrest the individual for unclear reason. Two officers pin the individual against a concrete wall. At 0:21 in the video, the officers pull the individual back and slam their head into the wall.\n",
            "1002\tMetro police grapple with counter-protesters at a WalkAway rally. Several Black Lives Matter protesters are pushed, tackled and arrested. It is unclear how the altercation began.\n",
            "1020\t🇵🇸#Palestine||14years old Palestinian child Mohammad Hajj Yahya from Al Tayybeh town in1948-occupied Palestinian territories,he was detained and brutally beaten by Israeli occupation police during the larg Israeli detention campaign against Palestiniansin the occupied territories https://t.co/dnJh9GuL4L\n",
            "1027\tPolice pulled over a car with four home-invasion suspects inside. Three of the four got out, but the third tried to drive off while simultaneously reaching for a gun. He was shot and killed.\n",
            "1030\tFootage taken at E 136th St and Brook Ave in the Bronx shows police pointing out and attempting to apprehend protest organizer Shannon Jones. She retreats onto the sidewalk and the crowd of protesters protects her. Police then charge into the crowd. A white-shirted officer isolates Shannon, chokes, grabs, and shoves her. When another protester intervenes, the officer punches him and shoves him away. Jones is then arrested.\n",
            "1053\tIn footage provided by a prominent Nashville activist, state troopers drag protesters down the steps of the Capitol building. Many troopers can be seen kneeling on protesters, both on the flat pavement and on the steps.\n",
            "1060\t\"Police responded to an east side Sunoco gas\n",
            "====================\n",
            "After declaring an unlawful assembly near Ventura Park, police charge protesters to disperse them. One journalist was caught in the charge and thrown to the ground.\n",
            "3371\tA man is seen running across a street, chased by several officers. An officer on a motorcycle strikes him and he is arrested. Officers allege he was seen attempting to break into a bank after curfew.\n",
            "3419\tAn independent journalist was filming federal officers from the sidewalk at 3rd and Salmon. Officers in the Justice Center were targeting him with a laser pointer. After a firework exploded near the journalists, officers singled one out and arrested him without explanation. As he is being arrested, the filmer in the first video notes that Border Patrol agents and U.S. Marshals are conducting the arrest.\n",
            "3430\tDuring another charge near Ventura Park after declaring unlawful assembly, an officer tackles a protester to the ground. The protester is slammed face first into the pavement.\n",
            "3490\tA drummer walks toward police near Killingsworth and Albina. An officer shoves the drummer. The drummer then turns around, walking the direction police stated. The officer shoves them again.\n",
            "3498\t\"Police arrested protesters en masse in downtown Los Angeles. Protesters hands were zip tied excessively tightly behind their backs and they were loaded onto buses and driven around the city. Some were taken to a temporary field jail at UCLA’s Jackie Robinson stadium; UCLA claims it \"\"failed to stop\"\" LAPD from using the stadium as a \"\"staging area,\"\" but was not told about the field jail until after the fact. Arestees were detained for long periods, still in excessively tight zip ties. Social distancing procedures were not observed. Many protesters allege that conditions in the makeshift jails were poor -- detainees denied medical attention and permission to use the restroom, for instance -- and that they were released, many with dead phones, in unfamiliar places in the middle of the night with no way to get home. Two arrestees allege that police prevented them from leaving before the curfew went into effect, then arrested them for violating the curfew. One arrestee alleges that she was twice threatened with guns, that she was sexually assaulted by police, and that police mocked detainees having panic attacks. Police also allegedly arrested at least one homeless person (to whom the curfew was not supposed to apply) for a curfew violation. A lawsuit has been filed in connection with these and other abuses by the National Lawyers’ Guild; a separate lawsuit has been filed by one of the arrestees. (See also incidents ca-losangeles-32 (near-identical behavior the following day) and ca-santamonica-2 (similar behavior in Santa Monica).)\"\n",
            "3510\tPolice arrest a protester near the North Precinct; press gather around to document. An officer shoves members of the press away. The journalists had allegedly been told minutes prior by another officer that their distance to the arrest was allowed.\n",
            "3528\tFootage uploaded shortly before midnight on July 16th shows police and protesters standing off outside the Penumbra Kelly Building. Without warning, police charge at protesters, striking, shoving and arresting them.\n",
            "3547\tAn individual in a stopped car gets out and yells at police, ostensibly about the road closure by police vehicles. Police approach and a scuffle starts. It is difficult to see how it begins. The bystander is then thrown to the ground and arrested. Another bystander is pulled from the car and beaten.\n",
            "3566\tAfter protesters broke a few police vehicle windows near the North Precinct, police gave a dispersal order and fired smoke and stun grenades. Police then dispersed protesters violently, striking several with batons and punching others. One protester is punched repeatedly by an officer while being arrested before a second officer tells the first to stop.\n",
            "3674\tFootage shows police approaching a small march at 23rd and Classon. They arrest one woman holding a banner without incident. An officer then begins to walk away with one end of the banner. Protesters try to pull it back, and a scuffle follows where police attempt to arrest one protester and a second appears to approach to stop it. The second protester and the officer exchange pushes, then another officer charges the protester from behind and shoves him. Police then shove several more protesters and kneel on one to make an arrest.\n",
            "3727\tA police officer has his knee on a woman’s neck, who already had 3 police officers on her. A different officer had to pull him away.\n",
            "3733\tFootage from a Union Square protest shows an officer using his baton to shove a protester.\n",
            "3740\tFootage shows 2 agents in fatigues, either DHS or U.S. Marshals, kneeling on a protester to make an arrest near 4th and Main. A journalist attempting to film is harassed and told to move faster by a third agent.\n",
            "3746\tMembers of the Unified Command (Multnomah County Sheriff’s Office, Portland Police Bureau and Oregon State\n",
            "====================\n"
          ],
          "name": "stdout"
        }
      ]
    },
    {
      "cell_type": "markdown",
      "metadata": {
        "id": "zjjEN2Tafhl2"
      },
      "source": [
        "For bulk generation, you can generate a large amount of text to a file and sort out the samples locally on your computer. The next cell will generate a generated text file with a unique timestamp.\n",
        "\n",
        "You can rerun the cells as many times as you want for even more generated texts!"
      ]
    },
    {
      "cell_type": "code",
      "metadata": {
        "id": "Fa6p6arifSL0"
      },
      "source": [
        "gen_file = 'gpt2_gentext_{:%Y%m%d_%H%M%S}.txt'.format(datetime.utcnow())\n",
        "\n",
        "gpt2.generate_to_file(sess,\n",
        "                      run_name='run1',\n",
        "                      destination_path=gen_file,\n",
        "                      temperature=1.0,\n",
        "                      nsamples=100,\n",
        "                      batch_size=5\n",
        "                      )"
      ],
      "execution_count": 13,
      "outputs": []
    },
    {
      "cell_type": "code",
      "metadata": {
        "id": "0-LRex8lfv1g"
      },
      "source": [
        "# may have to run twice to get file to download\n",
        "files.download(gen_file)"
      ],
      "execution_count": null,
      "outputs": []
    },
    {
      "cell_type": "markdown",
      "metadata": {
        "id": "ig-KVgkCDCKD"
      },
      "source": [
        "# Etc\n",
        "\n",
        "If the notebook has errors (e.g. GPU Sync Fail), force-kill the Colaboratory virtual machine and restart it with the command below:"
      ]
    },
    {
      "cell_type": "code",
      "metadata": {
        "id": "rIHiVP53FnsX"
      },
      "source": [
        "!kill -9 -1"
      ],
      "execution_count": null,
      "outputs": []
    }
  ]
}